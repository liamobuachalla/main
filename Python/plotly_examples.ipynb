{
 "cells": [
  {
   "cell_type": "code",
   "execution_count": null,
   "id": "adapted-hostel",
   "metadata": {},
   "outputs": [],
   "source": [
    "import plotly.express as px\n",
    "from plotly.offline import iplot\n",
    "import pandas as pd"
   ]
  },
  {
   "cell_type": "markdown",
   "id": "d360f6a4",
   "metadata": {},
   "source": [
    "# Plotly \n",
    "`plotly` is a python package (also and `R` package) that creates interactive graphics with relatively little overhead by the user. Because typically you must input large amounts of data into `plotly` visuals, `pandas` often is used in tandem with `plotly`. The following example imports two data files, filters some data, merges two dataframes, and then feeds needed information into `plotly` to produce line graphs."
   ]
  },
  {
   "cell_type": "markdown",
   "id": "brilliant-conversation",
   "metadata": {},
   "source": [
    "### Read in data files"
   ]
  },
  {
   "cell_type": "code",
   "execution_count": null,
   "id": "hindu-radar",
   "metadata": {},
   "outputs": [],
   "source": [
    "worldpop = pd.read_csv(\"data/worldpop.csv\")\n",
    "covid = pd.read_csv(\"data/covid-data.csv\")"
   ]
  },
  {
   "cell_type": "code",
   "execution_count": null,
   "id": "753c652e",
   "metadata": {},
   "outputs": [],
   "source": [
    "covid"
   ]
  },
  {
   "cell_type": "code",
   "execution_count": null,
   "id": "40aa5aa8",
   "metadata": {},
   "outputs": [],
   "source": [
    "worldpop"
   ]
  },
  {
   "cell_type": "code",
   "execution_count": null,
   "id": "organized-hybrid",
   "metadata": {},
   "outputs": [],
   "source": [
    "covid.date = pd.to_datetime(covid.date)\n",
    "print(covid.date)"
   ]
  },
  {
   "cell_type": "code",
   "execution_count": null,
   "id": "89d921f8",
   "metadata": {},
   "outputs": [],
   "source": [
    "vaccine = covid[covid.date>'2021-01-01']"
   ]
  },
  {
   "cell_type": "code",
   "execution_count": null,
   "id": "4d624cad",
   "metadata": {},
   "outputs": [],
   "source": [
    "vaccine"
   ]
  },
  {
   "cell_type": "markdown",
   "id": "demonstrated-volleyball",
   "metadata": {},
   "source": [
    "### Plot time-series chart of vaccines by country"
   ]
  },
  {
   "cell_type": "code",
   "execution_count": null,
   "id": "allied-edward",
   "metadata": {},
   "outputs": [],
   "source": [
    "fig = px.line(vaccine, x = \"date\", y = \"total_vaccinations\", color = \"location\",\n",
    "              labels = {\"total_vaccinations\": \"Total Vaccinations\"},\n",
    "              title = \"COVID-19 Vaccine Doses Administered\")\n",
    "# px.plotly.iplot(fig)\n",
    "iplot(fig)"
   ]
  },
  {
   "cell_type": "markdown",
   "id": "manufactured-actor",
   "metadata": {},
   "source": [
    "### Plot vaccinations per capita by country"
   ]
  },
  {
   "cell_type": "markdown",
   "id": "young-comedy",
   "metadata": {},
   "source": [
    "#### Data Wrangling"
   ]
  },
  {
   "cell_type": "code",
   "execution_count": null,
   "id": "guilty-louisville",
   "metadata": {},
   "outputs": [],
   "source": [
    "vaccine_grouping = vaccine.groupby(\"iso_code\").last().reset_index()"
   ]
  },
  {
   "cell_type": "code",
   "execution_count": null,
   "id": "bddadc2e",
   "metadata": {
    "scrolled": true
   },
   "outputs": [],
   "source": [
    "vaccine_grouping"
   ]
  },
  {
   "cell_type": "code",
   "execution_count": null,
   "id": "4b48b905",
   "metadata": {},
   "outputs": [],
   "source": [
    "px.bar(vaccine_grouping.sample(n=10),y='location',x='people_vaccinated',orientation='h')"
   ]
  },
  {
   "cell_type": "code",
   "execution_count": null,
   "id": "ordinary-approval",
   "metadata": {},
   "outputs": [],
   "source": [
    "merged_df = worldpop.merge(vaccine_grouping, left_on = \"Country Code\", right_on = \"iso_code\")[[\"Country Code\", \"location\", \"people_vaccinated\",\"Population\"]]"
   ]
  },
  {
   "cell_type": "code",
   "execution_count": null,
   "id": "12c199e3",
   "metadata": {},
   "outputs": [],
   "source": [
    "merged_df"
   ]
  },
  {
   "cell_type": "code",
   "execution_count": null,
   "id": "sexual-mistress",
   "metadata": {},
   "outputs": [],
   "source": [
    "merged_df[\"percent_vaccinated\"] = merged_df[\"people_vaccinated\"] / merged_df[\"Population\"]"
   ]
  },
  {
   "cell_type": "code",
   "execution_count": null,
   "id": "traditional-onion",
   "metadata": {},
   "outputs": [],
   "source": [
    "def change_color(c):\n",
    "    if c[\"percent_vaccinated\"] < 0.3:\n",
    "        return \"Low Vaccination Rate\"\n",
    "    elif c[\"percent_vaccinated\"] > 0.6:\n",
    "        return \"High Vaccination Rate\"\n",
    "    else:\n",
    "        return \"Moderate Vaccination Rate\""
   ]
  },
  {
   "cell_type": "code",
   "execution_count": null,
   "id": "signed-healing",
   "metadata": {},
   "outputs": [],
   "source": [
    "merged_df[\"vaccination_rate\"] = merged_df.apply(change_color, axis = 1)"
   ]
  },
  {
   "cell_type": "markdown",
   "id": "wired-protocol",
   "metadata": {},
   "source": [
    "#### Plot"
   ]
  },
  {
   "cell_type": "code",
   "execution_count": null,
   "id": "rotary-chest",
   "metadata": {},
   "outputs": [],
   "source": [
    "percent_vaccinated = px.bar(merged_df.sample(n=10), x = \"location\", y = \"percent_vaccinated\", color = \"vaccination_rate\",\n",
    "                            labels = {\"location\":\"Country\",\"percent_vaccinated\": \"Percent of Pop. Vaccinated\", \"vaccination_rate\": \"Vaccination Rate\"},\n",
    "                            title = \"COVID-19 Vaccinations Rates\")\n",
    "iplot(percent_vaccinated)"
   ]
  },
  {
   "cell_type": "code",
   "execution_count": null,
   "id": "21f8ef01",
   "metadata": {},
   "outputs": [],
   "source": []
  }
 ],
 "metadata": {
  "kernelspec": {
   "display_name": "Python 3 (ipykernel)",
   "language": "python",
   "name": "python3"
  },
  "language_info": {
   "codemirror_mode": {
    "name": "ipython",
    "version": 3
   },
   "file_extension": ".py",
   "mimetype": "text/x-python",
   "name": "python",
   "nbconvert_exporter": "python",
   "pygments_lexer": "ipython3",
   "version": "3.11.8"
  }
 },
 "nbformat": 4,
 "nbformat_minor": 5
}
