{
 "cells": [
  {
   "cell_type": "markdown",
   "metadata": {},
   "source": [
    "# Python Control Statements\n",
    "The so-called \"control statments\" allow the inputted and/or calculated values in the program to determine the next command executed. `if`, `for`, and `while` statements all fall under the category of control statements. \n",
    "## `if` statements\n",
    "`if` statements test a condition and then executes a command depending on whether that condition returns `true` (1) or `false` (0). An `if` can be supplemented with a `else` or and `elsif` for further refinement.\n",
    "\n",
    "<img src=\"figures/ifelifelse.jpg\" width=300>\n"
   ]
  },
  {
   "cell_type": "code",
<<<<<<< Updated upstream
   "execution_count": 1,
   "metadata": {},
   "outputs": [
    {
     "name": "stdout",
     "output_type": "stream",
     "text": [
      "z is even\n"
     ]
    }
   ],
=======
   "execution_count": null,
   "metadata": {},
   "outputs": [],
>>>>>>> Stashed changes
   "source": [
    "z = 4;\n",
    "if z % 2 == 0:\n",
    "    print(\"z is even\")"
   ]
  },
  {
   "cell_type": "code",
<<<<<<< Updated upstream
   "execution_count": 3,
   "metadata": {},
   "outputs": [
    {
     "data": {
      "text/plain": [
       "2"
      ]
     },
     "execution_count": 3,
     "metadata": {},
     "output_type": "execute_result"
    }
   ],
   "source": [
    "113%3"
   ]
  },
  {
   "cell_type": "code",
   "execution_count": 5,
   "metadata": {},
   "outputs": [
    {
     "name": "stdout",
     "output_type": "stream",
     "text": [
      "z is odd\n"
     ]
    }
   ],
=======
   "execution_count": null,
   "metadata": {},
   "outputs": [],
   "source": []
  },
  {
   "cell_type": "code",
   "execution_count": null,
   "metadata": {},
   "outputs": [],
>>>>>>> Stashed changes
   "source": [
    "z = 9;\n",
    "if z % 2 == 0:\n",
    "    print(\"z is even\")\n",
    "else:\n",
    "    print(\"z is odd\")"
   ]
  },
  {
   "cell_type": "code",
<<<<<<< Updated upstream
   "execution_count": 13,
   "metadata": {},
   "outputs": [
    {
     "name": "stdout",
     "output_type": "stream",
     "text": [
      "Looking elsewhere\n",
      "The office looks pretty small\n"
     ]
    }
   ],
   "source": [
    "room = \"office\"\n",
    "area = 3\n",
=======
   "execution_count": null,
   "metadata": {},
   "outputs": [],
   "source": [
    "room = \"kit\"\n",
    "area = 19\n",
>>>>>>> Stashed changes
    "if room ==\"kit\":\n",
    "    print(\"Looking in the kitchen\")\n",
    "elif room ==\"bed\":\n",
    "    print(\"Looking in the bedroom\")\n",
    "elif room ==\"liv\":\n",
    "    print(\"Looking in the living room\")\n",
    "else:\n",
    "    print(\"Looking elsewhere\")\n",
    "\n",
    "if area>15:\n",
    "    print(\"The \" +room+ \" is pretty big\")\n",
    "else:\n",
    "    print(\"The \"+room+ \" looks pretty small\")"
   ]
  },
  {
   "cell_type": "markdown",
   "metadata": {},
   "source": [
    "## `for` Loop\n",
    "A `for` loop is used to iterate over a sequence, or perform the same operation on a set of data. Most programming languages have another method of iterating over an arrays, lists, or dictionaries, but a `for` statement is still needed in some cases.\n",
    "\n",
    "<img src=\"figures/forloop.jpg\" width=300>"
   ]
  },
  {
   "cell_type": "code",
<<<<<<< Updated upstream
   "execution_count": 17,
   "metadata": {},
   "outputs": [
    {
     "name": "stdout",
     "output_type": "stream",
     "text": [
      "0 Mississippi!\n",
      "1 Mississippi!\n",
      "2 Mississippi!\n",
      "3 Mississippi!\n",
      "4 Mississippi!\n",
      "5 Mississippi!\n",
      "6 Mississippi!\n",
      "7 Mississippi!\n",
      "8 Mississippi!\n",
      "9 Mississippi!\n",
      "10 Mississippi!\n",
      "11 Mississippi!\n",
      "12 Mississippi!\n"
     ]
    }
   ],
   "source": [
    "for k in range(0,13):\n",
=======
   "execution_count": null,
   "metadata": {},
   "outputs": [],
   "source": [
    "for k in range(1,13):\n",
>>>>>>> Stashed changes
    "    print(str(k) + \" Mississippi!\")"
   ]
  },
  {
   "cell_type": "code",
<<<<<<< Updated upstream
   "execution_count": 21,
   "metadata": {},
   "outputs": [
    {
     "data": {
      "text/plain": [
       "51"
      ]
     },
     "execution_count": 21,
     "metadata": {},
     "output_type": "execute_result"
    }
   ],
   "source": [
    "electoral = {\"Alabama\":9,\"Alaska\":3,\"Arizona\":11,\"Arkansas\":6,\"California\":54,\"Colorado\":10,\"Connecticut\":7,\"Delaware\":3,\"District of Columbia\":3,\"Florida\":30,\"Georgia\":16,\"Hawaii\":4,\"Idaho\":4,\"Illinois\":19,\"Indiana\":11,\"Iowa\":6,\"Kansas\":6,\"Kentucky\":8,\"Louisiana\":8,\"Maine\":4,\"Maryland\":10,\"Massachusetts\": 11,\"Michigan\":15,\"Minnesota\":10,\"Mississippi\":6,\"Missouri\":10,\"Montana\":4,\"Nebraska\":5,\"Nevada\":6,\"New Hampshire\":4,\"New Jersey\":14,\"New Mexico\":5,\"New York\":28,\"North Carolina\":16,\"North Dakota\":3,\"Ohio\":17,\"Oklahoma\":7,\"Oregon\":8,\"Pennsylvania\":19,\"Rhode Island\":4,\"South Carolina\":9,\"South Dakota\":3,\"Tennessee\":11,\"Texas\":40,\"Utah\":6,\"Vermont\":3,\"Virginia\":13,\"Washington\":12,\"West Virginia\":4,\"Wisconsin\":10,\"Wyoming\":3}\n",
    "type(electoral)\n",
    "electoral.keys()\n",
    "len(electoral)"
=======
   "execution_count": null,
   "metadata": {},
   "outputs": [],
   "source": [
    "electoral = {\"Alabama\":9,\"Alaska\":3,\"Arizona\":11,\"Arkansas\":6,\"California\":54,\"Colorado\":10,\"Connecticut\":7,\"Delaware\":3,\"District of Columbia\":3,\"Florida\":30,\"Georgia\":16,\"Hawaii\":4,\"Idaho\":4,\"Illinois\":19,\"Indiana\":11,\"Iowa\":6,\"Kansas\":6,\"Kentucky\":8,\"Louisiana\":8,\"Maine\":4,\"Maryland\":10,\"Massachusetts\": 11,\"Michigan\":15,\"Minnesota\":10,\"Mississippi\":6,\"Missouri\":10,\"Montana\":4,\"Nebraska\":5,\"Nevada\":6,\"New Hampshire\":4,\"New Jersey\":14,\"New Mexico\":5,\"New York\":28,\"North Carolina\":16,\"North Dakota\":3,\"Ohio\":17,\"Oklahoma\":7,\"Oregon\":8,\"Pennsylvania\":19,\"Rhode Island\":4,\"South Carolina\":9,\"South Dakota\":3,\"Tennessee\":11,\"Texas\":40,\"Utah\":6,\"Vermont\":3,\"Virginia\":13,\"Washington\":12,\"West Virginia\":4,\"Wisconsin\":10,\"Wyoming\":3}\n",
    "type(electoral)\n",
    "electoral.keys()"
>>>>>>> Stashed changes
   ]
  },
  {
   "cell_type": "code",
<<<<<<< Updated upstream
   "execution_count": 29,
   "metadata": {},
   "outputs": [
    {
     "name": "stdout",
     "output_type": "stream",
     "text": [
      "California\n",
      "Florida\n",
      "New York\n",
      "Texas\n",
      "152\n"
     ]
    }
   ],
   "source": [
    "total=0\n",
=======
   "execution_count": null,
   "metadata": {},
   "outputs": [],
   "source": [
    "total = 0\n",
>>>>>>> Stashed changes
    "for k in electoral.keys():\n",
    "    if electoral[k]>20:\n",
    "        total=electoral[k]+total\n",
    "        print(k)\n",
    "print(total)\n"
   ]
  },
  {
   "cell_type": "markdown",
   "metadata": {},
   "source": [
    "## `while` Loop\n",
    "`while` statements will execute a set of commands until a specified condition is satisfied. In Python, you may include an `else` statement that executes after the while loop is done.\n",
    "\n",
    "<img src=\"figures/whileloop.png\" width = 300>"
   ]
  },
  {
   "cell_type": "code",
<<<<<<< Updated upstream
   "execution_count": 31,
   "metadata": {},
   "outputs": [
    {
     "name": "stdout",
     "output_type": "stream",
     "text": [
      "1\n",
      "2\n",
      "3\n",
      "4\n",
      "5\n",
      "6\n",
      "7\n",
      "8\n"
     ]
    }
   ],
=======
   "execution_count": null,
   "metadata": {},
   "outputs": [],
>>>>>>> Stashed changes
   "source": [
    "k=0\n",
    "while k<8:\n",
    "    k = k + 1;\n",
<<<<<<< Updated upstream
    "    print(k)\n"
=======
    "    print(k)"
>>>>>>> Stashed changes
   ]
  },
  {
   "cell_type": "code",
<<<<<<< Updated upstream
   "execution_count": 33,
   "metadata": {},
   "outputs": [
    {
     "name": "stdout",
     "output_type": "stream",
     "text": [
      "1\n",
      "2\n",
      "3\n",
      "4\n",
      "5\n",
      "6\n",
      "7\n",
      "8\n",
      "now I counted to 8\n"
     ]
    }
   ],
=======
   "execution_count": null,
   "metadata": {},
   "outputs": [],
>>>>>>> Stashed changes
   "source": [
    "k=0\n",
    "while k<8:\n",
    "    k = k + 1;\n",
    "    print(k)\n",
    "else:\n",
    "    print(\"now I counted to \"+str(k))"
   ]
  },
  {
   "cell_type": "code",
<<<<<<< Updated upstream
   "execution_count": 35,
   "metadata": {},
   "outputs": [
    {
     "name": "stdout",
     "output_type": "stream",
     "text": [
      "[('California', 54), ('Texas', 40), ('Florida', 30), ('New York', 28), ('Illinois', 19), ('Pennsylvania', 19), ('Ohio', 17), ('Georgia', 16), ('North Carolina', 16), ('Michigan', 15), ('New Jersey', 14), ('Virginia', 13), ('Washington', 12), ('Arizona', 11), ('Indiana', 11), ('Massachusetts', 11), ('Tennessee', 11), ('Colorado', 10), ('Maryland', 10), ('Minnesota', 10), ('Missouri', 10), ('Wisconsin', 10), ('Alabama', 9), ('South Carolina', 9), ('Kentucky', 8), ('Louisiana', 8), ('Oregon', 8), ('Connecticut', 7), ('Oklahoma', 7), ('Arkansas', 6), ('Iowa', 6), ('Kansas', 6), ('Mississippi', 6), ('Nevada', 6), ('Utah', 6), ('Nebraska', 5), ('New Mexico', 5), ('Hawaii', 4), ('Idaho', 4), ('Maine', 4), ('Montana', 4), ('New Hampshire', 4), ('Rhode Island', 4), ('West Virginia', 4), ('Alaska', 3), ('Delaware', 3), ('District of Columbia', 3), ('North Dakota', 3), ('South Dakota', 3), ('Vermont', 3), ('Wyoming', 3)]\n"
     ]
    }
   ],
=======
   "execution_count": null,
   "metadata": {},
   "outputs": [],
>>>>>>> Stashed changes
   "source": [
    "sortedvotes = sorted(electoral.items(), key=lambda x: x[1], reverse=True)\n",
    "print(sortedvotes)"
   ]
  },
  {
   "cell_type": "code",
<<<<<<< Updated upstream
   "execution_count": 37,
   "metadata": {},
   "outputs": [
    {
     "name": "stdout",
     "output_type": "stream",
     "text": [
      "California\n",
      "Texas\n",
      "Florida\n",
      "New York\n",
      "Illinois\n",
      "Pennsylvania\n",
      "Ohio\n",
      "Georgia\n",
      "North Carolina\n",
      "Michigan\n",
      "New Jersey\n",
      "Virginia\n",
      "It only takes 12 states to win the Presidency\n"
     ]
    }
   ],
   "source": [
    "s=0;\n",
    "k=0;\n",
    "while s<270:\n",
=======
   "execution_count": null,
   "metadata": {},
   "outputs": [],
   "source": [
    "s=0;\n",
    "k=0;\n",
    "while s<271:\n",
>>>>>>> Stashed changes
    "    s = sortedvotes[k][1] +s\n",
    "    print(sortedvotes[k][0])\n",
    "    k+=1\n",
    "else: \n",
    "    print(\"It only takes \"+str(k)+ \" states to win the Presidency\")\n",
    "    "
   ]
  },
  {
   "cell_type": "code",
<<<<<<< Updated upstream
   "execution_count": 39,
   "metadata": {},
   "outputs": [
    {
     "data": {
      "text/plain": [
       "dict_items([('Alabama', 9), ('Alaska', 3), ('Arizona', 11), ('Arkansas', 6), ('California', 54), ('Colorado', 10), ('Connecticut', 7), ('Delaware', 3), ('District of Columbia', 3), ('Florida', 30), ('Georgia', 16), ('Hawaii', 4), ('Idaho', 4), ('Illinois', 19), ('Indiana', 11), ('Iowa', 6), ('Kansas', 6), ('Kentucky', 8), ('Louisiana', 8), ('Maine', 4), ('Maryland', 10), ('Massachusetts', 11), ('Michigan', 15), ('Minnesota', 10), ('Mississippi', 6), ('Missouri', 10), ('Montana', 4), ('Nebraska', 5), ('Nevada', 6), ('New Hampshire', 4), ('New Jersey', 14), ('New Mexico', 5), ('New York', 28), ('North Carolina', 16), ('North Dakota', 3), ('Ohio', 17), ('Oklahoma', 7), ('Oregon', 8), ('Pennsylvania', 19), ('Rhode Island', 4), ('South Carolina', 9), ('South Dakota', 3), ('Tennessee', 11), ('Texas', 40), ('Utah', 6), ('Vermont', 3), ('Virginia', 13), ('Washington', 12), ('West Virginia', 4), ('Wisconsin', 10), ('Wyoming', 3)])"
      ]
     },
     "execution_count": 39,
     "metadata": {},
     "output_type": "execute_result"
    }
   ],
=======
   "execution_count": null,
   "metadata": {},
   "outputs": [],
>>>>>>> Stashed changes
   "source": [
    "electoral.items()"
   ]
  },
  {
   "cell_type": "markdown",
   "metadata": {},
   "source": [
    "# `Try`/`Except` Statements\n",
    "\n",
    "\n",
    "<img src=\"figures/trystatement.png\" width=400>\n",
    "`try`/`except` statements are used to catch exceptions (errors) that are thrown by Python. The advantage of using a `try` statement is that it allows your program to continue and possibly fix the problem. At the very least, it will allow you to clean up after the error.\n",
    "\n",
    "The `try` statement can contain several components. The code underneath `try` always executes. Only when that code throws an exception does the code underneath `except` run. You may also include an `else` statement that runs when no exception is thrown. Finally, you can include a `finally` statement that always executes. \n",
    "\n",
    "Whenever a step in your code is at risk of running into an error, you should think about putting a `try` statement before it. For example, when trying to open a file, a number of things can go wrong.   "
   ]
  },
  {
   "cell_type": "code",
<<<<<<< Updated upstream
   "execution_count": 41,
   "metadata": {},
   "outputs": [
    {
     "name": "stdout",
     "output_type": "stream",
     "text": [
      "Something went wrong with the file\n"
     ]
    }
   ],
=======
   "execution_count": null,
   "metadata": {},
   "outputs": [],
>>>>>>> Stashed changes
   "source": [
    "try:\n",
    "    #open a non-existent file\n",
    "    fhandle = open('NotAFile.txt','r')\n",
    "except:\n",
    "    #print something in the case of an error\n",
    "    print(\"Something went wrong with the file\")"
   ]
  },
  {
   "cell_type": "code",
<<<<<<< Updated upstream
   "execution_count": 45,
   "metadata": {},
   "outputs": [
    {
     "name": "stdout",
     "output_type": "stream",
     "text": [
      "1850\t-0.17\n",
      "\n"
     ]
    }
   ],
   "source": [
    "try:\n",
    "    #open an existent file?\n",
    "    fhandle = open('test1.txt','r')\n",
=======
   "execution_count": null,
   "metadata": {},
   "outputs": [],
   "source": [
    "try:\n",
    "    #open an existent file?\n",
    "    fhandle = open('input.txt','r')\n",
>>>>>>> Stashed changes
    "except:\n",
    "    print(\"Something went wrong with the file\")\n",
    "else:\n",
    "    x = fhandle.readline()\n",
    "    print(x)\n",
    "    fhandle.close()"
   ]
  },
  {
   "cell_type": "code",
<<<<<<< Updated upstream
   "execution_count": 55,
   "metadata": {},
   "outputs": [
    {
     "name": "stdout",
     "output_type": "stream",
     "text": [
      "898754\n",
      "[449377.0, 1348132.0, 674066.0, 337033.0, 1011100.0, 505550.0, 252775.0, 758326.0, 379163.0, 1137490.0, 568745.0, 1706236.0, 853118.0, 426559.0, 1279678.0, 639839.0, 1919518.0, 959759.0, 2879278.0, 1439639.0, 4318918.0, 2159459.0, 6478378.0, 3239189.0, 9717568.0, 4858784.0, 2429392.0, 1214696.0, 607348.0, 303674.0, 151837.0, 455512.0, 227756.0, 113878.0, 56939.0, 170818.0, 85409.0, 256228.0, 128114.0, 64057.0, 192172.0, 96086.0, 48043.0, 144130.0, 72065.0, 216196.0, 108098.0, 54049.0, 162148.0, 81074.0, 40537.0, 121612.0, 60806.0, 30403.0, 91210.0, 45605.0, 136816.0, 68408.0, 34204.0, 17102.0, 8551.0, 25654.0, 12827.0, 38482.0, 19241.0, 57724.0, 28862.0, 14431.0, 43294.0, 21647.0, 64942.0, 32471.0, 97414.0, 48707.0, 146122.0, 73061.0, 219184.0, 109592.0, 54796.0, 27398.0, 13699.0, 41098.0, 20549.0, 61648.0, 30824.0, 15412.0, 7706.0, 3853.0, 11560.0, 5780.0, 2890.0, 1445.0, 4336.0, 2168.0, 1084.0, 542.0, 271.0, 814.0, 407.0, 1222.0, 611.0, 1834.0, 917.0, 2752.0, 1376.0, 688.0, 344.0, 172.0, 86.0, 43.0, 130.0, 65.0, 196.0, 98.0, 49.0, 148.0, 74.0, 37.0, 112.0, 56.0, 28.0, 14.0, 7.0, 22.0, 11.0, 34.0, 17.0, 52.0, 26.0, 13.0, 40.0, 20.0, 10.0, 5.0, 16.0, 8.0, 4.0, 2.0, 1.0]\n"
     ]
    }
   ],
=======
   "execution_count": null,
   "metadata": {},
   "outputs": [],
>>>>>>> Stashed changes
   "source": [
    "listing = []\n",
    "try: \n",
    "    print(variable)\n",
    "except:\n",
    "    print('no such variable')\n",
    "else:\n",
    "    while variable != 1:\n",
    "        if variable % 2:\n",
    "            variable = 3*variable + 1\n",
    "            listing.append(variable)\n",
    "        else:\n",
    "            variable = variable/2\n",
    "            listing.append(variable)\n",
    "finally:\n",
    "    print(listing)"
   ]
  },
  {
   "cell_type": "code",
<<<<<<< Updated upstream
   "execution_count": 53,
   "metadata": {},
   "outputs": [],
   "source": [
    "variable=898754"
=======
   "execution_count": null,
   "metadata": {},
   "outputs": [],
   "source": [
    "variable=73"
>>>>>>> Stashed changes
   ]
  },
  {
   "cell_type": "code",
   "execution_count": null,
   "metadata": {},
   "outputs": [],
<<<<<<< Updated upstream
   "source": []
=======
   "source": [
    "if -98641:\n",
    "    print('yes')"
   ]
>>>>>>> Stashed changes
  },
  {
   "cell_type": "code",
   "execution_count": null,
   "metadata": {},
   "outputs": [],
   "source": []
  }
 ],
 "metadata": {
  "kernelspec": {
   "display_name": "Python 3 (ipykernel)",
   "language": "python",
   "name": "python3"
  },
  "language_info": {
   "codemirror_mode": {
    "name": "ipython",
    "version": 3
   },
   "file_extension": ".py",
   "mimetype": "text/x-python",
   "name": "python",
   "nbconvert_exporter": "python",
   "pygments_lexer": "ipython3",
<<<<<<< Updated upstream
   "version": "3.11.8"
=======
   "version": "3.12.4"
>>>>>>> Stashed changes
  }
 },
 "nbformat": 4,
 "nbformat_minor": 4
}
