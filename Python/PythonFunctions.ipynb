{
 "cells": [
  {
   "cell_type": "markdown",
   "metadata": {},
   "source": [
    "# Importing Functions into Jupyter Notebooks\n",
    "Python allows users to write functions for specific tasks and to call those functions. Python function definitions allow you to specify input and output arguments. You can save functions to a file and call them from other scripts, notebooks, or functions that you write. But how do you call function written elsewhere in Jupyter Notebooks??\n",
    "\n",
    "For example, the files `fun.py` and `funcpass.py` are files that contains several functions around our projectile. We can load these files just as we load modules into python programs. In fact, we call python files that contain multiple function definitions and/or class definitions as modules.\n",
    "\n",
    "So, let's explore the modules `fun` and `funcpass`."
   ]
  },
  {
   "cell_type": "code",
   "execution_count": 2,
   "metadata": {
    "scrolled": true
   },
   "outputs": [
    {
     "name": "stdout",
     "output_type": "stream",
     "text": [
      "8.16326530612245\n"
     ]
    }
   ],
   "source": [
    "import fun as fun"
   ]
  },
  {
   "cell_type": "code",
   "execution_count": 4,
   "metadata": {},
   "outputs": [
    {
     "data": {
      "text/plain": [
       "(1.4285714285714286, 14.0)"
      ]
     },
     "execution_count": 4,
     "metadata": {},
     "output_type": "execute_result"
    }
   ],
   "source": [
    "fun.falling1D(10)"
   ]
  },
  {
   "cell_type": "code",
   "execution_count": 6,
   "metadata": {
    "scrolled": true
   },
   "outputs": [
    {
     "data": {
      "text/plain": [
       "(31.887755102040813, 2.5510204081632653)"
      ]
     },
     "execution_count": 6,
     "metadata": {},
     "output_type": "execute_result"
    }
   ],
   "source": [
    "fun.rising1D(25)"
   ]
  },
  {
   "cell_type": "code",
   "execution_count": 8,
   "metadata": {},
   "outputs": [
    {
     "data": {
      "text/plain": [
       "(25.0, 127.55102040816327, 5.1020408163265305, 31.887755102040813)"
      ]
     },
     "execution_count": 8,
     "metadata": {},
     "output_type": "execute_result"
    }
   ],
   "source": [
    "fun.projectile(25,30,9)"
   ]
  },
  {
   "cell_type": "code",
   "execution_count": 1,
   "metadata": {},
   "outputs": [],
   "source": [
    "import funcpass as fp"
   ]
  },
  {
   "cell_type": "markdown",
   "metadata": {},
   "source": [
    "I should note here that this is not the only way to load functions from a file in Python. You can also load specific functions:\n",
    "```python\n",
    "from funcpass import fpass\n",
    "```\n",
    "after which you may call the function like any other `fpass(arg1,...)`\n",
    "You can load all functions from a file\n",
    "```python\n",
    "from funcpass import *\n",
    "```\n",
    "after which you may again call any function in `funcpass` like any other function `fmap(arg,...)`.\n",
    "\n",
    "We can now use any functions defined with within this file. If you can't remember the functions defined in a file, you can always use the `dir` function,"
   ]
  },
  {
   "cell_type": "code",
   "execution_count": 12,
   "metadata": {},
   "outputs": [
    {
     "data": {
      "text/plain": [
       "['__builtins__',\n",
       " '__cached__',\n",
       " '__doc__',\n",
       " '__file__',\n",
       " '__loader__',\n",
       " '__name__',\n",
       " '__package__',\n",
       " '__spec__',\n",
       " 'fdict',\n",
       " 'feven',\n",
       " 'fmany',\n",
       " 'fmap',\n",
       " 'fpass',\n",
       " 'fsum',\n",
       " 'mh',\n",
       " 'np']"
      ]
     },
     "execution_count": 12,
     "metadata": {},
     "output_type": "execute_result"
    }
   ],
   "source": [
    "dir(fp)"
   ]
  },
  {
   "cell_type": "markdown",
   "metadata": {},
   "source": [
    "**Note**: Any parameter in the above list that is surrounded by double underscores (such as `__name__`) are system parameters. These have nothing to do with the names of user-defined functions within your file! \n",
    "\n",
    "The function names hold information about the function itself,"
   ]
  },
  {
   "cell_type": "code",
   "execution_count": 28,
   "metadata": {},
   "outputs": [
    {
     "data": {
      "text/plain": [
       "{'__name__': 'builtins',\n",
       " '__doc__': \"Built-in functions, types, exceptions, and other objects.\\n\\nThis module provides direct access to all 'built-in'\\nidentifiers of Python; for example, builtins.len is\\nthe full name for the built-in function len().\\n\\nThis module is not normally accessed explicitly by most\\napplications, but can be useful in modules that provide\\nobjects with the same name as a built-in value, but in\\nwhich the built-in of that name is also needed.\",\n",
       " '__package__': '',\n",
       " '__loader__': _frozen_importlib.BuiltinImporter,\n",
       " '__spec__': ModuleSpec(name='builtins', loader=<class '_frozen_importlib.BuiltinImporter'>, origin='built-in'),\n",
       " '__build_class__': <function __build_class__>,\n",
       " '__import__': <function __import__(name, globals=None, locals=None, fromlist=(), level=0)>,\n",
       " 'abs': <function abs(x, /)>,\n",
       " 'all': <function all(iterable, /)>,\n",
       " 'any': <function any(iterable, /)>,\n",
       " 'ascii': <function ascii(obj, /)>,\n",
       " 'bin': <function bin(number, /)>,\n",
       " 'breakpoint': <function breakpoint>,\n",
       " 'callable': <function callable(obj, /)>,\n",
       " 'chr': <function chr(i, /)>,\n",
       " 'compile': <function compile(source, filename, mode, flags=0, dont_inherit=False, optimize=-1, *, _feature_version=-1)>,\n",
       " 'delattr': <function delattr(obj, name, /)>,\n",
       " 'dir': <function dir>,\n",
       " 'divmod': <function divmod(x, y, /)>,\n",
       " 'eval': <function eval(source, globals=None, locals=None, /)>,\n",
       " 'exec': <function exec(source, globals=None, locals=None, /, *, closure=None)>,\n",
       " 'format': <function format(value, format_spec='', /)>,\n",
       " 'getattr': <function getattr>,\n",
       " 'globals': <function globals()>,\n",
       " 'hasattr': <function hasattr(obj, name, /)>,\n",
       " 'hash': <function hash(obj, /)>,\n",
       " 'hex': <function hex(number, /)>,\n",
       " 'id': <function id(obj, /)>,\n",
       " 'input': <bound method Kernel.raw_input of <ipykernel.ipkernel.IPythonKernel object at 0x0000023ED6C95F10>>,\n",
       " 'isinstance': <function isinstance(obj, class_or_tuple, /)>,\n",
       " 'issubclass': <function issubclass(cls, class_or_tuple, /)>,\n",
       " 'iter': <function iter>,\n",
       " 'aiter': <function aiter(async_iterable, /)>,\n",
       " 'len': <function len(obj, /)>,\n",
       " 'locals': <function locals()>,\n",
       " 'max': <function max>,\n",
       " 'min': <function min>,\n",
       " 'next': <function next>,\n",
       " 'anext': <function anext>,\n",
       " 'oct': <function oct(number, /)>,\n",
       " 'ord': <function ord(c, /)>,\n",
       " 'pow': <function pow(base, exp, mod=None)>,\n",
       " 'print': <function print(*args, sep=' ', end='\\n', file=None, flush=False)>,\n",
       " 'repr': <function repr(obj, /)>,\n",
       " 'round': <function round(number, ndigits=None)>,\n",
       " 'setattr': <function setattr(obj, name, value, /)>,\n",
       " 'sorted': <function sorted(iterable, /, *, key=None, reverse=False)>,\n",
       " 'sum': <function sum(iterable, /, start=0)>,\n",
       " 'vars': <function vars>,\n",
       " 'None': None,\n",
       " 'Ellipsis': Ellipsis,\n",
       " 'NotImplemented': NotImplemented,\n",
       " 'False': False,\n",
       " 'True': True,\n",
       " 'bool': bool,\n",
       " 'memoryview': memoryview,\n",
       " 'bytearray': bytearray,\n",
       " 'bytes': bytes,\n",
       " 'classmethod': classmethod,\n",
       " 'complex': complex,\n",
       " 'dict': dict,\n",
       " 'enumerate': enumerate,\n",
       " 'filter': filter,\n",
       " 'float': float,\n",
       " 'frozenset': frozenset,\n",
       " 'property': property,\n",
       " 'int': int,\n",
       " 'list': list,\n",
       " 'map': map,\n",
       " 'object': object,\n",
       " 'range': range,\n",
       " 'reversed': reversed,\n",
       " 'set': set,\n",
       " 'slice': slice,\n",
       " 'staticmethod': staticmethod,\n",
       " 'str': str,\n",
       " 'super': super,\n",
       " 'tuple': tuple,\n",
       " 'type': type,\n",
       " 'zip': zip,\n",
       " '__debug__': True,\n",
       " 'BaseException': BaseException,\n",
       " 'BaseExceptionGroup': BaseExceptionGroup,\n",
       " 'Exception': Exception,\n",
       " 'GeneratorExit': GeneratorExit,\n",
       " 'KeyboardInterrupt': KeyboardInterrupt,\n",
       " 'SystemExit': SystemExit,\n",
       " 'ArithmeticError': ArithmeticError,\n",
       " 'AssertionError': AssertionError,\n",
       " 'AttributeError': AttributeError,\n",
       " 'BufferError': BufferError,\n",
       " 'EOFError': EOFError,\n",
       " 'ImportError': ImportError,\n",
       " 'LookupError': LookupError,\n",
       " 'MemoryError': MemoryError,\n",
       " 'NameError': NameError,\n",
       " 'OSError': OSError,\n",
       " 'ReferenceError': ReferenceError,\n",
       " 'RuntimeError': RuntimeError,\n",
       " 'StopAsyncIteration': StopAsyncIteration,\n",
       " 'StopIteration': StopIteration,\n",
       " 'SyntaxError': SyntaxError,\n",
       " 'SystemError': SystemError,\n",
       " 'TypeError': TypeError,\n",
       " 'ValueError': ValueError,\n",
       " 'Warning': Warning,\n",
       " 'FloatingPointError': FloatingPointError,\n",
       " 'OverflowError': OverflowError,\n",
       " 'ZeroDivisionError': ZeroDivisionError,\n",
       " 'BytesWarning': BytesWarning,\n",
       " 'DeprecationWarning': DeprecationWarning,\n",
       " 'EncodingWarning': EncodingWarning,\n",
       " 'FutureWarning': FutureWarning,\n",
       " 'ImportWarning': ImportWarning,\n",
       " 'PendingDeprecationWarning': PendingDeprecationWarning,\n",
       " 'ResourceWarning': ResourceWarning,\n",
       " 'RuntimeWarning': RuntimeWarning,\n",
       " 'SyntaxWarning': SyntaxWarning,\n",
       " 'UnicodeWarning': UnicodeWarning,\n",
       " 'UserWarning': UserWarning,\n",
       " 'BlockingIOError': BlockingIOError,\n",
       " 'ChildProcessError': ChildProcessError,\n",
       " 'ConnectionError': ConnectionError,\n",
       " 'FileExistsError': FileExistsError,\n",
       " 'FileNotFoundError': FileNotFoundError,\n",
       " 'InterruptedError': InterruptedError,\n",
       " 'IsADirectoryError': IsADirectoryError,\n",
       " 'NotADirectoryError': NotADirectoryError,\n",
       " 'PermissionError': PermissionError,\n",
       " 'ProcessLookupError': ProcessLookupError,\n",
       " 'TimeoutError': TimeoutError,\n",
       " 'IndentationError': IndentationError,\n",
       " 'IndexError': IndexError,\n",
       " 'KeyError': KeyError,\n",
       " 'ModuleNotFoundError': ModuleNotFoundError,\n",
       " 'NotImplementedError': NotImplementedError,\n",
       " 'RecursionError': RecursionError,\n",
       " 'UnboundLocalError': UnboundLocalError,\n",
       " 'UnicodeError': UnicodeError,\n",
       " 'BrokenPipeError': BrokenPipeError,\n",
       " 'ConnectionAbortedError': ConnectionAbortedError,\n",
       " 'ConnectionRefusedError': ConnectionRefusedError,\n",
       " 'ConnectionResetError': ConnectionResetError,\n",
       " 'TabError': TabError,\n",
       " 'UnicodeDecodeError': UnicodeDecodeError,\n",
       " 'UnicodeEncodeError': UnicodeEncodeError,\n",
       " 'UnicodeTranslateError': UnicodeTranslateError,\n",
       " 'ExceptionGroup': ExceptionGroup,\n",
       " 'EnvironmentError': OSError,\n",
       " 'IOError': OSError,\n",
       " 'WindowsError': OSError,\n",
       " 'open': <function io.open(file, mode='r', buffering=-1, encoding=None, errors=None, newline=None, closefd=True, opener=None)>,\n",
       " 'copyright': Copyright (c) 2001-2023 Python Software Foundation.\n",
       " All Rights Reserved.\n",
       " \n",
       " Copyright (c) 2000 BeOpen.com.\n",
       " All Rights Reserved.\n",
       " \n",
       " Copyright (c) 1995-2001 Corporation for National Research Initiatives.\n",
       " All Rights Reserved.\n",
       " \n",
       " Copyright (c) 1991-1995 Stichting Mathematisch Centrum, Amsterdam.\n",
       " All Rights Reserved.,\n",
       " 'credits':     Thanks to CWI, CNRI, BeOpen.com, Zope Corporation and a cast of thousands\n",
       "     for supporting Python development.  See www.python.org for more information.,\n",
       " 'license': See https://www.python.org/psf/license/,\n",
       " 'help': Type help() for interactive help, or help(object) for help about object.,\n",
       " 'execfile': <function _pydev_bundle._pydev_execfile.execfile(file, glob=None, loc=None)>,\n",
       " 'runfile': <function _pydev_bundle.pydev_umd.runfile(filename, args=None, wdir=None, namespace=None)>,\n",
       " '__IPYTHON__': True,\n",
       " 'display': <function IPython.core.display_functions.display(*objs, include=None, exclude=None, metadata=None, transient=None, display_id=None, raw=False, clear=False, **kwargs)>,\n",
       " 'get_ipython': <bound method InteractiveShell.get_ipython of <ipykernel.zmqshell.ZMQInteractiveShell object at 0x0000023ED6C97510>>}"
      ]
     },
     "execution_count": 28,
     "metadata": {},
     "output_type": "execute_result"
    }
   ],
   "source": [
    "type(fp.fpass)\n",
    "fp.__builtins__"
   ]
  },
  {
   "cell_type": "markdown",
   "metadata": {},
   "source": [
    "## Passing functions to functions\n",
    "The example module `funcpass` contain functions that can take other functions as arguments. Passing functions into other functions provides another level of abstraction and control to more complicated programs.\n",
    "\n",
    "For example, `fpass` and `fmap` both take functions as arguments,"
   ]
  },
  {
   "cell_type": "code",
   "execution_count": 3,
   "metadata": {},
   "outputs": [
    {
     "data": {
      "text/plain": [
       "-1"
      ]
     },
     "execution_count": 3,
     "metadata": {},
     "output_type": "execute_result"
    }
   ],
   "source": [
    "fexample = lambda x: x**3-2*x+1\n",
    "fp.fpass(fexample, 1, 0)"
   ]
  },
  {
   "cell_type": "code",
   "execution_count": 32,
   "metadata": {},
   "outputs": [
    {
     "name": "stdout",
     "output_type": "stream",
     "text": [
      "[57, 5, 330, 712, 1]\n"
     ]
    },
    {
     "data": {
      "text/plain": [
       "[57, 5, 330, 712, 1]"
      ]
     },
     "execution_count": 32,
     "metadata": {},
     "output_type": "execute_result"
    }
   ],
   "source": [
    "explist = [4,2,7,9,0]\n",
    "fp.fmap(fexample, explist)"
   ]
  },
  {
   "cell_type": "markdown",
   "metadata": {},
   "source": [
    "The functions `fsum`, `fmany`, and `fdict` are examples of how you can write a function that takes an arbitrary number of arguments."
   ]
  },
  {
   "cell_type": "code",
   "execution_count": 34,
   "metadata": {},
   "outputs": [
    {
     "data": {
      "text/plain": [
       "812"
      ]
     },
     "execution_count": 34,
     "metadata": {},
     "output_type": "execute_result"
    }
   ],
   "source": [
    "fp.fsum(4,5,8,0,-3,6,4,9,779)"
   ]
  },
  {
   "cell_type": "code",
   "execution_count": 36,
   "metadata": {
    "scrolled": true
   },
   "outputs": [
    {
     "name": "stdout",
     "output_type": "stream",
     "text": [
      "You have entered:\n",
      "count \n",
      "\n",
      "3 \n",
      "\n",
      "4 \n",
      "\n",
      "{'a': 7, 'b': 8} \n",
      "\n"
     ]
    },
    {
     "data": {
      "text/plain": [
       "('count', 3, 4, {'a': 7, 'b': 8})"
      ]
     },
     "execution_count": 36,
     "metadata": {},
     "output_type": "execute_result"
    }
   ],
   "source": [
    "fp.fmany('count',3,4,{'a':7,'b':8})"
   ]
  },
  {
   "cell_type": "markdown",
   "metadata": {},
   "source": [
    "The last function in the file `funcpass` involves using the argument that is often referred to as `**kwargs` in documentation. `kwargs` (*or whatever name you give it*) acts as a dictionary that you may refer to inside the function."
   ]
  },
  {
   "cell_type": "code",
   "execution_count": 5,
   "metadata": {},
   "outputs": [
    {
     "name": "stdout",
     "output_type": "stream",
     "text": [
      "a = [1, 1, 1]\n",
      "b = [-1, 3, 2]\n",
      "action = cross\n"
     ]
    },
    {
     "data": {
      "text/plain": [
       "array([-1, -3,  4])"
      ]
     },
     "execution_count": 5,
     "metadata": {},
     "output_type": "execute_result"
    }
   ],
   "source": [
    "v1=[1,1,1]\n",
    "v2=[-1,3,2]\n",
    "fp.fdict(a=v1,b=v2, action='cross' )"
   ]
  },
  {
   "cell_type": "code",
   "execution_count": 7,
   "metadata": {},
   "outputs": [
    {
     "name": "stdout",
     "output_type": "stream",
     "text": [
      "a = [1, 1, 1]\n",
      "action = magn\n"
     ]
    },
    {
     "ename": "KeyError",
     "evalue": "'b'",
     "output_type": "error",
     "traceback": [
      "\u001b[1;31m---------------------------------------------------------------------------\u001b[0m",
      "\u001b[1;31mKeyError\u001b[0m                                  Traceback (most recent call last)",
      "Cell \u001b[1;32mIn[7], line 1\u001b[0m\n\u001b[1;32m----> 1\u001b[0m fp\u001b[38;5;241m.\u001b[39mfdict(a\u001b[38;5;241m=\u001b[39mv1, action \u001b[38;5;241m=\u001b[39m \u001b[38;5;124m'\u001b[39m\u001b[38;5;124mmagn\u001b[39m\u001b[38;5;124m'\u001b[39m)\n",
      "File \u001b[1;32m~\\My Drive\\Programs\\courses\\main\\Python\\funcpass.py:46\u001b[0m, in \u001b[0;36mfdict\u001b[1;34m(**diction)\u001b[0m\n\u001b[0;32m     44\u001b[0m     \u001b[38;5;28mprint\u001b[39m(key,\u001b[38;5;124m'\u001b[39m\u001b[38;5;124m=\u001b[39m\u001b[38;5;124m'\u001b[39m, values)\n\u001b[0;32m     45\u001b[0m a \u001b[38;5;241m=\u001b[39m np\u001b[38;5;241m.\u001b[39marray(diction[\u001b[38;5;124m'\u001b[39m\u001b[38;5;124ma\u001b[39m\u001b[38;5;124m'\u001b[39m])\n\u001b[1;32m---> 46\u001b[0m b \u001b[38;5;241m=\u001b[39m np\u001b[38;5;241m.\u001b[39marray(diction[\u001b[38;5;124m'\u001b[39m\u001b[38;5;124mb\u001b[39m\u001b[38;5;124m'\u001b[39m])\n\u001b[0;32m     47\u001b[0m \u001b[38;5;28;01mif\u001b[39;00m diction[\u001b[38;5;124m'\u001b[39m\u001b[38;5;124maction\u001b[39m\u001b[38;5;124m'\u001b[39m] \u001b[38;5;241m==\u001b[39m \u001b[38;5;124m'\u001b[39m\u001b[38;5;124mmagnitude\u001b[39m\u001b[38;5;124m'\u001b[39m:\n\u001b[0;32m     48\u001b[0m     product \u001b[38;5;241m=\u001b[39m mh\u001b[38;5;241m.\u001b[39msqrt(\u001b[38;5;28msum\u001b[39m(\u001b[38;5;28mpow\u001b[39m(element,\u001b[38;5;241m2\u001b[39m) \u001b[38;5;28;01mfor\u001b[39;00m element \u001b[38;5;129;01min\u001b[39;00m a))\n",
      "\u001b[1;31mKeyError\u001b[0m: 'b'"
     ]
    }
   ],
   "source": [
    "fp.fdict(a=v1, action = 'magn')"
   ]
  },
  {
   "cell_type": "code",
   "execution_count": 9,
   "metadata": {},
   "outputs": [
    {
     "ename": "NameError",
     "evalue": "name 'np' is not defined",
     "output_type": "error",
     "traceback": [
      "\u001b[1;31m---------------------------------------------------------------------------\u001b[0m",
      "\u001b[1;31mNameError\u001b[0m                                 Traceback (most recent call last)",
      "Cell \u001b[1;32mIn[9], line 1\u001b[0m\n\u001b[1;32m----> 1\u001b[0m np\u001b[38;5;241m.\u001b[39marray([\u001b[38;5;241m4\u001b[39m,\u001b[38;5;241m5\u001b[39m])\n",
      "\u001b[1;31mNameError\u001b[0m: name 'np' is not defined"
     ]
    }
   ],
   "source": [
    "np.array([4,5])"
   ]
  },
  {
   "cell_type": "code",
   "execution_count": 11,
   "metadata": {},
   "outputs": [
    {
     "data": {
      "text/plain": [
       "array([4, 5])"
      ]
     },
     "execution_count": 11,
     "metadata": {},
     "output_type": "execute_result"
    }
   ],
   "source": [
    "fp.np.array([4,5])"
   ]
  },
  {
   "cell_type": "code",
   "execution_count": null,
   "metadata": {},
   "outputs": [],
   "source": []
  }
 ],
 "metadata": {
  "kernelspec": {
   "display_name": "Python 3 (ipykernel)",
   "language": "python",
   "name": "python3"
  },
  "language_info": {
   "codemirror_mode": {
    "name": "ipython",
    "version": 3
   },
   "file_extension": ".py",
   "mimetype": "text/x-python",
   "name": "python",
   "nbconvert_exporter": "python",
   "pygments_lexer": "ipython3",
   "version": "3.11.8"
  }
 },
 "nbformat": 4,
 "nbformat_minor": 4
}
