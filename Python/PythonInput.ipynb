{
 "cells": [
  {
   "cell_type": "markdown",
   "metadata": {},
   "source": [
    "# Input and Output in Python\n",
    "Inputting data into a program can be the most time intensive activity. Python contains a number of packages designed to import and export data with minimum effort and code. I have included some simple examples below. The most popular package (*or at least the most ubiquitous*) these days is `pandas`. (I have included a pandas cheat sheet in the `main` repository). `Pandas` is a more advanced topic that will be covered later. Right now, all you need to know is that `pandas`introduces a new datatype called `dataframes`. They are powerful and flexible tools for data wrangling.\n",
    "\n",
    "## Details for Navigating File Directories\n",
    "**Details:** You should note that a single backslash does not work when specifying a file path in Python. You need to use a forward slash or add one more backslash as shown in the code below.\n",
    "All the functions below will return a `dataframe`, an object in Python that stores data and allows access with a certain syntax that I often refer to as \"dot notation\"."
   ]
  },
  {
   "cell_type": "code",
<<<<<<< Updated upstream
   "execution_count": 2,
=======
   "execution_count": 1,
>>>>>>> Stashed changes
   "metadata": {},
   "outputs": [
    {
     "name": "stdout",
     "output_type": "stream",
     "text": [
<<<<<<< Updated upstream
      "('C:\\\\Users\\\\tomke\\\\My Drive\\\\Programs\\\\courses\\\\main', 'Python')\n"
=======
      "(\"C:\\\\Users\\\\Liam O'Buachalla\\\\Documents\\\\GitHub\\\\main\", 'Python')\n"
>>>>>>> Stashed changes
     ]
    }
   ],
   "source": [
    "# This code is used to navigate the file structure of main. You may or may not need to run this.\n",
    "import os as os\n",
    "cwdup = os.path.split(os.getcwd())\n",
    "os.chdir(cwdup[0])\n",
    "print(cwdup)"
   ]
  },
  {
   "cell_type": "code",
<<<<<<< Updated upstream
   "execution_count": 4,
=======
   "execution_count": 5,
>>>>>>> Stashed changes
   "metadata": {},
   "outputs": [
    {
     "name": "stdout",
     "output_type": "stream",
     "text": [
<<<<<<< Updated upstream
      "C:\\Users\\tomke\\My Drive\\Programs\\courses\\main\n"
=======
      "C:\\Users\\Liam O'Buachalla\\Documents\\GitHub\\main\n"
>>>>>>> Stashed changes
     ]
    }
   ],
   "source": [
    "print(os.getcwd())"
   ]
  },
  {
   "cell_type": "code",
<<<<<<< Updated upstream
   "execution_count": 6,
=======
   "execution_count": 9,
>>>>>>> Stashed changes
   "metadata": {},
   "outputs": [],
   "source": [
    "os.chdir(cwdup[0]+'\\\\'+cwdup[1])"
   ]
  },
  {
   "cell_type": "code",
<<<<<<< Updated upstream
   "execution_count": 8,
=======
   "execution_count": 11,
>>>>>>> Stashed changes
   "metadata": {},
   "outputs": [
    {
     "name": "stdout",
     "output_type": "stream",
     "text": [
<<<<<<< Updated upstream
      "C:\\Users\\tomke\\My Drive\\Programs\\courses\\main\\Python\n"
=======
      "C:\\Users\\Liam O'Buachalla\\Documents\\GitHub\\main\\Python\n"
>>>>>>> Stashed changes
     ]
    }
   ],
   "source": [
    "print(os.getcwd())"
   ]
  },
  {
   "cell_type": "code",
<<<<<<< Updated upstream
   "execution_count": 10,
=======
   "execution_count": 13,
>>>>>>> Stashed changes
   "metadata": {
    "scrolled": true
   },
   "outputs": [],
   "source": [
    "txtfile = \"data//globaltemps.txt\"\n",
    "csvfile = \"data//sunspotsbyyear.csv\"\n",
    "xlsfile = \"data//GlobalCarbonBudget2022.xlsx\""
   ]
  },
  {
   "cell_type": "code",
<<<<<<< Updated upstream
   "execution_count": 12,
=======
   "execution_count": 15,
>>>>>>> Stashed changes
   "metadata": {},
   "outputs": [
    {
     "data": {
      "text/plain": [
       "'data//globaltemps.txt'"
      ]
     },
<<<<<<< Updated upstream
     "execution_count": 12,
=======
     "execution_count": 15,
>>>>>>> Stashed changes
     "metadata": {},
     "output_type": "execute_result"
    }
   ],
   "source": [
    "txtfile"
   ]
  },
  {
   "cell_type": "markdown",
   "metadata": {},
   "source": [
    "# Functions for Reading Files\n",
    "Python has a number of native functions used to read files. \n",
    "## Native `Open`\n",
    "The function `open` is the simplest and first function to use when opening plain text files. It takes 2 arguments: a string filename and a string option. There are a variety of options you could use, from [geeksforgeeks](https://www.geeksforgeeks.org/open-a-file-in-python/)\n",
    "\n",
    "\n",
    "| Mode | Description |\n",
    "|------|:-------------|\n",
    "| 'r'  | Open text file for reading. Raises an I/O error if the file does not exist. |\n",
    "| 'r+' | Open the file for reading and writing. Raises an I/O error if the file does not exist. |\n",
    "| 'w'  | Open the file for writing. Truncates the file if it already exists. Creates a new file if it does not exist. |\n",
    "| 'w+' | Open the file for reading and writing. Truncates the file if it already exists. Creates a new file if it does not exist. |\n",
    "| 'a'  | Open the file for writing. The data being written will be inserted at the end of the file. Creates a new file if it does not exist. |\n",
    "| 'a+' | Open the file for reading and writing. The data being written will be inserted at the end of the file. Creates a new file if it does not exist. |\n",
    "| 'rb' | Open the file for reading in binary format. Raises an I/O error if the file does not exist. |\n",
    "| 'rb+'| Open the file for reading and writing in binary format. Raises an I/O error if the file does not exist. |\n",
    "| 'wb' | Open the file for writing in binary format. Truncates the file if it already exists. Creates a new file if it does not exist. |\n",
    "| 'wb+'| Open the file for reading and writing in binary format. Truncates the file if it already exists. Creates a new file if it does not exist. |\n",
    "| 'ab' | Open the file for appending in binary format. Inserts data at the end of the file. Creates a new file if it does not exist. |\n",
    "| 'ab+'| Open the file for reading and appending in binary format. Inserts data at the end of the file. Creates a new file if it does not exist. |\n",
    "\n",
    "\n"
   ]
  },
  {
   "cell_type": "code",
<<<<<<< Updated upstream
   "execution_count": 36,
=======
   "execution_count": 89,
>>>>>>> Stashed changes
   "metadata": {},
   "outputs": [
    {
     "data": {
      "text/plain": [
       "_io.TextIOWrapper"
      ]
     },
<<<<<<< Updated upstream
     "execution_count": 36,
=======
     "execution_count": 89,
>>>>>>> Stashed changes
     "metadata": {},
     "output_type": "execute_result"
    }
   ],
   "source": [
    "#Creates a file handle to reference\n",
    "txthandle = open(txtfile, \"r\")\n",
    "type(txthandle)"
   ]
  },
  {
   "cell_type": "code",
<<<<<<< Updated upstream
   "execution_count": 34,
=======
   "execution_count": 69,
>>>>>>> Stashed changes
   "metadata": {},
   "outputs": [
    {
     "data": {
      "text/plain": [
<<<<<<< Updated upstream
       "'-0.12\\n1856\\t-0.25\\n1857\\t-0.28\\n1858\\t-0.21\\n1859\\t-0.09\\n1860\\t-0.23\\n1861\\t-0.25\\n1862\\t-0.3\\n1863\\t-0.15\\n1864\\t-0.19\\n1865\\t-0.13\\n1866\\t-0.1\\n1867\\t-0.17\\n1868\\t-0.14\\n1869\\t-0.11\\n1870\\t-0.17\\n1871\\t-0.17\\n1872\\t-0.17\\n1873\\t-0.19\\n1874\\t-0.21\\n1875\\t-0.2\\n1876\\t-0.22\\n1877\\t0.05\\n1878\\t0.06\\n1879\\t-0.12\\n1880\\t-0.17\\n1881\\t-0.13\\n1882\\t-0.13\\n1883\\t-0.22\\n1884\\t-0.31\\n1885\\t-0.32\\n1886\\t-0.26\\n1887\\t-0.31\\n1888\\t-0.17\\n1889\\t-0.08\\n1890\\t-0.28\\n1891\\t-0.19\\n1892\\t-0.25\\n1893\\t-0.32\\n1894\\t-0.23\\n1895\\t-0.19\\n1896\\t-0.06\\n1897\\t-0.07\\n1898\\t-0.23\\n1899\\t-0.16\\n1900\\t-0.08\\n1901\\t-0.13\\n1902\\t-0.23\\n1903\\t-0.32\\n1904\\t-0.43\\n1905\\t-0.24\\n1906\\t-0.21\\n1907\\t-0.34\\n1908\\t-0.4\\n1909\\t-0.44\\n1910\\t-0.4\\n1911\\t-0.41\\n1912\\t-0.33\\n1913\\t-0.33\\n1914\\t-0.14\\n1915\\t-0.1\\n1916\\t-0.31\\n1917\\t-0.44\\n1918\\t-0.29\\n1919\\t-0.24\\n1920\\t-0.25\\n1921\\t-0.18\\n1922\\t-0.25\\n1923\\t-0.24\\n1924\\t-0.23\\n1925\\t-0.2\\n1926\\t-0.09\\n1927\\t-0.18\\n1928\\t-0.17\\n1929\\t-0.31\\n1930\\t-0.11\\n1931\\t-0.06\\n1932\\t-0.12\\n1933\\t-0.25\\n1934\\t-0.11\\n1935\\t-0.16\\n1936\\t-0.12\\n1937\\t0.01\\n1938\\t0.01\\n1939\\t0.01\\n1940\\t0.15\\n1941\\t0.22\\n1942\\t0.09\\n1943\\t0.1\\n1944\\t0.23\\n1945\\t0.14\\n1946\\t-0.04\\n1947\\t-0.01\\n1948\\t-0.06\\n1949\\t-0.06\\n1950\\t-0.13\\n1951\\t-0.01\\n1952\\t0.05\\n1953\\t0.13\\n1954\\t-0.07\\n1955\\t-0.13\\n1956\\t-0.17\\n1957\\t0.06\\n1958\\t0.09\\n1959\\t0.07\\n1960\\t0.03\\n1961\\t0.07\\n1962\\t0.05\\n1963\\t0.08\\n1964\\t-0.15\\n1965\\t-0.06\\n1966\\t-0.02\\n1967\\t0.02\\n1968\\t-0.06\\n1969\\t0.1\\n1970\\t0.06\\n1971\\t-0.05\\n1972\\t0.03\\n1973\\t0.2\\n1974\\t-0.05\\n1975\\t0.02\\n1976\\t-0.03\\n1977\\t0.21\\n1978\\t0.11\\n1979\\t0.22\\n1980\\t0.29\\n1981\\t0.35\\n1982\\t0.19\\n1983\\t0.35\\n1984\\t0.2\\n1985\\t0.17\\n1986\\t0.22\\n1987\\t0.34\\n1988\\t0.42\\n1989\\t0.3\\n1990\\t0.45\\n1991\\t0.42\\n1992\\t0.24\\n1993\\t0.27\\n1994\\t0.32\\n1995\\t0.48\\n1996\\t0.36\\n1997\\t0.5\\n1998\\t0.63\\n1999\\t0.42\\n2000\\t0.43\\n2001\\t0.55\\n2002\\t0.62\\n2003\\t0.63\\n2004\\t0.55\\n2005\\t0.7\\n2006\\t0.66\\n2007\\t0.66\\n2008\\t0.55\\n2009\\t0.66\\n2010\\t0.73\\n2011\\t0.63\\n2012\\t0.66\\n2013\\t0.68\\n2014\\t0.77\\n2015\\t0.92\\n2016\\t1.03\\n2017\\t0.95\\n2018\\t0.86\\n2019\\t0.98\\n2020\\t1.01\\n2021\\t0.86\\n2022\\t0.91\\n2023\\t1.18\\n\\n'"
      ]
     },
     "execution_count": 34,
=======
       "'1859\\t-0.09\\n1860\\t-0.23\\n1861\\t-0.25\\n1862\\t-0.3\\n1863\\t-0.15\\n1864\\t-0.19\\n1865\\t-0.13\\n1866\\t-0.1\\n1867\\t-0.17\\n1868\\t-0.14\\n1869\\t-0.11\\n1870\\t-0.17\\n1871\\t-0.17\\n1872\\t-0.17\\n1873\\t-0.19\\n1874\\t-0.21\\n1875\\t-0.2\\n1876\\t-0.22\\n1877\\t0.05\\n1878\\t0.06\\n1879\\t-0.12\\n1880\\t-0.17\\n1881\\t-0.13\\n1882\\t-0.13\\n1883\\t-0.22\\n1884\\t-0.31\\n1885\\t-0.32\\n1886\\t-0.26\\n1887\\t-0.31\\n1888\\t-0.17\\n1889\\t-0.08\\n1890\\t-0.28\\n1891\\t-0.19\\n1892\\t-0.25\\n1893\\t-0.32\\n1894\\t-0.23\\n1895\\t-0.19\\n1896\\t-0.06\\n1897\\t-0.07\\n1898\\t-0.23\\n1899\\t-0.16\\n1900\\t-0.08\\n1901\\t-0.13\\n1902\\t-0.23\\n1903\\t-0.32\\n1904\\t-0.43\\n1905\\t-0.24\\n1906\\t-0.21\\n1907\\t-0.34\\n1908\\t-0.4\\n1909\\t-0.44\\n1910\\t-0.4\\n1911\\t-0.41\\n1912\\t-0.33\\n1913\\t-0.33\\n1914\\t-0.14\\n1915\\t-0.1\\n1916\\t-0.31\\n1917\\t-0.44\\n1918\\t-0.29\\n1919\\t-0.24\\n1920\\t-0.25\\n1921\\t-0.18\\n1922\\t-0.25\\n1923\\t-0.24\\n1924\\t-0.23\\n1925\\t-0.2\\n1926\\t-0.09\\n1927\\t-0.18\\n1928\\t-0.17\\n1929\\t-0.31\\n1930\\t-0.11\\n1931\\t-0.06\\n1932\\t-0.12\\n1933\\t-0.25\\n1934\\t-0.11\\n1935\\t-0.16\\n1936\\t-0.12\\n1937\\t0.01\\n1938\\t0.01\\n1939\\t0.01\\n1940\\t0.15\\n1941\\t0.22\\n1942\\t0.09\\n1943\\t0.1\\n1944\\t0.23\\n1945\\t0.14\\n1946\\t-0.04\\n1947\\t-0.01\\n1948\\t-0.06\\n1949\\t-0.06\\n1950\\t-0.13\\n1951\\t-0.01\\n1952\\t0.05\\n1953\\t0.13\\n1954\\t-0.07\\n1955\\t-0.13\\n1956\\t-0.17\\n1957\\t0.06\\n1958\\t0.09\\n1959\\t0.07\\n1960\\t0.03\\n1961\\t0.07\\n1962\\t0.05\\n1963\\t0.08\\n1964\\t-0.15\\n1965\\t-0.06\\n1966\\t-0.02\\n1967\\t0.02\\n1968\\t-0.06\\n1969\\t0.1\\n1970\\t0.06\\n1971\\t-0.05\\n1972\\t0.03\\n1973\\t0.2\\n1974\\t-0.05\\n1975\\t0.02\\n1976\\t-0.03\\n1977\\t0.21\\n1978\\t0.11\\n1979\\t0.22\\n1980\\t0.29\\n1981\\t0.35\\n1982\\t0.19\\n1983\\t0.35\\n1984\\t0.2\\n1985\\t0.17\\n1986\\t0.22\\n1987\\t0.34\\n1988\\t0.42\\n1989\\t0.3\\n1990\\t0.45\\n1991\\t0.42\\n1992\\t0.24\\n1993\\t0.27\\n1994\\t0.32\\n1995\\t0.48\\n1996\\t0.36\\n1997\\t0.5\\n1998\\t0.63\\n1999\\t0.42\\n2000\\t0.43\\n2001\\t0.55\\n2002\\t0.62\\n2003\\t0.63\\n2004\\t0.55\\n2005\\t0.7\\n2006\\t0.66\\n2007\\t0.66\\n2008\\t0.55\\n2009\\t0.66\\n2010\\t0.73\\n2011\\t0.63\\n2012\\t0.66\\n2013\\t0.68\\n2014\\t0.77\\n2015\\t0.92\\n2016\\t1.03\\n2017\\t0.95\\n2018\\t0.86\\n2019\\t0.98\\n2020\\t1.01\\n2021\\t0.86\\n2022\\t0.91\\n2023\\t1.18\\n\\n'"
      ]
     },
     "execution_count": 69,
>>>>>>> Stashed changes
     "metadata": {},
     "output_type": "execute_result"
    }
   ],
   "source": [
    "#Get the whole file's content in one string\n",
    "txthandle.read()"
   ]
  },
  {
   "cell_type": "code",
<<<<<<< Updated upstream
   "execution_count": 32,
=======
   "execution_count": 107,
>>>>>>> Stashed changes
   "metadata": {},
   "outputs": [
    {
     "data": {
      "text/plain": [
<<<<<<< Updated upstream
       "'.11\\n1855\\t'"
      ]
     },
     "execution_count": 32,
=======
       "'.09\\n1852\\t'"
      ]
     },
     "execution_count": 107,
>>>>>>> Stashed changes
     "metadata": {},
     "output_type": "execute_result"
    }
   ],
   "source": [
    "#Get the first n characters\n",
    "txthandle.read(9)"
   ]
  },
  {
   "cell_type": "code",
<<<<<<< Updated upstream
   "execution_count": 54,
=======
   "execution_count": 85,
>>>>>>> Stashed changes
   "metadata": {},
   "outputs": [
    {
     "name": "stdout",
     "output_type": "stream",
     "text": [
<<<<<<< Updated upstream
      "1852\t-0.1\n",
      "\n",
      "1853\t-0.12\n",
=======
      "1858\t-0.21\n",
      "\n",
      "1859\t-0.09\n",
>>>>>>> Stashed changes
      "\n"
     ]
    }
   ],
   "source": [
    "#Read line by line\n",
    "print(txthandle.readline())\n",
    "print(txthandle.readline())"
   ]
  },
  {
   "cell_type": "markdown",
   "metadata": {},
   "source": [
    "## The methods `seek()` and `tell()`\n",
    "The file handle created by `open` keeps track of where it is in the file. The methods `seek` and `tell` exist to let you control and query the location of the file handle within the file. "
   ]
  },
  {
   "cell_type": "code",
<<<<<<< Updated upstream
   "execution_count": 48,
=======
   "execution_count": 111,
>>>>>>> Stashed changes
   "metadata": {},
   "outputs": [
    {
     "data": {
      "text/plain": [
       "0"
      ]
     },
<<<<<<< Updated upstream
     "execution_count": 48,
=======
     "execution_count": 111,
>>>>>>> Stashed changes
     "metadata": {},
     "output_type": "execute_result"
    }
   ],
   "source": [
    "#seek method allows you to move around the file\n",
    "txthandle.seek(0)"
   ]
  },
  {
   "cell_type": "code",
<<<<<<< Updated upstream
   "execution_count": 56,
=======
   "execution_count": 109,
>>>>>>> Stashed changes
   "metadata": {},
   "outputs": [
    {
     "data": {
      "text/plain": [
<<<<<<< Updated upstream
       "47"
      ]
     },
     "execution_count": 56,
=======
       "29"
      ]
     },
     "execution_count": 109,
>>>>>>> Stashed changes
     "metadata": {},
     "output_type": "execute_result"
    }
   ],
   "source": [
    "txthandle.tell()"
   ]
  },
  {
   "cell_type": "code",
<<<<<<< Updated upstream
   "execution_count": 58,
=======
   "execution_count": 113,
>>>>>>> Stashed changes
   "metadata": {},
   "outputs": [],
   "source": [
    "#Always close your file handle!\n",
    "txthandle.close()"
   ]
  },
  {
   "cell_type": "markdown",
   "metadata": {},
   "source": [
    "Great! Can the `open` function open more complicated files? Sure! But beware that even more special characters may appear."
   ]
  },
  {
   "cell_type": "code",
<<<<<<< Updated upstream
   "execution_count": 68,
=======
   "execution_count": 115,
>>>>>>> Stashed changes
   "metadata": {},
   "outputs": [],
   "source": [
    "csvhandle = open(csvfile,'r')"
   ]
  },
  {
   "cell_type": "code",
<<<<<<< Updated upstream
   "execution_count": 66,
   "metadata": {
    "scrolled": true
   },
   "outputs": [
    {
     "data": {
      "text/plain": [
       "''"
      ]
     },
     "execution_count": 66,
     "metadata": {},
     "output_type": "execute_result"
    }
   ],
=======
   "execution_count": null,
   "metadata": {
    "scrolled": true
   },
   "outputs": [],
>>>>>>> Stashed changes
   "source": [
    "csvhandle.read()"
   ]
  },
  {
   "cell_type": "code",
<<<<<<< Updated upstream
   "execution_count": 70,
=======
   "execution_count": 117,
>>>>>>> Stashed changes
   "metadata": {
    "scrolled": true
   },
   "outputs": [
    {
     "data": {
      "text/plain": [
       "'1700.5,8.3,-1,-1,1\\n1701.5,18.3,-1,-1,1\\n1702.5,26.7,-1,-1,1\\n1703.5,38.3,-1,-1,1\\n17'"
      ]
     },
<<<<<<< Updated upstream
     "execution_count": 70,
=======
     "execution_count": 117,
>>>>>>> Stashed changes
     "metadata": {},
     "output_type": "execute_result"
    }
   ],
   "source": [
    "csvhandle.read(81)"
   ]
  },
  {
   "cell_type": "code",
<<<<<<< Updated upstream
   "execution_count": 76,
=======
   "execution_count": 131,
>>>>>>> Stashed changes
   "metadata": {
    "scrolled": true
   },
   "outputs": [
    {
     "data": {
      "text/plain": [
<<<<<<< Updated upstream
       "'1701.5,18.3,-1,-1,1\\n'"
      ]
     },
     "execution_count": 76,
=======
       "'1700.5,8.3,-1,-1,1\\n'"
      ]
     },
     "execution_count": 131,
>>>>>>> Stashed changes
     "metadata": {},
     "output_type": "execute_result"
    }
   ],
   "source": [
    "csvhandle.readline()\n",
<<<<<<< Updated upstream
    "csvhandle.readline()\n"
=======
    "csvhandle.readline()"
>>>>>>> Stashed changes
   ]
  },
  {
   "cell_type": "code",
<<<<<<< Updated upstream
   "execution_count": 78,
=======
   "execution_count": null,
>>>>>>> Stashed changes
   "metadata": {},
   "outputs": [],
   "source": [
    "csvhandle.close()"
   ]
  },
  {
   "cell_type": "markdown",
   "metadata": {},
   "source": [
    "## Numpy\n",
    "The package `numpy` contains functions for reading files; two are `loadtxt` and `genfrom txt`. \n",
    "\n",
    "`loadtxt` reads the file data into a numpy array."
   ]
  },
  {
   "cell_type": "code",
<<<<<<< Updated upstream
   "execution_count": 82,
   "metadata": {},
   "outputs": [
    {
     "data": {
      "text/plain": [
       "numpy.ndarray"
      ]
     },
     "execution_count": 82,
     "metadata": {},
     "output_type": "execute_result"
=======
   "execution_count": 133,
   "metadata": {},
   "outputs": [
    {
     "name": "stdout",
     "output_type": "stream",
     "text": [
      "[[ 1.850e+03 -1.700e-01]\n",
      " [ 1.851e+03 -9.000e-02]\n",
      " [ 1.852e+03 -1.000e-01]\n",
      " [ 1.853e+03 -1.200e-01]\n",
      " [ 1.854e+03 -1.100e-01]\n",
      " [ 1.855e+03 -1.200e-01]\n",
      " [ 1.856e+03 -2.500e-01]\n",
      " [ 1.857e+03 -2.800e-01]\n",
      " [ 1.858e+03 -2.100e-01]\n",
      " [ 1.859e+03 -9.000e-02]\n",
      " [ 1.860e+03 -2.300e-01]\n",
      " [ 1.861e+03 -2.500e-01]\n",
      " [ 1.862e+03 -3.000e-01]\n",
      " [ 1.863e+03 -1.500e-01]\n",
      " [ 1.864e+03 -1.900e-01]\n",
      " [ 1.865e+03 -1.300e-01]\n",
      " [ 1.866e+03 -1.000e-01]\n",
      " [ 1.867e+03 -1.700e-01]\n",
      " [ 1.868e+03 -1.400e-01]\n",
      " [ 1.869e+03 -1.100e-01]\n",
      " [ 1.870e+03 -1.700e-01]\n",
      " [ 1.871e+03 -1.700e-01]\n",
      " [ 1.872e+03 -1.700e-01]\n",
      " [ 1.873e+03 -1.900e-01]\n",
      " [ 1.874e+03 -2.100e-01]\n",
      " [ 1.875e+03 -2.000e-01]\n",
      " [ 1.876e+03 -2.200e-01]\n",
      " [ 1.877e+03  5.000e-02]\n",
      " [ 1.878e+03  6.000e-02]\n",
      " [ 1.879e+03 -1.200e-01]\n",
      " [ 1.880e+03 -1.700e-01]\n",
      " [ 1.881e+03 -1.300e-01]\n",
      " [ 1.882e+03 -1.300e-01]\n",
      " [ 1.883e+03 -2.200e-01]\n",
      " [ 1.884e+03 -3.100e-01]\n",
      " [ 1.885e+03 -3.200e-01]\n",
      " [ 1.886e+03 -2.600e-01]\n",
      " [ 1.887e+03 -3.100e-01]\n",
      " [ 1.888e+03 -1.700e-01]\n",
      " [ 1.889e+03 -8.000e-02]\n",
      " [ 1.890e+03 -2.800e-01]\n",
      " [ 1.891e+03 -1.900e-01]\n",
      " [ 1.892e+03 -2.500e-01]\n",
      " [ 1.893e+03 -3.200e-01]\n",
      " [ 1.894e+03 -2.300e-01]\n",
      " [ 1.895e+03 -1.900e-01]\n",
      " [ 1.896e+03 -6.000e-02]\n",
      " [ 1.897e+03 -7.000e-02]\n",
      " [ 1.898e+03 -2.300e-01]\n",
      " [ 1.899e+03 -1.600e-01]\n",
      " [ 1.900e+03 -8.000e-02]\n",
      " [ 1.901e+03 -1.300e-01]\n",
      " [ 1.902e+03 -2.300e-01]\n",
      " [ 1.903e+03 -3.200e-01]\n",
      " [ 1.904e+03 -4.300e-01]\n",
      " [ 1.905e+03 -2.400e-01]\n",
      " [ 1.906e+03 -2.100e-01]\n",
      " [ 1.907e+03 -3.400e-01]\n",
      " [ 1.908e+03 -4.000e-01]\n",
      " [ 1.909e+03 -4.400e-01]\n",
      " [ 1.910e+03 -4.000e-01]\n",
      " [ 1.911e+03 -4.100e-01]\n",
      " [ 1.912e+03 -3.300e-01]\n",
      " [ 1.913e+03 -3.300e-01]\n",
      " [ 1.914e+03 -1.400e-01]\n",
      " [ 1.915e+03 -1.000e-01]\n",
      " [ 1.916e+03 -3.100e-01]\n",
      " [ 1.917e+03 -4.400e-01]\n",
      " [ 1.918e+03 -2.900e-01]\n",
      " [ 1.919e+03 -2.400e-01]\n",
      " [ 1.920e+03 -2.500e-01]\n",
      " [ 1.921e+03 -1.800e-01]\n",
      " [ 1.922e+03 -2.500e-01]\n",
      " [ 1.923e+03 -2.400e-01]\n",
      " [ 1.924e+03 -2.300e-01]\n",
      " [ 1.925e+03 -2.000e-01]\n",
      " [ 1.926e+03 -9.000e-02]\n",
      " [ 1.927e+03 -1.800e-01]\n",
      " [ 1.928e+03 -1.700e-01]\n",
      " [ 1.929e+03 -3.100e-01]\n",
      " [ 1.930e+03 -1.100e-01]\n",
      " [ 1.931e+03 -6.000e-02]\n",
      " [ 1.932e+03 -1.200e-01]\n",
      " [ 1.933e+03 -2.500e-01]\n",
      " [ 1.934e+03 -1.100e-01]\n",
      " [ 1.935e+03 -1.600e-01]\n",
      " [ 1.936e+03 -1.200e-01]\n",
      " [ 1.937e+03  1.000e-02]\n",
      " [ 1.938e+03  1.000e-02]\n",
      " [ 1.939e+03  1.000e-02]\n",
      " [ 1.940e+03  1.500e-01]\n",
      " [ 1.941e+03  2.200e-01]\n",
      " [ 1.942e+03  9.000e-02]\n",
      " [ 1.943e+03  1.000e-01]\n",
      " [ 1.944e+03  2.300e-01]\n",
      " [ 1.945e+03  1.400e-01]\n",
      " [ 1.946e+03 -4.000e-02]\n",
      " [ 1.947e+03 -1.000e-02]\n",
      " [ 1.948e+03 -6.000e-02]\n",
      " [ 1.949e+03 -6.000e-02]\n",
      " [ 1.950e+03 -1.300e-01]\n",
      " [ 1.951e+03 -1.000e-02]\n",
      " [ 1.952e+03  5.000e-02]\n",
      " [ 1.953e+03  1.300e-01]\n",
      " [ 1.954e+03 -7.000e-02]\n",
      " [ 1.955e+03 -1.300e-01]\n",
      " [ 1.956e+03 -1.700e-01]\n",
      " [ 1.957e+03  6.000e-02]\n",
      " [ 1.958e+03  9.000e-02]\n",
      " [ 1.959e+03  7.000e-02]\n",
      " [ 1.960e+03  3.000e-02]\n",
      " [ 1.961e+03  7.000e-02]\n",
      " [ 1.962e+03  5.000e-02]\n",
      " [ 1.963e+03  8.000e-02]\n",
      " [ 1.964e+03 -1.500e-01]\n",
      " [ 1.965e+03 -6.000e-02]\n",
      " [ 1.966e+03 -2.000e-02]\n",
      " [ 1.967e+03  2.000e-02]\n",
      " [ 1.968e+03 -6.000e-02]\n",
      " [ 1.969e+03  1.000e-01]\n",
      " [ 1.970e+03  6.000e-02]\n",
      " [ 1.971e+03 -5.000e-02]\n",
      " [ 1.972e+03  3.000e-02]\n",
      " [ 1.973e+03  2.000e-01]\n",
      " [ 1.974e+03 -5.000e-02]\n",
      " [ 1.975e+03  2.000e-02]\n",
      " [ 1.976e+03 -3.000e-02]\n",
      " [ 1.977e+03  2.100e-01]\n",
      " [ 1.978e+03  1.100e-01]\n",
      " [ 1.979e+03  2.200e-01]\n",
      " [ 1.980e+03  2.900e-01]\n",
      " [ 1.981e+03  3.500e-01]\n",
      " [ 1.982e+03  1.900e-01]\n",
      " [ 1.983e+03  3.500e-01]\n",
      " [ 1.984e+03  2.000e-01]\n",
      " [ 1.985e+03  1.700e-01]\n",
      " [ 1.986e+03  2.200e-01]\n",
      " [ 1.987e+03  3.400e-01]\n",
      " [ 1.988e+03  4.200e-01]\n",
      " [ 1.989e+03  3.000e-01]\n",
      " [ 1.990e+03  4.500e-01]\n",
      " [ 1.991e+03  4.200e-01]\n",
      " [ 1.992e+03  2.400e-01]\n",
      " [ 1.993e+03  2.700e-01]\n",
      " [ 1.994e+03  3.200e-01]\n",
      " [ 1.995e+03  4.800e-01]\n",
      " [ 1.996e+03  3.600e-01]\n",
      " [ 1.997e+03  5.000e-01]\n",
      " [ 1.998e+03  6.300e-01]\n",
      " [ 1.999e+03  4.200e-01]\n",
      " [ 2.000e+03  4.300e-01]\n",
      " [ 2.001e+03  5.500e-01]\n",
      " [ 2.002e+03  6.200e-01]\n",
      " [ 2.003e+03  6.300e-01]\n",
      " [ 2.004e+03  5.500e-01]\n",
      " [ 2.005e+03  7.000e-01]\n",
      " [ 2.006e+03  6.600e-01]\n",
      " [ 2.007e+03  6.600e-01]\n",
      " [ 2.008e+03  5.500e-01]\n",
      " [ 2.009e+03  6.600e-01]\n",
      " [ 2.010e+03  7.300e-01]\n",
      " [ 2.011e+03  6.300e-01]\n",
      " [ 2.012e+03  6.600e-01]\n",
      " [ 2.013e+03  6.800e-01]\n",
      " [ 2.014e+03  7.700e-01]\n",
      " [ 2.015e+03  9.200e-01]\n",
      " [ 2.016e+03  1.030e+00]\n",
      " [ 2.017e+03  9.500e-01]\n",
      " [ 2.018e+03  8.600e-01]\n",
      " [ 2.019e+03  9.800e-01]\n",
      " [ 2.020e+03  1.010e+00]\n",
      " [ 2.021e+03  8.600e-01]\n",
      " [ 2.022e+03  9.100e-01]\n",
      " [ 2.023e+03  1.180e+00]]\n"
     ]
>>>>>>> Stashed changes
    }
   ],
   "source": [
    "import numpy as np\n",
    "temps = np.loadtxt(txtfile)\n",
<<<<<<< Updated upstream
    "type(temps)"
=======
    "print(temps)"
>>>>>>> Stashed changes
   ]
  },
  {
   "cell_type": "code",
<<<<<<< Updated upstream
   "execution_count": 84,
=======
   "execution_count": 135,
>>>>>>> Stashed changes
   "metadata": {},
   "outputs": [
    {
     "data": {
      "text/plain": [
       "-0.09"
      ]
     },
<<<<<<< Updated upstream
     "execution_count": 84,
=======
     "execution_count": 135,
>>>>>>> Stashed changes
     "metadata": {},
     "output_type": "execute_result"
    }
   ],
   "source": [
    "temps[1,1]"
   ]
  },
  {
   "cell_type": "code",
<<<<<<< Updated upstream
   "execution_count": 86,
=======
   "execution_count": 137,
>>>>>>> Stashed changes
   "metadata": {},
   "outputs": [
    {
     "data": {
      "text/plain": [
       "-0.09"
      ]
     },
<<<<<<< Updated upstream
     "execution_count": 86,
=======
     "execution_count": 137,
>>>>>>> Stashed changes
     "metadata": {},
     "output_type": "execute_result"
    }
   ],
   "source": [
    "temps[1][1]"
   ]
  },
  {
   "cell_type": "markdown",
   "metadata": {},
   "source": [
    "The function `genfromtxt` is more functional in that it can return a masked array and use filling values for **missing data**. To read a file, however, you must specify a `delimiter`, the character that separates values in the file."
   ]
  },
  {
   "cell_type": "code",
<<<<<<< Updated upstream
   "execution_count": 88,
=======
   "execution_count": 139,
>>>>>>> Stashed changes
   "metadata": {},
   "outputs": [
    {
     "data": {
      "text/plain": [
       "array([[ 1.850e+03, -1.700e-01],\n",
       "       [ 1.851e+03, -9.000e-02],\n",
       "       [ 1.852e+03, -1.000e-01],\n",
       "       [ 1.853e+03, -1.200e-01],\n",
       "       [ 1.854e+03, -1.100e-01],\n",
       "       [ 1.855e+03, -1.200e-01],\n",
       "       [ 1.856e+03, -2.500e-01],\n",
       "       [ 1.857e+03, -2.800e-01],\n",
       "       [ 1.858e+03, -2.100e-01],\n",
       "       [ 1.859e+03, -9.000e-02],\n",
       "       [ 1.860e+03, -2.300e-01],\n",
       "       [ 1.861e+03, -2.500e-01],\n",
       "       [ 1.862e+03, -3.000e-01],\n",
       "       [ 1.863e+03, -1.500e-01],\n",
       "       [ 1.864e+03, -1.900e-01],\n",
       "       [ 1.865e+03, -1.300e-01],\n",
       "       [ 1.866e+03, -1.000e-01],\n",
       "       [ 1.867e+03, -1.700e-01],\n",
       "       [ 1.868e+03, -1.400e-01],\n",
       "       [ 1.869e+03, -1.100e-01],\n",
       "       [ 1.870e+03, -1.700e-01],\n",
       "       [ 1.871e+03, -1.700e-01],\n",
       "       [ 1.872e+03, -1.700e-01],\n",
       "       [ 1.873e+03, -1.900e-01],\n",
       "       [ 1.874e+03, -2.100e-01],\n",
       "       [ 1.875e+03, -2.000e-01],\n",
       "       [ 1.876e+03, -2.200e-01],\n",
       "       [ 1.877e+03,  5.000e-02],\n",
       "       [ 1.878e+03,  6.000e-02],\n",
       "       [ 1.879e+03, -1.200e-01],\n",
       "       [ 1.880e+03, -1.700e-01],\n",
       "       [ 1.881e+03, -1.300e-01],\n",
       "       [ 1.882e+03, -1.300e-01],\n",
       "       [ 1.883e+03, -2.200e-01],\n",
       "       [ 1.884e+03, -3.100e-01],\n",
       "       [ 1.885e+03, -3.200e-01],\n",
       "       [ 1.886e+03, -2.600e-01],\n",
       "       [ 1.887e+03, -3.100e-01],\n",
       "       [ 1.888e+03, -1.700e-01],\n",
       "       [ 1.889e+03, -8.000e-02],\n",
       "       [ 1.890e+03, -2.800e-01],\n",
       "       [ 1.891e+03, -1.900e-01],\n",
       "       [ 1.892e+03, -2.500e-01],\n",
       "       [ 1.893e+03, -3.200e-01],\n",
       "       [ 1.894e+03, -2.300e-01],\n",
       "       [ 1.895e+03, -1.900e-01],\n",
       "       [ 1.896e+03, -6.000e-02],\n",
       "       [ 1.897e+03, -7.000e-02],\n",
       "       [ 1.898e+03, -2.300e-01],\n",
       "       [ 1.899e+03, -1.600e-01],\n",
       "       [ 1.900e+03, -8.000e-02],\n",
       "       [ 1.901e+03, -1.300e-01],\n",
       "       [ 1.902e+03, -2.300e-01],\n",
       "       [ 1.903e+03, -3.200e-01],\n",
       "       [ 1.904e+03, -4.300e-01],\n",
       "       [ 1.905e+03, -2.400e-01],\n",
       "       [ 1.906e+03, -2.100e-01],\n",
       "       [ 1.907e+03, -3.400e-01],\n",
       "       [ 1.908e+03, -4.000e-01],\n",
       "       [ 1.909e+03, -4.400e-01],\n",
       "       [ 1.910e+03, -4.000e-01],\n",
       "       [ 1.911e+03, -4.100e-01],\n",
       "       [ 1.912e+03, -3.300e-01],\n",
       "       [ 1.913e+03, -3.300e-01],\n",
       "       [ 1.914e+03, -1.400e-01],\n",
       "       [ 1.915e+03, -1.000e-01],\n",
       "       [ 1.916e+03, -3.100e-01],\n",
       "       [ 1.917e+03, -4.400e-01],\n",
       "       [ 1.918e+03, -2.900e-01],\n",
       "       [ 1.919e+03, -2.400e-01],\n",
       "       [ 1.920e+03, -2.500e-01],\n",
       "       [ 1.921e+03, -1.800e-01],\n",
       "       [ 1.922e+03, -2.500e-01],\n",
       "       [ 1.923e+03, -2.400e-01],\n",
       "       [ 1.924e+03, -2.300e-01],\n",
       "       [ 1.925e+03, -2.000e-01],\n",
       "       [ 1.926e+03, -9.000e-02],\n",
       "       [ 1.927e+03, -1.800e-01],\n",
       "       [ 1.928e+03, -1.700e-01],\n",
       "       [ 1.929e+03, -3.100e-01],\n",
       "       [ 1.930e+03, -1.100e-01],\n",
       "       [ 1.931e+03, -6.000e-02],\n",
       "       [ 1.932e+03, -1.200e-01],\n",
       "       [ 1.933e+03, -2.500e-01],\n",
       "       [ 1.934e+03, -1.100e-01],\n",
       "       [ 1.935e+03, -1.600e-01],\n",
       "       [ 1.936e+03, -1.200e-01],\n",
       "       [ 1.937e+03,  1.000e-02],\n",
       "       [ 1.938e+03,  1.000e-02],\n",
       "       [ 1.939e+03,  1.000e-02],\n",
       "       [ 1.940e+03,  1.500e-01],\n",
       "       [ 1.941e+03,  2.200e-01],\n",
       "       [ 1.942e+03,  9.000e-02],\n",
       "       [ 1.943e+03,  1.000e-01],\n",
       "       [ 1.944e+03,  2.300e-01],\n",
       "       [ 1.945e+03,  1.400e-01],\n",
       "       [ 1.946e+03, -4.000e-02],\n",
       "       [ 1.947e+03, -1.000e-02],\n",
       "       [ 1.948e+03, -6.000e-02],\n",
       "       [ 1.949e+03, -6.000e-02],\n",
       "       [ 1.950e+03, -1.300e-01],\n",
       "       [ 1.951e+03, -1.000e-02],\n",
       "       [ 1.952e+03,  5.000e-02],\n",
       "       [ 1.953e+03,  1.300e-01],\n",
       "       [ 1.954e+03, -7.000e-02],\n",
       "       [ 1.955e+03, -1.300e-01],\n",
       "       [ 1.956e+03, -1.700e-01],\n",
       "       [ 1.957e+03,  6.000e-02],\n",
       "       [ 1.958e+03,  9.000e-02],\n",
       "       [ 1.959e+03,  7.000e-02],\n",
       "       [ 1.960e+03,  3.000e-02],\n",
       "       [ 1.961e+03,  7.000e-02],\n",
       "       [ 1.962e+03,  5.000e-02],\n",
       "       [ 1.963e+03,  8.000e-02],\n",
       "       [ 1.964e+03, -1.500e-01],\n",
       "       [ 1.965e+03, -6.000e-02],\n",
       "       [ 1.966e+03, -2.000e-02],\n",
       "       [ 1.967e+03,  2.000e-02],\n",
       "       [ 1.968e+03, -6.000e-02],\n",
       "       [ 1.969e+03,  1.000e-01],\n",
       "       [ 1.970e+03,  6.000e-02],\n",
       "       [ 1.971e+03, -5.000e-02],\n",
       "       [ 1.972e+03,  3.000e-02],\n",
       "       [ 1.973e+03,  2.000e-01],\n",
       "       [ 1.974e+03, -5.000e-02],\n",
       "       [ 1.975e+03,  2.000e-02],\n",
       "       [ 1.976e+03, -3.000e-02],\n",
       "       [ 1.977e+03,  2.100e-01],\n",
       "       [ 1.978e+03,  1.100e-01],\n",
       "       [ 1.979e+03,  2.200e-01],\n",
       "       [ 1.980e+03,  2.900e-01],\n",
       "       [ 1.981e+03,  3.500e-01],\n",
       "       [ 1.982e+03,  1.900e-01],\n",
       "       [ 1.983e+03,  3.500e-01],\n",
       "       [ 1.984e+03,  2.000e-01],\n",
       "       [ 1.985e+03,  1.700e-01],\n",
       "       [ 1.986e+03,  2.200e-01],\n",
       "       [ 1.987e+03,  3.400e-01],\n",
       "       [ 1.988e+03,  4.200e-01],\n",
       "       [ 1.989e+03,  3.000e-01],\n",
       "       [ 1.990e+03,  4.500e-01],\n",
       "       [ 1.991e+03,  4.200e-01],\n",
       "       [ 1.992e+03,  2.400e-01],\n",
       "       [ 1.993e+03,  2.700e-01],\n",
       "       [ 1.994e+03,  3.200e-01],\n",
       "       [ 1.995e+03,  4.800e-01],\n",
       "       [ 1.996e+03,  3.600e-01],\n",
       "       [ 1.997e+03,  5.000e-01],\n",
       "       [ 1.998e+03,  6.300e-01],\n",
       "       [ 1.999e+03,  4.200e-01],\n",
       "       [ 2.000e+03,  4.300e-01],\n",
       "       [ 2.001e+03,  5.500e-01],\n",
       "       [ 2.002e+03,  6.200e-01],\n",
       "       [ 2.003e+03,  6.300e-01],\n",
       "       [ 2.004e+03,  5.500e-01],\n",
       "       [ 2.005e+03,  7.000e-01],\n",
       "       [ 2.006e+03,  6.600e-01],\n",
       "       [ 2.007e+03,  6.600e-01],\n",
       "       [ 2.008e+03,  5.500e-01],\n",
       "       [ 2.009e+03,  6.600e-01],\n",
       "       [ 2.010e+03,  7.300e-01],\n",
       "       [ 2.011e+03,  6.300e-01],\n",
       "       [ 2.012e+03,  6.600e-01],\n",
       "       [ 2.013e+03,  6.800e-01],\n",
       "       [ 2.014e+03,  7.700e-01],\n",
       "       [ 2.015e+03,  9.200e-01],\n",
       "       [ 2.016e+03,  1.030e+00],\n",
       "       [ 2.017e+03,  9.500e-01],\n",
       "       [ 2.018e+03,  8.600e-01],\n",
       "       [ 2.019e+03,  9.800e-01],\n",
       "       [ 2.020e+03,  1.010e+00],\n",
       "       [ 2.021e+03,  8.600e-01],\n",
       "       [ 2.022e+03,  9.100e-01],\n",
       "       [ 2.023e+03,  1.180e+00]])"
      ]
     },
<<<<<<< Updated upstream
     "execution_count": 88,
=======
     "execution_count": 139,
>>>>>>> Stashed changes
     "metadata": {},
     "output_type": "execute_result"
    }
   ],
   "source": [
    "temp = np.genfromtxt(txtfile,delimiter='\\t')\n",
    "temp"
   ]
  },
  {
   "cell_type": "code",
<<<<<<< Updated upstream
   "execution_count": 90,
=======
   "execution_count": 141,
>>>>>>> Stashed changes
   "metadata": {},
   "outputs": [
    {
     "data": {
      "text/plain": [
       "array([[ 1.7005e+03,  8.3000e+00, -1.0000e+00, -1.0000e+00,  1.0000e+00],\n",
       "       [ 1.7015e+03,  1.8300e+01, -1.0000e+00, -1.0000e+00,  1.0000e+00],\n",
       "       [ 1.7025e+03,  2.6700e+01, -1.0000e+00, -1.0000e+00,  1.0000e+00],\n",
       "       ...,\n",
       "       [ 2.0135e+03,  9.4000e+01,  6.9000e+00,  5.3470e+03,  1.0000e+00],\n",
       "       [ 2.0145e+03,  1.1330e+02,  8.0000e+00,  5.2730e+03,  1.0000e+00],\n",
       "       [ 2.0155e+03,  6.9800e+01,  6.4000e+00,  8.9030e+03,  1.0000e+00]])"
      ]
     },
<<<<<<< Updated upstream
     "execution_count": 90,
=======
     "execution_count": 141,
>>>>>>> Stashed changes
     "metadata": {},
     "output_type": "execute_result"
    }
   ],
   "source": [
    "sunspots = np.genfromtxt(csvfile,delimiter=',')\n",
    "sunspots"
   ]
  },
  {
   "cell_type": "code",
<<<<<<< Updated upstream
   "execution_count": 92,
=======
   "execution_count": 143,
>>>>>>> Stashed changes
   "metadata": {},
   "outputs": [
    {
     "data": {
      "text/plain": [
       "masked_array(\n",
       "  data=[[1700.5, 8.3, -1.0, -1.0, 1.0],\n",
       "        [1701.5, 18.3, -1.0, -1.0, 1.0],\n",
       "        [1702.5, 26.7, -1.0, -1.0, 1.0],\n",
       "        [1703.5, 38.3, -1.0, -1.0, 1.0],\n",
       "        [1704.5, 60.0, -1.0, -1.0, 1.0],\n",
       "        [1705.5, 96.7, -1.0, -1.0, 1.0],\n",
       "        [1706.5, 48.3, -1.0, -1.0, 1.0],\n",
       "        [1707.5, 33.3, -1.0, -1.0, 1.0],\n",
       "        [1708.5, 16.7, -1.0, -1.0, 1.0],\n",
       "        [1709.5, 13.3, -1.0, -1.0, 1.0],\n",
       "        [1710.5, 5.0, -1.0, -1.0, 1.0],\n",
       "        [1711.5, 0.0, -1.0, -1.0, 1.0],\n",
       "        [1712.5, 0.0, -1.0, -1.0, 1.0],\n",
       "        [1713.5, 3.3, -1.0, -1.0, 1.0],\n",
       "        [1714.5, 18.3, -1.0, -1.0, 1.0],\n",
       "        [1715.5, 45.0, -1.0, -1.0, 1.0],\n",
       "        [1716.5, 78.3, -1.0, -1.0, 1.0],\n",
       "        [1717.5, 105.0, -1.0, -1.0, 1.0],\n",
       "        [1718.5, 100.0, -1.0, -1.0, 1.0],\n",
       "        [1719.5, 65.0, -1.0, -1.0, 1.0],\n",
       "        [1720.5, 46.7, -1.0, -1.0, 1.0],\n",
       "        [1721.5, 43.3, -1.0, -1.0, 1.0],\n",
       "        [1722.5, 36.7, -1.0, -1.0, 1.0],\n",
       "        [1723.5, 18.3, -1.0, -1.0, 1.0],\n",
       "        [1724.5, 35.0, -1.0, -1.0, 1.0],\n",
       "        [1725.5, 66.7, -1.0, -1.0, 1.0],\n",
       "        [1726.5, 130.0, -1.0, -1.0, 1.0],\n",
       "        [1727.5, 203.3, -1.0, -1.0, 1.0],\n",
       "        [1728.5, 171.7, -1.0, -1.0, 1.0],\n",
       "        [1729.5, 121.7, -1.0, -1.0, 1.0],\n",
       "        [1730.5, 78.3, -1.0, -1.0, 1.0],\n",
       "        [1731.5, 58.3, -1.0, -1.0, 1.0],\n",
       "        [1732.5, 18.3, -1.0, -1.0, 1.0],\n",
       "        [1733.5, 8.3, -1.0, -1.0, 1.0],\n",
       "        [1734.5, 26.7, -1.0, -1.0, 1.0],\n",
       "        [1735.5, 56.7, -1.0, -1.0, 1.0],\n",
       "        [1736.5, 116.7, -1.0, -1.0, 1.0],\n",
       "        [1737.5, 135.0, -1.0, -1.0, 1.0],\n",
       "        [1738.5, 185.0, -1.0, -1.0, 1.0],\n",
       "        [1739.5, 168.3, -1.0, -1.0, 1.0],\n",
       "        [1740.5, 121.7, -1.0, -1.0, 1.0],\n",
       "        [1741.5, 66.7, -1.0, -1.0, 1.0],\n",
       "        [1742.5, 33.3, -1.0, -1.0, 1.0],\n",
       "        [1743.5, 26.7, -1.0, -1.0, 1.0],\n",
       "        [1744.5, 8.3, -1.0, -1.0, 1.0],\n",
       "        [1745.5, 18.3, -1.0, -1.0, 1.0],\n",
       "        [1746.5, 36.7, -1.0, -1.0, 1.0],\n",
       "        [1747.5, 66.7, -1.0, -1.0, 1.0],\n",
       "        [1748.5, 100.0, -1.0, -1.0, 1.0],\n",
       "        [1749.5, 134.8, -1.0, -1.0, 1.0],\n",
       "        [1966.5, 66.8, 5.4, 365.0, 1.0],\n",
       "        [1967.5, 132.9, 7.7, 365.0, 1.0],\n",
       "        [1968.5, 150.0, 8.2, 366.0, 1.0],\n",
       "        [1969.5, 149.4, 8.2, 365.0, 1.0],\n",
       "        [1970.5, 148.0, 8.1, 365.0, 1.0],\n",
       "        [1971.5, 94.4, 6.5, 365.0, 1.0],\n",
       "        [1972.5, 97.6, 6.6, 366.0, 1.0],\n",
       "        [1973.5, 54.1, 4.9, 365.0, 1.0],\n",
       "        [1974.5, 49.2, 4.7, 365.0, 1.0],\n",
       "        [1975.5, 22.5, 3.2, 365.0, 1.0],\n",
       "        [1976.5, 18.4, 2.9, 366.0, 1.0],\n",
       "        [1977.5, 39.3, 4.2, 365.0, 1.0],\n",
       "        [1978.5, 131.0, 7.6, 365.0, 1.0],\n",
       "        [1979.5, 220.1, 9.9, 365.0, 1.0],\n",
       "        [1980.5, 218.9, 9.9, 366.0, 1.0],\n",
       "        [1981.5, 198.9, 13.1, 3049.0, 1.0],\n",
       "        [1982.5, 162.4, 12.1, 3436.0, 1.0],\n",
       "        [1983.5, 91.0, 7.6, 4216.0, 1.0],\n",
       "        [1984.5, 60.5, 5.9, 5103.0, 1.0],\n",
       "        [1985.5, 20.6, 3.7, 5543.0, 1.0],\n",
       "        [1986.5, 14.8, 3.5, 5934.0, 1.0],\n",
       "        [1987.5, 33.9, 3.7, 6396.0, 1.0],\n",
       "        [1988.5, 123.0, 8.4, 6556.0, 1.0],\n",
       "        [1989.5, 211.1, 12.8, 6932.0, 1.0],\n",
       "        [1990.5, 191.8, 11.2, 7108.0, 1.0],\n",
       "        [1991.5, 203.3, 12.7, 6932.0, 1.0],\n",
       "        [1992.5, 133.0, 8.9, 7845.0, 1.0],\n",
       "        [1993.5, 76.1, 5.8, 8010.0, 1.0],\n",
       "        [1994.5, 44.9, 4.4, 8524.0, 1.0],\n",
       "        [1995.5, 25.1, 3.7, 8429.0, 1.0],\n",
       "        [1996.5, 11.6, 3.1, 7614.0, 1.0],\n",
       "        [1997.5, 28.9, 3.6, 7294.0, 1.0],\n",
       "        [1998.5, 88.3, 6.6, 6353.0, 1.0],\n",
       "        [1999.5, 136.3, 9.3, 6413.0, 1.0],\n",
       "        [2000.5, 173.9, 10.1, 5953.0, 1.0],\n",
       "        [2001.5, 170.4, 10.5, 6558.0, 1.0],\n",
       "        [2002.5, 163.6, 9.8, 6588.0, 1.0],\n",
       "        [2003.5, 99.3, 7.1, 7087.0, 1.0],\n",
       "        [2004.5, 65.3, 5.9, 6882.0, 1.0],\n",
       "        [2005.5, 45.8, 4.7, 7084.0, 1.0],\n",
       "        [2006.5, 24.7, 3.5, 6370.0, 1.0],\n",
       "        [2007.5, 12.6, 2.7, 6841.0, 1.0],\n",
       "        [2008.5, 4.2, 2.5, 6644.0, 1.0],\n",
       "        [2009.5, 4.8, 2.5, 6465.0, 1.0],\n",
       "        [2010.5, 24.9, 3.4, 6328.0, 1.0],\n",
       "        [2011.5, 80.8, 6.7, 6077.0, 1.0],\n",
       "        [2012.5, 84.5, 6.7, 5753.0, 1.0],\n",
       "        [2013.5, 94.0, 6.9, 5347.0, 1.0],\n",
       "        [2014.5, 113.3, 8.0, 5273.0, 1.0],\n",
       "        [2015.5, 69.8, 6.4, 8903.0, 1.0]],\n",
       "  mask=[[False, False, False, False, False],\n",
       "        [False, False, False, False, False],\n",
       "        [False, False, False, False, False],\n",
       "        ...,\n",
       "        [False, False, False, False, False],\n",
       "        [False, False, False, False, False],\n",
       "        [False, False, False, False, False]],\n",
       "  fill_value=1e+20)"
      ]
     },
<<<<<<< Updated upstream
     "execution_count": 92,
=======
     "execution_count": 143,
>>>>>>> Stashed changes
     "metadata": {},
     "output_type": "execute_result"
    }
   ],
   "source": [
    "sunspots = np.genfromtxt(csvfile,delimiter=',', usemask = True, filling_values=np.nan)\n",
    "sunspots"
   ]
  },
  {
   "cell_type": "markdown",
   "metadata": {},
   "source": [
    "## Common Way with no 'close' necessary\n",
    "Using the `with` command with `open` allows you a quick and concise way of reading a file without having to close your file handle. Below is an example of the syntax."
   ]
  },
  {
   "cell_type": "code",
<<<<<<< Updated upstream
   "execution_count": 94,
=======
   "execution_count": 177,
>>>>>>> Stashed changes
   "metadata": {},
   "outputs": [],
   "source": [
    "with open(txtfile) as glob:\n",
    "    #print(glob.read())\n",
<<<<<<< Updated upstream
    "    temps = glob.read()"
=======
    "    temps = glob.read()\n",
    "    "
>>>>>>> Stashed changes
   ]
  },
  {
   "cell_type": "code",
<<<<<<< Updated upstream
   "execution_count": 98,
=======
   "execution_count": 179,
>>>>>>> Stashed changes
   "metadata": {},
   "outputs": [
    {
     "data": {
      "text/plain": [
<<<<<<< Updated upstream
       "'1850\\t-0.17\\n1851\\t-0.09\\n1852\\t-0.1\\n1853\\t-0.12\\n1854\\t-0.11\\n1855\\t-0.12\\n1856\\t-0.25\\n1857\\t-0.28\\n1858\\t-0.21\\n1859\\t-0.09\\n1860\\t-0.23\\n1861\\t-0.25\\n1862\\t-0.3\\n1863\\t-0.15\\n1864\\t-0.19\\n1865\\t-0.13\\n1866\\t-0.1\\n1867\\t-0.17\\n1868\\t-0.14\\n1869\\t-0.11\\n1870\\t-0.17\\n1871\\t-0.17\\n1872\\t-0.17\\n1873\\t-0.19\\n1874\\t-0.21\\n1875\\t-0.2\\n1876\\t-0.22\\n1877\\t0.05\\n1878\\t0.06\\n1879\\t-0.12\\n1880\\t-0.17\\n1881\\t-0.13\\n1882\\t-0.13\\n1883\\t-0.22\\n1884\\t-0.31\\n1885\\t-0.32\\n1886\\t-0.26\\n1887\\t-0.31\\n1888\\t-0.17\\n1889\\t-0.08\\n1890\\t-0.28\\n1891\\t-0.19\\n1892\\t-0.25\\n1893\\t-0.32\\n1894\\t-0.23\\n1895\\t-0.19\\n1896\\t-0.06\\n1897\\t-0.07\\n1898\\t-0.23\\n1899\\t-0.16\\n1900\\t-0.08\\n1901\\t-0.13\\n1902\\t-0.23\\n1903\\t-0.32\\n1904\\t-0.43\\n1905\\t-0.24\\n1906\\t-0.21\\n1907\\t-0.34\\n1908\\t-0.4\\n1909\\t-0.44\\n1910\\t-0.4\\n1911\\t-0.41\\n1912\\t-0.33\\n1913\\t-0.33\\n1914\\t-0.14\\n1915\\t-0.1\\n1916\\t-0.31\\n1917\\t-0.44\\n1918\\t-0.29\\n1919\\t-0.24\\n1920\\t-0.25\\n1921\\t-0.18\\n1922\\t-0.25\\n1923\\t-0.24\\n1924\\t-0.23\\n1925\\t-0.2\\n1926\\t-0.09\\n1927\\t-0.18\\n1928\\t-0.17\\n1929\\t-0.31\\n1930\\t-0.11\\n1931\\t-0.06\\n1932\\t-0.12\\n1933\\t-0.25\\n1934\\t-0.11\\n1935\\t-0.16\\n1936\\t-0.12\\n1937\\t0.01\\n1938\\t0.01\\n1939\\t0.01\\n1940\\t0.15\\n1941\\t0.22\\n1942\\t0.09\\n1943\\t0.1\\n1944\\t0.23\\n1945\\t0.14\\n1946\\t-0.04\\n1947\\t-0.01\\n1948\\t-0.06\\n1949\\t-0.06\\n1950\\t-0.13\\n1951\\t-0.01\\n1952\\t0.05\\n1953\\t0.13\\n1954\\t-0.07\\n1955\\t-0.13\\n1956\\t-0.17\\n1957\\t0.06\\n1958\\t0.09\\n1959\\t0.07\\n1960\\t0.03\\n1961\\t0.07\\n1962\\t0.05\\n1963\\t0.08\\n1964\\t-0.15\\n1965\\t-0.06\\n1966\\t-0.02\\n1967\\t0.02\\n1968\\t-0.06\\n1969\\t0.1\\n1970\\t0.06\\n1971\\t-0.05\\n1972\\t0.03\\n1973\\t0.2\\n1974\\t-0.05\\n1975\\t0.02\\n1976\\t-0.03\\n1977\\t0.21\\n1978\\t0.11\\n1979\\t0.22\\n1980\\t0.29\\n1981\\t0.35\\n1982\\t0.19\\n1983\\t0.35\\n1984\\t0.2\\n1985\\t0.17\\n1986\\t0.22\\n1987\\t0.34\\n1988\\t0.42\\n1989\\t0.3\\n1990\\t0.45\\n1991\\t0.42\\n1992\\t0.24\\n1993\\t0.27\\n1994\\t0.32\\n1995\\t0.48\\n1996\\t0.36\\n1997\\t0.5\\n1998\\t0.63\\n1999\\t0.42\\n2000\\t0.43\\n2001\\t0.55\\n2002\\t0.62\\n2003\\t0.63\\n2004\\t0.55\\n2005\\t0.7\\n2006\\t0.66\\n2007\\t0.66\\n2008\\t0.55\\n2009\\t0.66\\n2010\\t0.73\\n2011\\t0.63\\n2012\\t0.66\\n2013\\t0.68\\n2014\\t0.77\\n2015\\t0.92\\n2016\\t1.03\\n2017\\t0.95\\n2018\\t0.86\\n2019\\t0.98\\n2020\\t1.01\\n2021\\t0.86\\n2022\\t0.91\\n2023\\t1.18\\n\\n'"
      ]
     },
     "execution_count": 98,
=======
       "'-0.17'"
      ]
     },
     "execution_count": 179,
>>>>>>> Stashed changes
     "metadata": {},
     "output_type": "execute_result"
    }
   ],
   "source": [
<<<<<<< Updated upstream
    "temps"
   ]
  },
  {
   "cell_type": "code",
   "execution_count": 102,
   "metadata": {},
   "outputs": [
    {
     "ename": "ValueError",
     "evalue": "I/O operation on closed file.",
     "output_type": "error",
     "traceback": [
      "\u001b[1;31m---------------------------------------------------------------------------\u001b[0m",
      "\u001b[1;31mValueError\u001b[0m                                Traceback (most recent call last)",
      "Cell \u001b[1;32mIn[102], line 1\u001b[0m\n\u001b[1;32m----> 1\u001b[0m glob\u001b[38;5;241m.\u001b[39mreadline()\n",
      "\u001b[1;31mValueError\u001b[0m: I/O operation on closed file."
     ]
    }
   ],
   "source": [
    "glob.readline()"
=======
    "temps[5:10]"
>>>>>>> Stashed changes
   ]
  },
  {
   "cell_type": "markdown",
   "metadata": {},
   "source": [
    "## Pandas\n",
    "When loading in the package `pandas`, we can use the `read_table()` function to pull data from text file. You could also use the `read_csv()` with `sep= \"\\t\"` to read data from tab-separated file or with `sep=\\s+` for space separated values. By default, python will look for a header row unless otherwise specified. `pandas` imports data from the files as `dataframes`. All the functions below will return a `dataframe`, an object in Python that stores data and allows access with a certain syntax that I often refer to as \"dot notation\"."
   ]
  },
  {
   "cell_type": "code",
<<<<<<< Updated upstream
   "execution_count": 104,
   "metadata": {
    "scrolled": true
   },
   "outputs": [],
=======
   "execution_count": 186,
   "metadata": {
    "scrolled": true
   },
   "outputs": [
    {
     "name": "stderr",
     "output_type": "stream",
     "text": [
      "<>:3: SyntaxWarning: invalid escape sequence '\\s'\n",
      "<>:3: SyntaxWarning: invalid escape sequence '\\s'\n",
      "C:\\Users\\Liam O'Buachalla\\AppData\\Local\\Temp\\ipykernel_33180\\3593938911.py:3: SyntaxWarning: invalid escape sequence '\\s'\n",
      "  txt2 = pd.read_csv(txtfile,header=None,sep='\\s+')\n"
     ]
    }
   ],
>>>>>>> Stashed changes
   "source": [
    "import pandas as pd\n",
    "txt1 = pd.read_table(txtfile, header=None,names=['year','temp'])\n",
    "txt2 = pd.read_csv(txtfile,header=None,sep='\\s+')\n",
    "csv1 = pd.read_csv(csvfile,header=None)\n",
    "csv2 = pd.read_csv(csvfile,header=None,names = ['year', 'numspots', 'stdev','Nobs','confirmed'])"
   ]
  },
  {
   "cell_type": "code",
<<<<<<< Updated upstream
   "execution_count": 106,
=======
   "execution_count": 188,
>>>>>>> Stashed changes
   "metadata": {
    "scrolled": true
   },
   "outputs": [
    {
     "data": {
      "text/html": [
       "<div>\n",
       "<style scoped>\n",
       "    .dataframe tbody tr th:only-of-type {\n",
       "        vertical-align: middle;\n",
       "    }\n",
       "\n",
       "    .dataframe tbody tr th {\n",
       "        vertical-align: top;\n",
       "    }\n",
       "\n",
       "    .dataframe thead th {\n",
       "        text-align: right;\n",
       "    }\n",
       "</style>\n",
       "<table border=\"1\" class=\"dataframe\">\n",
       "  <thead>\n",
       "    <tr style=\"text-align: right;\">\n",
       "      <th></th>\n",
       "      <th>year</th>\n",
       "      <th>temp</th>\n",
       "    </tr>\n",
       "  </thead>\n",
       "  <tbody>\n",
       "    <tr>\n",
       "      <th>0</th>\n",
       "      <td>1850</td>\n",
       "      <td>-0.17</td>\n",
       "    </tr>\n",
       "    <tr>\n",
       "      <th>1</th>\n",
       "      <td>1851</td>\n",
       "      <td>-0.09</td>\n",
       "    </tr>\n",
       "    <tr>\n",
       "      <th>2</th>\n",
       "      <td>1852</td>\n",
       "      <td>-0.10</td>\n",
       "    </tr>\n",
       "    <tr>\n",
       "      <th>3</th>\n",
       "      <td>1853</td>\n",
       "      <td>-0.12</td>\n",
       "    </tr>\n",
       "    <tr>\n",
       "      <th>4</th>\n",
       "      <td>1854</td>\n",
       "      <td>-0.11</td>\n",
       "    </tr>\n",
       "    <tr>\n",
       "      <th>...</th>\n",
       "      <td>...</td>\n",
       "      <td>...</td>\n",
       "    </tr>\n",
       "    <tr>\n",
       "      <th>169</th>\n",
       "      <td>2019</td>\n",
       "      <td>0.98</td>\n",
       "    </tr>\n",
       "    <tr>\n",
       "      <th>170</th>\n",
       "      <td>2020</td>\n",
       "      <td>1.01</td>\n",
       "    </tr>\n",
       "    <tr>\n",
       "      <th>171</th>\n",
       "      <td>2021</td>\n",
       "      <td>0.86</td>\n",
       "    </tr>\n",
       "    <tr>\n",
       "      <th>172</th>\n",
       "      <td>2022</td>\n",
       "      <td>0.91</td>\n",
       "    </tr>\n",
       "    <tr>\n",
       "      <th>173</th>\n",
       "      <td>2023</td>\n",
       "      <td>1.18</td>\n",
       "    </tr>\n",
       "  </tbody>\n",
       "</table>\n",
       "<p>174 rows × 2 columns</p>\n",
       "</div>"
      ],
      "text/plain": [
       "     year  temp\n",
       "0    1850 -0.17\n",
       "1    1851 -0.09\n",
       "2    1852 -0.10\n",
       "3    1853 -0.12\n",
       "4    1854 -0.11\n",
       "..    ...   ...\n",
       "169  2019  0.98\n",
       "170  2020  1.01\n",
       "171  2021  0.86\n",
       "172  2022  0.91\n",
       "173  2023  1.18\n",
       "\n",
       "[174 rows x 2 columns]"
      ]
     },
<<<<<<< Updated upstream
     "execution_count": 106,
=======
     "execution_count": 188,
>>>>>>> Stashed changes
     "metadata": {},
     "output_type": "execute_result"
    }
   ],
   "source": [
    "txt1"
   ]
  },
  {
   "cell_type": "code",
<<<<<<< Updated upstream
   "execution_count": 108,
=======
   "execution_count": 190,
>>>>>>> Stashed changes
   "metadata": {},
   "outputs": [
    {
     "data": {
      "text/html": [
       "<div>\n",
       "<style scoped>\n",
       "    .dataframe tbody tr th:only-of-type {\n",
       "        vertical-align: middle;\n",
       "    }\n",
       "\n",
       "    .dataframe tbody tr th {\n",
       "        vertical-align: top;\n",
       "    }\n",
       "\n",
       "    .dataframe thead th {\n",
       "        text-align: right;\n",
       "    }\n",
       "</style>\n",
       "<table border=\"1\" class=\"dataframe\">\n",
       "  <thead>\n",
       "    <tr style=\"text-align: right;\">\n",
       "      <th></th>\n",
       "      <th>0</th>\n",
       "      <th>1</th>\n",
       "    </tr>\n",
       "  </thead>\n",
       "  <tbody>\n",
       "    <tr>\n",
       "      <th>0</th>\n",
       "      <td>1850</td>\n",
       "      <td>-0.17</td>\n",
       "    </tr>\n",
       "    <tr>\n",
       "      <th>1</th>\n",
       "      <td>1851</td>\n",
       "      <td>-0.09</td>\n",
       "    </tr>\n",
       "    <tr>\n",
       "      <th>2</th>\n",
       "      <td>1852</td>\n",
       "      <td>-0.10</td>\n",
       "    </tr>\n",
       "    <tr>\n",
       "      <th>3</th>\n",
       "      <td>1853</td>\n",
       "      <td>-0.12</td>\n",
       "    </tr>\n",
       "    <tr>\n",
       "      <th>4</th>\n",
       "      <td>1854</td>\n",
       "      <td>-0.11</td>\n",
       "    </tr>\n",
       "    <tr>\n",
       "      <th>...</th>\n",
       "      <td>...</td>\n",
       "      <td>...</td>\n",
       "    </tr>\n",
       "    <tr>\n",
       "      <th>169</th>\n",
       "      <td>2019</td>\n",
       "      <td>0.98</td>\n",
       "    </tr>\n",
       "    <tr>\n",
       "      <th>170</th>\n",
       "      <td>2020</td>\n",
       "      <td>1.01</td>\n",
       "    </tr>\n",
       "    <tr>\n",
       "      <th>171</th>\n",
       "      <td>2021</td>\n",
       "      <td>0.86</td>\n",
       "    </tr>\n",
       "    <tr>\n",
       "      <th>172</th>\n",
       "      <td>2022</td>\n",
       "      <td>0.91</td>\n",
       "    </tr>\n",
       "    <tr>\n",
       "      <th>173</th>\n",
       "      <td>2023</td>\n",
       "      <td>1.18</td>\n",
       "    </tr>\n",
       "  </tbody>\n",
       "</table>\n",
       "<p>174 rows × 2 columns</p>\n",
       "</div>"
      ],
      "text/plain": [
       "        0     1\n",
       "0    1850 -0.17\n",
       "1    1851 -0.09\n",
       "2    1852 -0.10\n",
       "3    1853 -0.12\n",
       "4    1854 -0.11\n",
       "..    ...   ...\n",
       "169  2019  0.98\n",
       "170  2020  1.01\n",
       "171  2021  0.86\n",
       "172  2022  0.91\n",
       "173  2023  1.18\n",
       "\n",
       "[174 rows x 2 columns]"
      ]
     },
<<<<<<< Updated upstream
     "execution_count": 108,
=======
     "execution_count": 190,
>>>>>>> Stashed changes
     "metadata": {},
     "output_type": "execute_result"
    }
   ],
   "source": [
    "txt2"
   ]
  },
  {
   "cell_type": "code",
<<<<<<< Updated upstream
   "execution_count": 112,
=======
   "execution_count": 192,
>>>>>>> Stashed changes
   "metadata": {
    "scrolled": true
   },
   "outputs": [
    {
     "data": {
      "text/html": [
       "<div>\n",
       "<style scoped>\n",
       "    .dataframe tbody tr th:only-of-type {\n",
       "        vertical-align: middle;\n",
       "    }\n",
       "\n",
       "    .dataframe tbody tr th {\n",
       "        vertical-align: top;\n",
       "    }\n",
       "\n",
       "    .dataframe thead th {\n",
       "        text-align: right;\n",
       "    }\n",
       "</style>\n",
       "<table border=\"1\" class=\"dataframe\">\n",
       "  <thead>\n",
       "    <tr style=\"text-align: right;\">\n",
       "      <th></th>\n",
<<<<<<< Updated upstream
       "      <th>year</th>\n",
       "      <th>numspots</th>\n",
       "      <th>stdev</th>\n",
       "      <th>Nobs</th>\n",
       "      <th>confirmed</th>\n",
=======
       "      <th>0</th>\n",
       "      <th>1</th>\n",
       "      <th>2</th>\n",
       "      <th>3</th>\n",
       "      <th>4</th>\n",
>>>>>>> Stashed changes
       "    </tr>\n",
       "  </thead>\n",
       "  <tbody>\n",
       "    <tr>\n",
       "      <th>0</th>\n",
       "      <td>1700.5</td>\n",
       "      <td>8.3</td>\n",
       "      <td>-1.0</td>\n",
       "      <td>-1</td>\n",
       "      <td>1</td>\n",
       "    </tr>\n",
       "    <tr>\n",
       "      <th>1</th>\n",
       "      <td>1701.5</td>\n",
       "      <td>18.3</td>\n",
       "      <td>-1.0</td>\n",
       "      <td>-1</td>\n",
       "      <td>1</td>\n",
       "    </tr>\n",
       "    <tr>\n",
       "      <th>2</th>\n",
       "      <td>1702.5</td>\n",
       "      <td>26.7</td>\n",
       "      <td>-1.0</td>\n",
       "      <td>-1</td>\n",
       "      <td>1</td>\n",
       "    </tr>\n",
       "    <tr>\n",
       "      <th>3</th>\n",
       "      <td>1703.5</td>\n",
       "      <td>38.3</td>\n",
       "      <td>-1.0</td>\n",
       "      <td>-1</td>\n",
       "      <td>1</td>\n",
       "    </tr>\n",
       "    <tr>\n",
       "      <th>4</th>\n",
       "      <td>1704.5</td>\n",
       "      <td>60.0</td>\n",
       "      <td>-1.0</td>\n",
       "      <td>-1</td>\n",
       "      <td>1</td>\n",
       "    </tr>\n",
       "    <tr>\n",
       "      <th>...</th>\n",
       "      <td>...</td>\n",
       "      <td>...</td>\n",
       "      <td>...</td>\n",
       "      <td>...</td>\n",
       "      <td>...</td>\n",
       "    </tr>\n",
       "    <tr>\n",
       "      <th>311</th>\n",
       "      <td>2011.5</td>\n",
       "      <td>80.8</td>\n",
       "      <td>6.7</td>\n",
       "      <td>6077</td>\n",
       "      <td>1</td>\n",
       "    </tr>\n",
       "    <tr>\n",
       "      <th>312</th>\n",
       "      <td>2012.5</td>\n",
       "      <td>84.5</td>\n",
       "      <td>6.7</td>\n",
       "      <td>5753</td>\n",
       "      <td>1</td>\n",
       "    </tr>\n",
       "    <tr>\n",
       "      <th>313</th>\n",
       "      <td>2013.5</td>\n",
       "      <td>94.0</td>\n",
       "      <td>6.9</td>\n",
       "      <td>5347</td>\n",
       "      <td>1</td>\n",
       "    </tr>\n",
       "    <tr>\n",
       "      <th>314</th>\n",
       "      <td>2014.5</td>\n",
       "      <td>113.3</td>\n",
       "      <td>8.0</td>\n",
       "      <td>5273</td>\n",
       "      <td>1</td>\n",
       "    </tr>\n",
       "    <tr>\n",
       "      <th>315</th>\n",
       "      <td>2015.5</td>\n",
       "      <td>69.8</td>\n",
       "      <td>6.4</td>\n",
       "      <td>8903</td>\n",
       "      <td>1</td>\n",
       "    </tr>\n",
       "  </tbody>\n",
       "</table>\n",
       "<p>316 rows × 5 columns</p>\n",
       "</div>"
      ],
      "text/plain": [
<<<<<<< Updated upstream
       "       year  numspots  stdev  Nobs  confirmed\n",
       "0    1700.5       8.3   -1.0    -1          1\n",
       "1    1701.5      18.3   -1.0    -1          1\n",
       "2    1702.5      26.7   -1.0    -1          1\n",
       "3    1703.5      38.3   -1.0    -1          1\n",
       "4    1704.5      60.0   -1.0    -1          1\n",
       "..      ...       ...    ...   ...        ...\n",
       "311  2011.5      80.8    6.7  6077          1\n",
       "312  2012.5      84.5    6.7  5753          1\n",
       "313  2013.5      94.0    6.9  5347          1\n",
       "314  2014.5     113.3    8.0  5273          1\n",
       "315  2015.5      69.8    6.4  8903          1\n",
=======
       "          0      1    2     3  4\n",
       "0    1700.5    8.3 -1.0    -1  1\n",
       "1    1701.5   18.3 -1.0    -1  1\n",
       "2    1702.5   26.7 -1.0    -1  1\n",
       "3    1703.5   38.3 -1.0    -1  1\n",
       "4    1704.5   60.0 -1.0    -1  1\n",
       "..      ...    ...  ...   ... ..\n",
       "311  2011.5   80.8  6.7  6077  1\n",
       "312  2012.5   84.5  6.7  5753  1\n",
       "313  2013.5   94.0  6.9  5347  1\n",
       "314  2014.5  113.3  8.0  5273  1\n",
       "315  2015.5   69.8  6.4  8903  1\n",
>>>>>>> Stashed changes
       "\n",
       "[316 rows x 5 columns]"
      ]
     },
<<<<<<< Updated upstream
     "execution_count": 112,
=======
     "execution_count": 192,
>>>>>>> Stashed changes
     "metadata": {},
     "output_type": "execute_result"
    }
   ],
   "source": [
<<<<<<< Updated upstream
    "csv2"
=======
    "csv1"
>>>>>>> Stashed changes
   ]
  },
  {
   "cell_type": "code",
<<<<<<< Updated upstream
   "execution_count": 114,
=======
   "execution_count": 200,
>>>>>>> Stashed changes
   "metadata": {},
   "outputs": [
    {
     "data": {
      "text/plain": [
       "pandas.core.frame.DataFrame"
      ]
     },
<<<<<<< Updated upstream
     "execution_count": 114,
=======
     "execution_count": 200,
>>>>>>> Stashed changes
     "metadata": {},
     "output_type": "execute_result"
    }
   ],
   "source": [
    "type(csv2)"
   ]
  },
  {
   "cell_type": "markdown",
   "metadata": {},
   "source": [
    "You can even add column names while loading the file:"
   ]
  },
  {
   "cell_type": "markdown",
   "metadata": {},
   "source": [
    "If you look at csvfile, you'll see some columns with `-1` as a value; this indicates *missing data*. Classifying your missing data properly will help you avoid accidential using the value in a calculation. You can specify this with another option:"
   ]
  },
  {
   "cell_type": "code",
<<<<<<< Updated upstream
   "execution_count": 116,
=======
   "execution_count": 204,
>>>>>>> Stashed changes
   "metadata": {
    "scrolled": true
   },
   "outputs": [
    {
     "name": "stdout",
     "output_type": "stream",
     "text": [
      "       year  numspots  stdev    Nobs  confirmed\n",
      "0    1700.5       8.3    NaN     NaN          1\n",
      "1    1701.5      18.3    NaN     NaN          1\n",
      "2    1702.5      26.7    NaN     NaN          1\n",
      "3    1703.5      38.3    NaN     NaN          1\n",
      "4    1704.5      60.0    NaN     NaN          1\n",
      "..      ...       ...    ...     ...        ...\n",
      "311  2011.5      80.8    6.7  6077.0          1\n",
      "312  2012.5      84.5    6.7  5753.0          1\n",
      "313  2013.5      94.0    6.9  5347.0          1\n",
      "314  2014.5     113.3    8.0  5273.0          1\n",
      "315  2015.5      69.8    6.4  8903.0          1\n",
      "\n",
      "[316 rows x 5 columns]\n"
     ]
    },
    {
     "data": {
      "text/plain": [
       "0      NaN\n",
       "1      NaN\n",
       "2      NaN\n",
       "3      NaN\n",
       "4      NaN\n",
       "      ... \n",
       "311    6.7\n",
       "312    6.7\n",
       "313    6.9\n",
       "314    8.0\n",
       "315    6.4\n",
       "Name: stdev, Length: 316, dtype: float64"
      ]
     },
<<<<<<< Updated upstream
     "execution_count": 116,
=======
     "execution_count": 204,
>>>>>>> Stashed changes
     "metadata": {},
     "output_type": "execute_result"
    }
   ],
   "source": [
    "csv3 = pd.read_csv(csvfile,header=None,names = ['year', 'numspots', 'stdev','Nobs','confirmed'],na_values=['-1'])\n",
    "#csv3.stdev\n",
    "print(csv3)\n",
    "csv3['stdev']"
   ]
  },
  {
   "cell_type": "markdown",
   "metadata": {},
   "source": [
    "### Reading Excel files with Pandas\n",
    "Python will read excel files in the same manner. You can specify sheets and column/row in which to import. "
   ]
  },
  {
   "cell_type": "code",
<<<<<<< Updated upstream
   "execution_count": 118,
=======
   "execution_count": 219,
>>>>>>> Stashed changes
   "metadata": {
    "scrolled": true
   },
   "outputs": [],
   "source": [
    "xcel1 = pd.read_excel(xlsfile,sheet_name=\"Global Carbon Budget\", skiprows=20,header=0)"
   ]
  },
  {
   "cell_type": "code",
<<<<<<< Updated upstream
   "execution_count": 120,
=======
   "execution_count": 223,
>>>>>>> Stashed changes
   "metadata": {},
   "outputs": [
    {
     "name": "stdout",
     "output_type": "stream",
     "text": [
      "    Year  fossil emissions excluding carbonation  land-use change emissions  \\\n",
      "0   1959                                2.417091                   1.938933   \n",
      "1   1960                                2.562137                   1.792600   \n",
      "2   1961                                2.570540                   1.666500   \n",
      "3   1962                                2.661315                   1.608267   \n",
      "4   1963                                2.803399                   1.542733   \n",
      "..   ...                                     ...                        ...   \n",
      "58  2017                                9.851730                   1.182300   \n",
      "59  2018                               10.050902                   1.141200   \n",
      "60  2019                               10.120786                   1.243800   \n",
      "61  2020                                9.624478                   1.107467   \n",
      "62  2021                               10.132055                   1.075067   \n",
      "\n",
      "    atmospheric growth  ocean sink  land sink  cement carbonation sink  \\\n",
      "0              2.03904    0.975005   0.401805                 0.012684   \n",
      "1              1.50804    0.959013   1.234131                 0.013835   \n",
      "2              1.65672    0.805321   0.839819                 0.014723   \n",
      "3              1.18944    0.895229   1.322231                 0.015872   \n",
      "4              1.21068    1.059837   0.871917                 0.016867   \n",
      "..                 ...         ...        ...                      ...   \n",
      "58             4.54536    2.854828   3.555004                 0.202927   \n",
      "59             5.03388    2.947231   3.647435                 0.209702   \n",
      "60             5.43744    2.994756   3.041949                 0.214002   \n",
      "61             4.99140    2.998115   3.105137                 0.220563   \n",
      "62             5.22504    2.879512   3.450347                 0.229795   \n",
      "\n",
      "    budget imbalance  \n",
      "0           0.927490  \n",
      "1           0.639717  \n",
      "2           0.920457  \n",
      "3           0.846810  \n",
      "4           1.186831  \n",
      "..               ...  \n",
      "58         -0.124088  \n",
      "59         -0.646145  \n",
      "60         -0.323561  \n",
      "61         -0.583270  \n",
      "62         -0.577571  \n",
      "\n",
      "[63 rows x 8 columns]\n",
      "<class 'pandas.core.frame.DataFrame'>\n"
     ]
    },
    {
     "data": {
      "text/plain": [
<<<<<<< Updated upstream
       "1961"
      ]
     },
     "execution_count": 120,
=======
       "2017"
      ]
     },
     "execution_count": 223,
>>>>>>> Stashed changes
     "metadata": {},
     "output_type": "execute_result"
    }
   ],
   "source": [
    "print(xcel1)\n",
    "print(type(xcel1))\n",
<<<<<<< Updated upstream
    "xcel1['Year'][2]"
=======
    "xcel1['Year'][58]"
>>>>>>> Stashed changes
   ]
  },
  {
   "cell_type": "markdown",
   "metadata": {},
   "source": [
    "## Writing to a Plain Text file\n",
    "Python contains builtin functions to output information to a plain text file. It involves opening a file to write to, writing to that file, and then closing said file. "
   ]
  },
  {
   "cell_type": "code",
<<<<<<< Updated upstream
   "execution_count": 124,
=======
   "execution_count": 225,
>>>>>>> Stashed changes
   "metadata": {},
   "outputs": [
    {
     "data": {
      "text/html": [
       "<div>\n",
       "<style scoped>\n",
       "    .dataframe tbody tr th:only-of-type {\n",
       "        vertical-align: middle;\n",
       "    }\n",
       "\n",
       "    .dataframe tbody tr th {\n",
       "        vertical-align: top;\n",
       "    }\n",
       "\n",
       "    .dataframe thead th {\n",
       "        text-align: right;\n",
       "    }\n",
       "</style>\n",
       "<table border=\"1\" class=\"dataframe\">\n",
       "  <thead>\n",
       "    <tr style=\"text-align: right;\">\n",
       "      <th></th>\n",
       "      <th>year</th>\n",
       "      <th>temp</th>\n",
       "    </tr>\n",
       "  </thead>\n",
       "  <tbody>\n",
       "    <tr>\n",
       "      <th>0</th>\n",
       "      <td>1850</td>\n",
       "      <td>-0.17</td>\n",
       "    </tr>\n",
       "    <tr>\n",
       "      <th>1</th>\n",
       "      <td>1851</td>\n",
       "      <td>-0.09</td>\n",
       "    </tr>\n",
       "    <tr>\n",
       "      <th>2</th>\n",
       "      <td>1852</td>\n",
       "      <td>-0.10</td>\n",
       "    </tr>\n",
       "    <tr>\n",
       "      <th>3</th>\n",
       "      <td>1853</td>\n",
       "      <td>-0.12</td>\n",
       "    </tr>\n",
       "    <tr>\n",
       "      <th>4</th>\n",
       "      <td>1854</td>\n",
       "      <td>-0.11</td>\n",
       "    </tr>\n",
       "    <tr>\n",
       "      <th>...</th>\n",
       "      <td>...</td>\n",
       "      <td>...</td>\n",
       "    </tr>\n",
       "    <tr>\n",
       "      <th>169</th>\n",
       "      <td>2019</td>\n",
       "      <td>0.98</td>\n",
       "    </tr>\n",
       "    <tr>\n",
       "      <th>170</th>\n",
       "      <td>2020</td>\n",
       "      <td>1.01</td>\n",
       "    </tr>\n",
       "    <tr>\n",
       "      <th>171</th>\n",
       "      <td>2021</td>\n",
       "      <td>0.86</td>\n",
       "    </tr>\n",
       "    <tr>\n",
       "      <th>172</th>\n",
       "      <td>2022</td>\n",
       "      <td>0.91</td>\n",
       "    </tr>\n",
       "    <tr>\n",
       "      <th>173</th>\n",
       "      <td>2023</td>\n",
       "      <td>1.18</td>\n",
       "    </tr>\n",
       "  </tbody>\n",
       "</table>\n",
       "<p>174 rows × 2 columns</p>\n",
       "</div>"
      ],
      "text/plain": [
       "     year  temp\n",
       "0    1850 -0.17\n",
       "1    1851 -0.09\n",
       "2    1852 -0.10\n",
       "3    1853 -0.12\n",
       "4    1854 -0.11\n",
       "..    ...   ...\n",
       "169  2019  0.98\n",
       "170  2020  1.01\n",
       "171  2021  0.86\n",
       "172  2022  0.91\n",
       "173  2023  1.18\n",
       "\n",
       "[174 rows x 2 columns]"
      ]
     },
<<<<<<< Updated upstream
     "execution_count": 124,
=======
     "execution_count": 225,
>>>>>>> Stashed changes
     "metadata": {},
     "output_type": "execute_result"
    }
   ],
   "source": [
    "txt1"
   ]
  },
  {
   "cell_type": "code",
<<<<<<< Updated upstream
   "execution_count": 134,
=======
   "execution_count": 233,
>>>>>>> Stashed changes
   "metadata": {
    "scrolled": true
   },
   "outputs": [],
   "source": [
    "#txt1 = txt1.to_string()\n",
    "f= open(\"test1.txt\",\"w+\")\n",
    "f.write(temps)\n",
    "f.write('\\n')\n",
    "f.close()"
   ]
  },
  {
   "cell_type": "markdown",
   "metadata": {},
   "source": [
    "You may also append a file (add to it without overwriting)."
   ]
  },
  {
   "cell_type": "code",
<<<<<<< Updated upstream
   "execution_count": 132,
=======
   "execution_count": 231,
>>>>>>> Stashed changes
   "metadata": {
    "scrolled": true
   },
   "outputs": [],
   "source": [
    "f= open(\"test1.txt\",\"a+\")\n",
    "f.write(temps)\n",
    "f.write('\\n')\n",
<<<<<<< Updated upstream
    "f.close()"
=======
    "f.close()\n",
    "\n",
    "# should append to itself and have the data twice"
>>>>>>> Stashed changes
   ]
  },
  {
   "cell_type": "markdown",
   "metadata": {},
   "source": [
    "## Writing to a CSV file\n",
    "Python does have allow you to read to a `csv` file. The details of which are a bit uninformative at this point. But if that is something you want to do, please look into the package `csv`. "
   ]
  },
  {
   "cell_type": "markdown",
   "metadata": {},
   "source": [
    "## Writing to an Excel file\n",
    "`pandas` contains functionality that allows you to write data to a Microsoft Excel file. The method `to_excel` allows you to write data to sheets within the excel spreadsheet, but you will need to wrap the function `ExcelWriter` around `to_excel` in order to write to multiple sheets within the same file. The 'ExcelWriter' function does require more syntax as shown below:  "
   ]
  },
  {
   "cell_type": "code",
<<<<<<< Updated upstream
   "execution_count": 136,
=======
   "execution_count": null,
>>>>>>> Stashed changes
   "metadata": {},
   "outputs": [],
   "source": [
    "#must specify a file, you can specify a sheet\n",
    "csv2.to_excel(\"sunspotsout.xlsx\",sheet_name='sun')\n",
    "xcel1.to_excel(\"sunspotsout.xlsx\",sheet_name='carbon accounting')"
   ]
  },
  {
   "cell_type": "code",
<<<<<<< Updated upstream
   "execution_count": 138,
=======
   "execution_count": null,
>>>>>>> Stashed changes
   "metadata": {
    "scrolled": true
   },
   "outputs": [],
   "source": [
    "with pd.ExcelWriter('pandas_simple.xlsx') as writer:\n",
    "    csv2.to_excel(writer, sheet_name='sun')\n",
    "    xcel1.to_excel(writer, sheet_name='carbon')"
   ]
  },
  {
   "cell_type": "code",
   "execution_count": null,
   "metadata": {},
   "outputs": [],
   "source": []
  }
 ],
 "metadata": {
  "kernelspec": {
   "display_name": "Python 3 (ipykernel)",
   "language": "python",
   "name": "python3"
  },
  "language_info": {
   "codemirror_mode": {
    "name": "ipython",
    "version": 3
   },
   "file_extension": ".py",
   "mimetype": "text/x-python",
   "name": "python",
   "nbconvert_exporter": "python",
   "pygments_lexer": "ipython3",
<<<<<<< Updated upstream
   "version": "3.11.8"
=======
   "version": "3.12.4"
>>>>>>> Stashed changes
  }
 },
 "nbformat": 4,
 "nbformat_minor": 4
}
