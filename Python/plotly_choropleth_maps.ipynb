{
 "cells": [
  {
   "cell_type": "markdown",
   "id": "f3a2e9e1",
   "metadata": {},
   "source": [
    "# Mapping in plotly\n",
    "Plotly allows users to create relatively easy graphics involving geographic areas. Below is an example that uses the mapping functions called `choropleth_mapbox`. This function does need a plethora of information. This examples gets much of that from the internet using a file structure known as a `json`."
   ]
  },
  {
   "cell_type": "code",
   "execution_count": null,
   "id": "f64d590f",
   "metadata": {},
   "outputs": [],
   "source": [
    "from urllib.request import urlopen\n",
    "import json\n",
    "import plotly.express as px\n",
    "import pandas as pd"
   ]
  },
  {
   "cell_type": "markdown",
   "id": "e9305f8a",
   "metadata": {},
   "source": [
    "## Grabbing Information from urls\n",
    "One way to grab information from the internet is with `urlopen`. This function takes a url as an argument and processes the endpoint (in this case a `geojson`) into a `dict` "
   ]
  },
  {
   "cell_type": "code",
   "execution_count": null,
   "id": "241a16b3",
   "metadata": {},
   "outputs": [],
   "source": [
    "with urlopen('https://raw.githubusercontent.com/plotly/datasets/master/geojson-counties-fips.json') as response:\n",
    "    counties = json.load(response)"
   ]
  },
  {
   "cell_type": "code",
   "execution_count": null,
   "id": "e1d98b66",
   "metadata": {},
   "outputs": [],
   "source": [
    "counties"
   ]
  },
  {
   "cell_type": "markdown",
   "id": "e78a6ab6",
   "metadata": {},
   "source": [
    "The next step is to draw information corresponding to the `geojson` geographical information. Let's look at unemployment figures from 2016."
   ]
  },
  {
   "cell_type": "code",
   "execution_count": null,
   "id": "c49054a1",
   "metadata": {},
   "outputs": [],
   "source": [
    " df = pd.read_csv(\"https://raw.githubusercontent.com/plotly/datasets/master/fips-unemp-16.csv\",\n",
    "                   dtype={\"fips\": str})"
   ]
  },
  {
   "cell_type": "code",
   "execution_count": null,
   "id": "f49742e4",
   "metadata": {},
   "outputs": [],
   "source": [
    "df"
   ]
  },
  {
   "cell_type": "code",
   "execution_count": null,
   "id": "ec1f3218",
   "metadata": {},
   "outputs": [],
   "source": [
    "unemploy = df.set_index('fips')"
   ]
  },
  {
   "cell_type": "code",
   "execution_count": null,
   "id": "f2ae7373",
   "metadata": {},
   "outputs": [],
   "source": [
    "unemploy"
   ]
  },
  {
   "cell_type": "markdown",
   "id": "70c3fb5c",
   "metadata": {},
   "source": [
    "### fips?\n",
    "Whenever dealing with geographical data of the United States, you'll have to process *fips* (Federal Information Process System) codes. Each State has a 2-digit code, and each county has a 5-digit code, the first two digits of which are the state code. The standard `geojson` files will contain mapping information tied to fips codes."
   ]
  },
  {
   "cell_type": "markdown",
   "id": "45c20f1c",
   "metadata": {},
   "source": [
    "## Choropleth Maps\n",
    "Choropleth maps describe maps that have been divided into municipal areas, such as counties, parishes, etc. `choropleth` is a subpackage of `plotly.express` containing functions relating to mapping tools. The options for choropleth maps are many. I'm using examples drawn from the documentation [here](https://plotly.com/python/choropleth-maps/), please go explore."
   ]
  },
  {
   "cell_type": "code",
   "execution_count": null,
   "id": "liquid-contrast",
   "metadata": {
    "scrolled": true
   },
   "outputs": [],
   "source": [
    "fig = px.choropleth_mapbox(df, geojson=counties, locations='fips', color='unemp',\n",
    "                           color_continuous_scale=\"Viridis\",\n",
    "                           range_color=(0, 12),\n",
    "                           mapbox_style=\"carto-positron\",\n",
    "                           zoom=3, center = {\"lat\": 37.0902, \"lon\": -95.7129},\n",
    "                           opacity=0.5,\n",
    "                           labels={'unemp':'unemployment rate'}\n",
    "                          )\n",
    "fig.update_layout(margin={\"r\":0,\"t\":0,\"l\":0,\"b\":0})\n",
    "fig.show()"
   ]
  },
  {
   "cell_type": "code",
   "execution_count": null,
   "id": "2faca110",
   "metadata": {
    "scrolled": true
   },
   "outputs": [],
   "source": [
    "fips = pd.read_csv('data/fips_county.txt',dtype=str,header=None,names=['fips','area'])\n",
    "states= pd.read_csv('data/fips_states.txt',dtype=str,header=None,names=['fips','state'])"
   ]
  },
  {
   "cell_type": "code",
   "execution_count": null,
   "id": "b2b6396a",
   "metadata": {
    "scrolled": true
   },
   "outputs": [],
   "source": [
    "fips = fips.set_index('fips')"
   ]
  },
  {
   "cell_type": "code",
   "execution_count": null,
   "id": "0c6dae75",
   "metadata": {},
   "outputs": [],
   "source": [
    "fips"
   ]
  },
  {
   "cell_type": "code",
   "execution_count": null,
   "id": "6d129caa",
   "metadata": {},
   "outputs": [],
   "source": [
    "fipsbyarea = fips.join(unemploy)\n",
    "fipsbyarea.reset_index(inplace=True)"
   ]
  },
  {
   "cell_type": "code",
   "execution_count": null,
   "id": "124d7237",
   "metadata": {},
   "outputs": [],
   "source": [
    "fipsbyarea"
   ]
  },
  {
   "cell_type": "code",
   "execution_count": null,
   "id": "a98c130c",
   "metadata": {},
   "outputs": [],
   "source": [
    "fig = px.choropleth_mapbox(fipsbyarea, geojson=counties, locations='fips', color='unemp',\n",
    "                           color_continuous_scale=\"Viridis\",\n",
    "                           range_color=(0, 12),\n",
    "                           mapbox_style=\"carto-positron\",\n",
    "                           zoom=3, center = {\"lat\": 37.0902, \"lon\": -95.7129},\n",
    "                           opacity=0.5, hover_data=[\"area\", \"unemp\"],\n",
    "                           labels={'unemp':'unemployment rate'}\n",
    "                          )\n",
    "fig.update_layout(margin={\"r\":0,\"t\":0,\"l\":0,\"b\":0})\n",
    "fig.show()"
   ]
  },
  {
   "cell_type": "code",
   "execution_count": null,
   "id": "c025f6e1",
   "metadata": {},
   "outputs": [],
   "source": [
    "fipsbyarea"
   ]
  },
  {
   "cell_type": "code",
   "execution_count": null,
   "id": "898cabdb",
   "metadata": {},
   "outputs": [],
   "source": []
  }
 ],
 "metadata": {
  "kernelspec": {
   "display_name": "Python 3 (ipykernel)",
   "language": "python",
   "name": "python3"
  },
  "language_info": {
   "codemirror_mode": {
    "name": "ipython",
    "version": 3
   },
   "file_extension": ".py",
   "mimetype": "text/x-python",
   "name": "python",
   "nbconvert_exporter": "python",
   "pygments_lexer": "ipython3",
   "version": "3.11.8"
  }
 },
 "nbformat": 4,
 "nbformat_minor": 5
}
