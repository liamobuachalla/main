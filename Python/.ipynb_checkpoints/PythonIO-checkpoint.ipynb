{
 "cells": [
  {
   "cell_type": "markdown",
   "metadata": {},
   "source": [
    "# Input and Output in Python\n",
    "Inputting data into a program can be the most time intensive activity. Python contains a number of packages designed to import and export data with minimum effort and code. The most popular package these days is *pandas*. (I have included a pandas cheat sheet in the `main` repository). You should note that a single backslash does not work when specifying a file path in Python. You need to use aforward slash or add one more backslash as shown in my code below.\n",
    "All the functions below will return a `dataframe`, an object in Python that stores data and allows access with a certain syntax that I often refer to as \"dot notation\"."
   ]
  },
  {
   "cell_type": "code",
   "execution_count": 1,
   "metadata": {},
   "outputs": [
    {
     "name": "stdout",
     "output_type": "stream",
     "text": [
      "('C:\\\\Users\\\\tomke\\\\My Drive\\\\Programs\\\\courses\\\\main', 'Python')\n"
     ]
    }
   ],
   "source": [
    "# This code is used to navigate the file structure of main. You may or may not need to run this.\n",
    "import os as os\n",
    "cwdup = os.path.split(os.getcwd())\n",
    "os.chdir(cwdup[0])\n",
    "print(cwdup)"
   ]
  },
  {
   "cell_type": "code",
   "execution_count": 2,
   "metadata": {},
   "outputs": [
    {
     "name": "stdout",
     "output_type": "stream",
     "text": [
      "C:\\Users\\tomke\\My Drive\\Programs\\courses\\main\n"
     ]
    }
   ],
   "source": [
    "print(os.getcwd())"
   ]
  },
  {
   "cell_type": "code",
   "execution_count": 3,
   "metadata": {},
   "outputs": [],
   "source": [
    "os.chdir(cwdup[0]+'\\\\'+cwdup[1])"
   ]
  },
  {
   "cell_type": "code",
   "execution_count": 5,
   "metadata": {},
   "outputs": [
    {
     "name": "stdout",
     "output_type": "stream",
     "text": [
      "C:\\Users\\tomke\\My Drive\\Programs\\courses\\main\\Python\n"
     ]
    }
   ],
   "source": [
    "print(os.getcwd())"
   ]
  },
  {
   "cell_type": "code",
   "execution_count": 6,
   "metadata": {
    "scrolled": true
   },
   "outputs": [],
   "source": [
    "import pandas as pd\n",
    "datfile = \"data//statepop.mat\"\n",
    "txtfile = \"data//globaltemps.txt\"\n",
    "csvfile = \"data//sunspotsbyyear.csv\"\n",
    "xlsfile = \"data//GlobalCarbonBudget2020.xlsx\""
   ]
  },
  {
   "cell_type": "code",
   "execution_count": 7,
   "metadata": {
    "scrolled": true
   },
   "outputs": [
    {
     "data": {
      "text/plain": [
       "'data//statepop.mat'"
      ]
     },
     "execution_count": 7,
     "metadata": {},
     "output_type": "execute_result"
    }
   ],
   "source": [
    "datfile"
   ]
  },
  {
   "cell_type": "markdown",
   "metadata": {},
   "source": [
    "## Read text and *csv* files\n",
    "We can use the `read_table()` function to pull data from text file. You could also use the `read_csv()` with `sep= \"\\t\"` to read data from tab-separated file or with `sep=\\s+` for space separated values. By default, python will look for a header row unless otherwise specified. `pandas` imports data from the files as `dataframes`."
   ]
  },
  {
   "cell_type": "code",
   "execution_count": 8,
   "metadata": {
    "scrolled": true
   },
   "outputs": [],
   "source": [
    "txt1 = pd.read_table(txtfile, header=None,names=['year','temp'])\n",
    "txt2 = pd.read_csv(txtfile,header=None,sep='\\s+')\n",
    "csv1 = pd.read_csv(csvfile,header=None)\n",
    "csv2 = pd.read_csv(csvfile,header=None,names = ['year', 'numspots', 'stdev','Nobs','confirmed'])"
   ]
  },
  {
   "cell_type": "code",
   "execution_count": 9,
   "metadata": {
    "scrolled": true
   },
   "outputs": [
    {
     "name": "stdout",
     "output_type": "stream",
     "text": [
      "0      1700.5\n",
      "1      1701.5\n",
      "2      1702.5\n",
      "3      1703.5\n",
      "4      1704.5\n",
      "        ...  \n",
      "311    2011.5\n",
      "312    2012.5\n",
      "313    2013.5\n",
      "314    2014.5\n",
      "315    2015.5\n",
      "Name: year, Length: 316, dtype: float64\n"
     ]
    },
    {
     "data": {
      "text/plain": [
       "1903"
      ]
     },
     "execution_count": 9,
     "metadata": {},
     "output_type": "execute_result"
    }
   ],
   "source": [
    "print(csv2['year'])\n",
    "txt2[0][23]"
   ]
  },
  {
   "cell_type": "markdown",
   "metadata": {},
   "source": [
    "You can even add column names while loading the file:"
   ]
  },
  {
   "cell_type": "markdown",
   "metadata": {},
   "source": [
    "If you look at csvfile, you'll see some columns with `-1` as a value; this indicates *missing data*. Classifying your missing data properly will help you avoid accidential using the value in a calculation. You can specify this with another option:"
   ]
  },
  {
   "cell_type": "code",
   "execution_count": 15,
   "metadata": {
    "scrolled": true
   },
   "outputs": [
    {
     "data": {
      "text/plain": [
       "0      NaN\n",
       "1      NaN\n",
       "2      NaN\n",
       "3      NaN\n",
       "4      NaN\n",
       "      ... \n",
       "311    6.7\n",
       "312    6.7\n",
       "313    6.9\n",
       "314    8.0\n",
       "315    6.4\n",
       "Name: stdev, Length: 316, dtype: float64"
      ]
     },
     "execution_count": 15,
     "metadata": {},
     "output_type": "execute_result"
    }
   ],
   "source": [
    "csv3 = pd.read_csv(csvfile,header=None,names = ['year', 'numspots', 'stdev','Nobs','confirmed'],na_values=['-1'])\n",
    "#csv3.stdev\n",
    "csv3['stdev']"
   ]
  },
  {
   "cell_type": "markdown",
   "metadata": {},
   "source": [
    "## Reading Excel files\n",
    "Python will read excel files in the same manner as MATLAB. You can specify sheets and column/row in which to import. "
   ]
  },
  {
   "cell_type": "code",
   "execution_count": 22,
   "metadata": {
    "scrolled": true
   },
   "outputs": [],
   "source": [
    "xcel1 = pd.read_excel(xlsfile,sheet_name=\"Global Carbon Budget\", skiprows=21,header=None)"
   ]
  },
  {
   "cell_type": "code",
   "execution_count": 23,
   "metadata": {},
   "outputs": [
    {
     "name": "stdout",
     "output_type": "stream",
     "text": [
      "                                                    0         1         2  \\\n",
      "0                                                1959     2.415    1.8042   \n",
      "1                                                1960     2.548  1.659441   \n",
      "2                                                1961     2.553  1.593636   \n",
      "3                                                1962     2.644  1.555922   \n",
      "4                                                1963     2.794  1.511243   \n",
      "..                                                ...       ...       ...   \n",
      "60                                               2019  9.945622  1.802637   \n",
      "61                                                NaN       NaN       NaN   \n",
      "62                                              2020*      ~9.3      ~1.6   \n",
      "63                                                NaN       NaN       NaN   \n",
      "64  *2020 values are based on proxies and on proje...       NaN       NaN   \n",
      "\n",
      "          3         4         5         6         7  \n",
      "0    2.0448  0.861368  0.677445  0.012684  0.622904  \n",
      "1    1.5123  0.839096  1.258399  0.013839  0.583806  \n",
      "2    1.6614  0.716516  0.660306  0.014726  1.093688  \n",
      "3    1.1928  0.768402  1.408221  0.015871  0.814628  \n",
      "4    1.2141  0.917365  1.023823  0.016863  1.133093  \n",
      "..      ...       ...       ...       ...       ...  \n",
      "60  5.42682  2.625991  3.136743  0.215298  0.343408  \n",
      "61      NaN       NaN       NaN       NaN       NaN  \n",
      "62     ~5.3       NaN       NaN       NaN       NaN  \n",
      "63      NaN       NaN       NaN       NaN       NaN  \n",
      "64      NaN       NaN       NaN       NaN       NaN  \n",
      "\n",
      "[65 rows x 8 columns]\n",
      "<class 'pandas.core.frame.DataFrame'>\n"
     ]
    },
    {
     "data": {
      "text/plain": [
       "2.553"
      ]
     },
     "execution_count": 23,
     "metadata": {},
     "output_type": "execute_result"
    }
   ],
   "source": [
    "print(xcel1)\n",
    "print(type(xcel1))\n",
    "xcel1[1][2]"
   ]
  },
  {
   "cell_type": "markdown",
   "metadata": {},
   "source": [
    "## Reading `npy` files\n",
    "`npy` files are `numpy` type data files used to recreate arrays in Python. The syntax to save and load one of these files is\n",
    "```python\n",
    "import numpy as np\n",
    "np.load('filename.npy')\n",
    "np.save('filename.npy')\n",
    "\n",
    "```"
   ]
  },
  {
   "cell_type": "markdown",
   "metadata": {},
   "source": [
    "## Reading `mat` files\n",
    "You can even read in `.mat` files that are created from MATLAB. You have to use the `scipy.io` module, which contains other useful input/output functions as well. Once loaded, you can access the MATLAB variables using a syntax you've seen before:\n",
    "\n",
    "    mat1[<variablename>]"
   ]
  },
  {
   "cell_type": "code",
   "execution_count": 25,
   "metadata": {
    "scrolled": true
   },
   "outputs": [
    {
     "name": "stdout",
     "output_type": "stream",
     "text": [
      "dict_keys(['__header__', '__version__', '__globals__', 'ev', 'pop10', 'pop11', 'pop12', 'pop13', 'pop14', 'pop15', 'pop16', 'pop17', 'pop18', 'pop19', 'None', '__function_workspace__'])\n",
      "[[ 4852347]\n",
      " [  737498]\n",
      " [ 6829676]\n",
      " [ 2978048]\n",
      " [38918045]\n",
      " [ 5450623]\n",
      " [ 3587122]\n",
      " [  941252]\n",
      " [  675400]\n",
      " [20209042]\n",
      " [10178447]\n",
      " [ 1422052]\n",
      " [ 1651059]\n",
      " [12858913]\n",
      " [ 6608422]\n",
      " [ 3120960]\n",
      " [ 2909011]\n",
      " [ 4425976]\n",
      " [ 4664628]\n",
      " [ 1328262]\n",
      " [ 5985562]\n",
      " [ 6794228]\n",
      " [ 9931715]\n",
      " [ 5482032]\n",
      " [ 2988471]\n",
      " [ 6071732]\n",
      " [ 1030475]\n",
      " [ 1891277]\n",
      " [ 2866939]\n",
      " [ 1336350]\n",
      " [ 8867949]\n",
      " [ 2089291]\n",
      " [19654666]\n",
      " [10031646]\n",
      " [  754066]\n",
      " [11617527]\n",
      " [ 3909500]\n",
      " [ 4015792]\n",
      " [12784826]\n",
      " [ 1056065]\n",
      " [ 4891938]\n",
      " [  853988]\n",
      " [ 6591170]\n",
      " [27470056]\n",
      " [ 2981835]\n",
      " [  625216]\n",
      " [ 8361808]\n",
      " [ 7163657]\n",
      " [ 1842050]\n",
      " [ 5760940]\n",
      " [  585613]\n",
      " [ 3473232]]\n"
     ]
    },
    {
     "data": {
      "text/plain": [
       "array([[ 18],\n",
       "       [  6],\n",
       "       [ 22],\n",
       "       [ 12],\n",
       "       [110],\n",
       "       [ 18],\n",
       "       [ 14],\n",
       "       [  6],\n",
       "       [  6],\n",
       "       [ 58],\n",
       "       [ 32],\n",
       "       [  8],\n",
       "       [  8],\n",
       "       [ 40],\n",
       "       [ 22],\n",
       "       [ 12],\n",
       "       [ 12],\n",
       "       [ 16],\n",
       "       [ 16],\n",
       "       [  8],\n",
       "       [ 20],\n",
       "       [ 22],\n",
       "       [ 32],\n",
       "       [ 20],\n",
       "       [ 12],\n",
       "       [ 20],\n",
       "       [  6],\n",
       "       [ 10],\n",
       "       [ 12],\n",
       "       [  8],\n",
       "       [ 28],\n",
       "       [ 10],\n",
       "       [ 58],\n",
       "       [ 30],\n",
       "       [  6],\n",
       "       [ 36],\n",
       "       [ 14],\n",
       "       [ 14],\n",
       "       [ 40],\n",
       "       [  8],\n",
       "       [ 18],\n",
       "       [  6],\n",
       "       [ 22],\n",
       "       [ 76],\n",
       "       [ 12],\n",
       "       [  6],\n",
       "       [ 26],\n",
       "       [ 24],\n",
       "       [ 10],\n",
       "       [ 20],\n",
       "       [  6],\n",
       "       [  0]], dtype=uint8)"
      ]
     },
     "execution_count": 25,
     "metadata": {},
     "output_type": "execute_result"
    }
   ],
   "source": [
    "import scipy.io as sio\n",
    "mat1 = sio.loadmat(datfile)\n",
    "print(mat1.keys())\n",
    "print(mat1['pop17'])\n",
    "2*mat1['ev']"
   ]
  },
  {
   "cell_type": "markdown",
   "metadata": {},
   "source": [
    "## Writing to a Plain Text file\n",
    "Python contains builtin functions to output information to a plain text file. It involves opening a file to write to, writing to that file, and then closing said file. "
   ]
  },
  {
   "cell_type": "code",
   "execution_count": null,
   "metadata": {
    "scrolled": true
   },
   "outputs": [],
   "source": [
    "txt1 = txt1.to_string()\n",
    "f= open(\"test1.txt\",\"w+\")\n",
    "f.write(txt1)\n",
    "f.write('\\n')\n",
    "f.close()\n"
   ]
  },
  {
   "cell_type": "markdown",
   "metadata": {},
   "source": [
    "You may also append a file (add to it without overwriting)."
   ]
  },
  {
   "cell_type": "code",
   "execution_count": null,
   "metadata": {
    "scrolled": true
   },
   "outputs": [],
   "source": [
    "f= open(\"test1.txt\",\"a+\")\n",
    "f.write(txt1)\n",
    "f.write('\\n')\n",
    "f.close()"
   ]
  },
  {
   "cell_type": "markdown",
   "metadata": {},
   "source": [
    "## Writing to an Excel file\n",
    "`pandas` contains a function that allows you to write data to a Microsoft Excel file when using the function `ExcelWriter`. This function requires some groundwork as shown below:  "
   ]
  },
  {
   "cell_type": "code",
   "execution_count": null,
   "metadata": {
    "scrolled": true
   },
   "outputs": [],
   "source": [
    "# Create a Pandas Excel writer using XlsxWriter as the engine.\n",
    "writer = pd.ExcelWriter('pandas_simple.xlsx', engine='xlsxwriter')\n",
    "\n",
    "# Convert a dataframe to an XlsxWriter Excel object.\n",
    "csv1.to_excel(writer, sheet_name='temps')\n",
    "csv3.to_excel(writer,sheet_name='temptitles')\n",
    "# Close the Pandas Excel writer and output the Excel file.\n",
    "writer.save()\n",
    "\n",
    "# Get the xlsxwriter objects from the dataframe writer object. \n",
    "#Not strictly needed to write to excel file, only if you want to get in the weeds about the writer object\n",
    "workbook  = writer.book\n",
    "worksheet = writer.sheets['temps']\n",
    "worksheet1 = writer.sheets['temptitles']\n",
    "\n",
    "writer.sheets"
   ]
  },
  {
   "cell_type": "markdown",
   "metadata": {},
   "source": [
    "# Example using Pandas for data munging"
   ]
  },
  {
   "cell_type": "code",
   "execution_count": 26,
   "metadata": {
    "scrolled": false
   },
   "outputs": [],
   "source": [
    "# read table\n",
    "df = pd.read_table('data/GlobalTempbyMonth.txt', header=None, index_col=0, sep='\\s+')"
   ]
  },
  {
   "cell_type": "code",
   "execution_count": 27,
   "metadata": {},
   "outputs": [
    {
     "data": {
      "text/html": [
       "<div>\n",
       "<style scoped>\n",
       "    .dataframe tbody tr th:only-of-type {\n",
       "        vertical-align: middle;\n",
       "    }\n",
       "\n",
       "    .dataframe tbody tr th {\n",
       "        vertical-align: top;\n",
       "    }\n",
       "\n",
       "    .dataframe thead th {\n",
       "        text-align: right;\n",
       "    }\n",
       "</style>\n",
       "<table border=\"1\" class=\"dataframe\">\n",
       "  <thead>\n",
       "    <tr style=\"text-align: right;\">\n",
       "      <th></th>\n",
       "      <th>1</th>\n",
       "      <th>2</th>\n",
       "      <th>3</th>\n",
       "      <th>4</th>\n",
       "      <th>5</th>\n",
       "      <th>6</th>\n",
       "      <th>7</th>\n",
       "      <th>8</th>\n",
       "      <th>9</th>\n",
       "      <th>10</th>\n",
       "      <th>11</th>\n",
       "    </tr>\n",
       "    <tr>\n",
       "      <th>0</th>\n",
       "      <th></th>\n",
       "      <th></th>\n",
       "      <th></th>\n",
       "      <th></th>\n",
       "      <th></th>\n",
       "      <th></th>\n",
       "      <th></th>\n",
       "      <th></th>\n",
       "      <th></th>\n",
       "      <th></th>\n",
       "      <th></th>\n",
       "    </tr>\n",
       "  </thead>\n",
       "  <tbody>\n",
       "    <tr>\n",
       "      <th>1850/01</th>\n",
       "      <td>-0.700</td>\n",
       "      <td>-0.757</td>\n",
       "      <td>-0.627</td>\n",
       "      <td>-0.889</td>\n",
       "      <td>-0.510</td>\n",
       "      <td>-1.047</td>\n",
       "      <td>-0.352</td>\n",
       "      <td>-0.898</td>\n",
       "      <td>-0.500</td>\n",
       "      <td>-1.100</td>\n",
       "      <td>-0.299</td>\n",
       "    </tr>\n",
       "    <tr>\n",
       "      <th>1850/02</th>\n",
       "      <td>-0.286</td>\n",
       "      <td>-0.342</td>\n",
       "      <td>-0.218</td>\n",
       "      <td>-0.474</td>\n",
       "      <td>-0.098</td>\n",
       "      <td>-0.625</td>\n",
       "      <td>0.052</td>\n",
       "      <td>-0.482</td>\n",
       "      <td>-0.082</td>\n",
       "      <td>-0.676</td>\n",
       "      <td>0.111</td>\n",
       "    </tr>\n",
       "    <tr>\n",
       "      <th>1850/03</th>\n",
       "      <td>-0.732</td>\n",
       "      <td>-0.799</td>\n",
       "      <td>-0.680</td>\n",
       "      <td>-0.934</td>\n",
       "      <td>-0.529</td>\n",
       "      <td>-1.009</td>\n",
       "      <td>-0.454</td>\n",
       "      <td>-0.942</td>\n",
       "      <td>-0.519</td>\n",
       "      <td>-1.080</td>\n",
       "      <td>-0.382</td>\n",
       "    </tr>\n",
       "    <tr>\n",
       "      <th>1850/04</th>\n",
       "      <td>-0.563</td>\n",
       "      <td>-0.620</td>\n",
       "      <td>-0.493</td>\n",
       "      <td>-0.767</td>\n",
       "      <td>-0.360</td>\n",
       "      <td>-0.816</td>\n",
       "      <td>-0.310</td>\n",
       "      <td>-0.777</td>\n",
       "      <td>-0.349</td>\n",
       "      <td>-0.894</td>\n",
       "      <td>-0.231</td>\n",
       "    </tr>\n",
       "    <tr>\n",
       "      <th>1850/05</th>\n",
       "      <td>-0.327</td>\n",
       "      <td>-0.386</td>\n",
       "      <td>-0.279</td>\n",
       "      <td>-0.521</td>\n",
       "      <td>-0.132</td>\n",
       "      <td>-0.589</td>\n",
       "      <td>-0.064</td>\n",
       "      <td>-0.533</td>\n",
       "      <td>-0.128</td>\n",
       "      <td>-0.661</td>\n",
       "      <td>0.001</td>\n",
       "    </tr>\n",
       "    <tr>\n",
       "      <th>...</th>\n",
       "      <td>...</td>\n",
       "      <td>...</td>\n",
       "      <td>...</td>\n",
       "      <td>...</td>\n",
       "      <td>...</td>\n",
       "      <td>...</td>\n",
       "      <td>...</td>\n",
       "      <td>...</td>\n",
       "      <td>...</td>\n",
       "      <td>...</td>\n",
       "      <td>...</td>\n",
       "    </tr>\n",
       "    <tr>\n",
       "      <th>2017/11</th>\n",
       "      <td>0.552</td>\n",
       "      <td>0.509</td>\n",
       "      <td>0.590</td>\n",
       "      <td>0.513</td>\n",
       "      <td>0.591</td>\n",
       "      <td>0.441</td>\n",
       "      <td>0.663</td>\n",
       "      <td>0.494</td>\n",
       "      <td>0.610</td>\n",
       "      <td>0.427</td>\n",
       "      <td>0.678</td>\n",
       "    </tr>\n",
       "    <tr>\n",
       "      <th>2017/12</th>\n",
       "      <td>0.600</td>\n",
       "      <td>0.542</td>\n",
       "      <td>0.640</td>\n",
       "      <td>0.560</td>\n",
       "      <td>0.640</td>\n",
       "      <td>0.475</td>\n",
       "      <td>0.725</td>\n",
       "      <td>0.533</td>\n",
       "      <td>0.658</td>\n",
       "      <td>0.458</td>\n",
       "      <td>0.738</td>\n",
       "    </tr>\n",
       "    <tr>\n",
       "      <th>2018/01</th>\n",
       "      <td>0.554</td>\n",
       "      <td>0.507</td>\n",
       "      <td>0.603</td>\n",
       "      <td>0.527</td>\n",
       "      <td>0.581</td>\n",
       "      <td>0.410</td>\n",
       "      <td>0.699</td>\n",
       "      <td>0.503</td>\n",
       "      <td>0.611</td>\n",
       "      <td>0.402</td>\n",
       "      <td>0.710</td>\n",
       "    </tr>\n",
       "    <tr>\n",
       "      <th>2018/02</th>\n",
       "      <td>0.522</td>\n",
       "      <td>0.469</td>\n",
       "      <td>0.569</td>\n",
       "      <td>0.495</td>\n",
       "      <td>0.550</td>\n",
       "      <td>0.404</td>\n",
       "      <td>0.640</td>\n",
       "      <td>0.468</td>\n",
       "      <td>0.579</td>\n",
       "      <td>0.393</td>\n",
       "      <td>0.654</td>\n",
       "    </tr>\n",
       "    <tr>\n",
       "      <th>2018/03</th>\n",
       "      <td>0.619</td>\n",
       "      <td>0.580</td>\n",
       "      <td>0.660</td>\n",
       "      <td>0.594</td>\n",
       "      <td>0.644</td>\n",
       "      <td>0.498</td>\n",
       "      <td>0.741</td>\n",
       "      <td>0.568</td>\n",
       "      <td>0.668</td>\n",
       "      <td>0.484</td>\n",
       "      <td>0.750</td>\n",
       "    </tr>\n",
       "  </tbody>\n",
       "</table>\n",
       "<p>2019 rows × 11 columns</p>\n",
       "</div>"
      ],
      "text/plain": [
       "            1      2      3      4      5      6      7      8      9      10  \\\n",
       "0                                                                               \n",
       "1850/01 -0.700 -0.757 -0.627 -0.889 -0.510 -1.047 -0.352 -0.898 -0.500 -1.100   \n",
       "1850/02 -0.286 -0.342 -0.218 -0.474 -0.098 -0.625  0.052 -0.482 -0.082 -0.676   \n",
       "1850/03 -0.732 -0.799 -0.680 -0.934 -0.529 -1.009 -0.454 -0.942 -0.519 -1.080   \n",
       "1850/04 -0.563 -0.620 -0.493 -0.767 -0.360 -0.816 -0.310 -0.777 -0.349 -0.894   \n",
       "1850/05 -0.327 -0.386 -0.279 -0.521 -0.132 -0.589 -0.064 -0.533 -0.128 -0.661   \n",
       "...        ...    ...    ...    ...    ...    ...    ...    ...    ...    ...   \n",
       "2017/11  0.552  0.509  0.590  0.513  0.591  0.441  0.663  0.494  0.610  0.427   \n",
       "2017/12  0.600  0.542  0.640  0.560  0.640  0.475  0.725  0.533  0.658  0.458   \n",
       "2018/01  0.554  0.507  0.603  0.527  0.581  0.410  0.699  0.503  0.611  0.402   \n",
       "2018/02  0.522  0.469  0.569  0.495  0.550  0.404  0.640  0.468  0.579  0.393   \n",
       "2018/03  0.619  0.580  0.660  0.594  0.644  0.498  0.741  0.568  0.668  0.484   \n",
       "\n",
       "            11  \n",
       "0               \n",
       "1850/01 -0.299  \n",
       "1850/02  0.111  \n",
       "1850/03 -0.382  \n",
       "1850/04 -0.231  \n",
       "1850/05  0.001  \n",
       "...        ...  \n",
       "2017/11  0.678  \n",
       "2017/12  0.738  \n",
       "2018/01  0.710  \n",
       "2018/02  0.654  \n",
       "2018/03  0.750  \n",
       "\n",
       "[2019 rows x 11 columns]"
      ]
     },
     "execution_count": 27,
     "metadata": {},
     "output_type": "execute_result"
    }
   ],
   "source": [
    "# show data\n",
    "df"
   ]
  },
  {
   "cell_type": "code",
   "execution_count": 28,
   "metadata": {},
   "outputs": [
    {
     "name": "stdout",
     "output_type": "stream",
     "text": [
      "1    -0.295\n",
      "2    -0.356\n",
      "3    -0.250\n",
      "4    -0.498\n",
      "5    -0.093\n",
      "6    -0.522\n",
      "7    -0.069\n",
      "8    -0.511\n",
      "9    -0.089\n",
      "10   -0.609\n",
      "11    0.010\n",
      "Name: 1851/05, dtype: float64\n"
     ]
    }
   ],
   "source": [
    "# show index\n",
    "df.index\n",
    "print(df.loc['1851/05'])"
   ]
  },
  {
   "cell_type": "code",
   "execution_count": 29,
   "metadata": {},
   "outputs": [],
   "source": [
    "# add new columns\n",
    "df['average'] = df.mean(axis=1)\n",
    "df['min'] = df.min(axis=1)\n",
    "df['max'] = df.max(axis=1)"
   ]
  },
  {
   "cell_type": "code",
   "execution_count": 31,
   "metadata": {},
   "outputs": [],
   "source": [
    "# sort by average\n",
    "df2 = df.sort_values(by=1,)"
   ]
  },
  {
   "cell_type": "code",
   "execution_count": 32,
   "metadata": {},
   "outputs": [
    {
     "data": {
      "text/html": [
       "<div>\n",
       "<style scoped>\n",
       "    .dataframe tbody tr th:only-of-type {\n",
       "        vertical-align: middle;\n",
       "    }\n",
       "\n",
       "    .dataframe tbody tr th {\n",
       "        vertical-align: top;\n",
       "    }\n",
       "\n",
       "    .dataframe thead th {\n",
       "        text-align: right;\n",
       "    }\n",
       "</style>\n",
       "<table border=\"1\" class=\"dataframe\">\n",
       "  <thead>\n",
       "    <tr style=\"text-align: right;\">\n",
       "      <th></th>\n",
       "      <th>1</th>\n",
       "      <th>2</th>\n",
       "      <th>3</th>\n",
       "      <th>4</th>\n",
       "      <th>5</th>\n",
       "      <th>6</th>\n",
       "      <th>7</th>\n",
       "      <th>8</th>\n",
       "      <th>9</th>\n",
       "      <th>10</th>\n",
       "      <th>11</th>\n",
       "      <th>average</th>\n",
       "      <th>min</th>\n",
       "      <th>max</th>\n",
       "    </tr>\n",
       "    <tr>\n",
       "      <th>0</th>\n",
       "      <th></th>\n",
       "      <th></th>\n",
       "      <th></th>\n",
       "      <th></th>\n",
       "      <th></th>\n",
       "      <th></th>\n",
       "      <th></th>\n",
       "      <th></th>\n",
       "      <th></th>\n",
       "      <th></th>\n",
       "      <th></th>\n",
       "      <th></th>\n",
       "      <th></th>\n",
       "      <th></th>\n",
       "    </tr>\n",
       "  </thead>\n",
       "  <tbody>\n",
       "    <tr>\n",
       "      <th>1893/01</th>\n",
       "      <td>-0.974</td>\n",
       "      <td>-1.057</td>\n",
       "      <td>-0.913</td>\n",
       "      <td>-1.082</td>\n",
       "      <td>-0.866</td>\n",
       "      <td>-1.286</td>\n",
       "      <td>-0.663</td>\n",
       "      <td>-1.111</td>\n",
       "      <td>-0.850</td>\n",
       "      <td>-1.316</td>\n",
       "      <td>-0.641</td>\n",
       "      <td>-0.978091</td>\n",
       "      <td>-1.316</td>\n",
       "      <td>-0.641</td>\n",
       "    </tr>\n",
       "    <tr>\n",
       "      <th>1864/01</th>\n",
       "      <td>-0.941</td>\n",
       "      <td>-1.014</td>\n",
       "      <td>-0.873</td>\n",
       "      <td>-1.134</td>\n",
       "      <td>-0.748</td>\n",
       "      <td>-1.472</td>\n",
       "      <td>-0.410</td>\n",
       "      <td>-1.147</td>\n",
       "      <td>-0.736</td>\n",
       "      <td>-1.511</td>\n",
       "      <td>-0.372</td>\n",
       "      <td>-0.941636</td>\n",
       "      <td>-1.511</td>\n",
       "      <td>-0.372</td>\n",
       "    </tr>\n",
       "    <tr>\n",
       "      <th>1861/01</th>\n",
       "      <td>-0.893</td>\n",
       "      <td>-0.960</td>\n",
       "      <td>-0.833</td>\n",
       "      <td>-1.066</td>\n",
       "      <td>-0.721</td>\n",
       "      <td>-1.336</td>\n",
       "      <td>-0.451</td>\n",
       "      <td>-1.081</td>\n",
       "      <td>-0.710</td>\n",
       "      <td>-1.375</td>\n",
       "      <td>-0.416</td>\n",
       "      <td>-0.894727</td>\n",
       "      <td>-1.375</td>\n",
       "      <td>-0.416</td>\n",
       "    </tr>\n",
       "    <tr>\n",
       "      <th>1862/12</th>\n",
       "      <td>-0.887</td>\n",
       "      <td>-0.978</td>\n",
       "      <td>-0.812</td>\n",
       "      <td>-1.071</td>\n",
       "      <td>-0.702</td>\n",
       "      <td>-1.319</td>\n",
       "      <td>-0.455</td>\n",
       "      <td>-1.093</td>\n",
       "      <td>-0.691</td>\n",
       "      <td>-1.368</td>\n",
       "      <td>-0.415</td>\n",
       "      <td>-0.890091</td>\n",
       "      <td>-1.368</td>\n",
       "      <td>-0.415</td>\n",
       "    </tr>\n",
       "    <tr>\n",
       "      <th>1917/03</th>\n",
       "      <td>-0.832</td>\n",
       "      <td>-0.910</td>\n",
       "      <td>-0.745</td>\n",
       "      <td>-0.926</td>\n",
       "      <td>-0.738</td>\n",
       "      <td>-1.024</td>\n",
       "      <td>-0.640</td>\n",
       "      <td>-0.952</td>\n",
       "      <td>-0.709</td>\n",
       "      <td>-1.058</td>\n",
       "      <td>-0.604</td>\n",
       "      <td>-0.830727</td>\n",
       "      <td>-1.058</td>\n",
       "      <td>-0.604</td>\n",
       "    </tr>\n",
       "    <tr>\n",
       "      <th>...</th>\n",
       "      <td>...</td>\n",
       "      <td>...</td>\n",
       "      <td>...</td>\n",
       "      <td>...</td>\n",
       "      <td>...</td>\n",
       "      <td>...</td>\n",
       "      <td>...</td>\n",
       "      <td>...</td>\n",
       "      <td>...</td>\n",
       "      <td>...</td>\n",
       "      <td>...</td>\n",
       "      <td>...</td>\n",
       "      <td>...</td>\n",
       "      <td>...</td>\n",
       "    </tr>\n",
       "    <tr>\n",
       "      <th>2016/01</th>\n",
       "      <td>0.934</td>\n",
       "      <td>0.889</td>\n",
       "      <td>0.981</td>\n",
       "      <td>0.908</td>\n",
       "      <td>0.959</td>\n",
       "      <td>0.792</td>\n",
       "      <td>1.075</td>\n",
       "      <td>0.883</td>\n",
       "      <td>0.989</td>\n",
       "      <td>0.784</td>\n",
       "      <td>1.085</td>\n",
       "      <td>0.934455</td>\n",
       "      <td>0.784</td>\n",
       "      <td>1.085</td>\n",
       "    </tr>\n",
       "    <tr>\n",
       "      <th>2016/04</th>\n",
       "      <td>0.937</td>\n",
       "      <td>0.892</td>\n",
       "      <td>0.977</td>\n",
       "      <td>0.913</td>\n",
       "      <td>0.961</td>\n",
       "      <td>0.804</td>\n",
       "      <td>1.070</td>\n",
       "      <td>0.885</td>\n",
       "      <td>0.985</td>\n",
       "      <td>0.794</td>\n",
       "      <td>1.079</td>\n",
       "      <td>0.936091</td>\n",
       "      <td>0.794</td>\n",
       "      <td>1.079</td>\n",
       "    </tr>\n",
       "    <tr>\n",
       "      <th>2015/12</th>\n",
       "      <td>1.024</td>\n",
       "      <td>0.975</td>\n",
       "      <td>1.064</td>\n",
       "      <td>0.998</td>\n",
       "      <td>1.050</td>\n",
       "      <td>0.908</td>\n",
       "      <td>1.140</td>\n",
       "      <td>0.968</td>\n",
       "      <td>1.073</td>\n",
       "      <td>0.894</td>\n",
       "      <td>1.149</td>\n",
       "      <td>1.022091</td>\n",
       "      <td>0.894</td>\n",
       "      <td>1.149</td>\n",
       "    </tr>\n",
       "    <tr>\n",
       "      <th>2016/03</th>\n",
       "      <td>1.106</td>\n",
       "      <td>1.062</td>\n",
       "      <td>1.144</td>\n",
       "      <td>1.082</td>\n",
       "      <td>1.129</td>\n",
       "      <td>0.979</td>\n",
       "      <td>1.232</td>\n",
       "      <td>1.053</td>\n",
       "      <td>1.152</td>\n",
       "      <td>0.965</td>\n",
       "      <td>1.239</td>\n",
       "      <td>1.103909</td>\n",
       "      <td>0.965</td>\n",
       "      <td>1.239</td>\n",
       "    </tr>\n",
       "    <tr>\n",
       "      <th>2016/02</th>\n",
       "      <td>1.111</td>\n",
       "      <td>1.058</td>\n",
       "      <td>1.155</td>\n",
       "      <td>1.084</td>\n",
       "      <td>1.138</td>\n",
       "      <td>0.997</td>\n",
       "      <td>1.225</td>\n",
       "      <td>1.057</td>\n",
       "      <td>1.164</td>\n",
       "      <td>0.986</td>\n",
       "      <td>1.237</td>\n",
       "      <td>1.110182</td>\n",
       "      <td>0.986</td>\n",
       "      <td>1.237</td>\n",
       "    </tr>\n",
       "  </tbody>\n",
       "</table>\n",
       "<p>2019 rows × 14 columns</p>\n",
       "</div>"
      ],
      "text/plain": [
       "             1      2      3      4      5      6      7      8      9     10  \\\n",
       "0                                                                               \n",
       "1893/01 -0.974 -1.057 -0.913 -1.082 -0.866 -1.286 -0.663 -1.111 -0.850 -1.316   \n",
       "1864/01 -0.941 -1.014 -0.873 -1.134 -0.748 -1.472 -0.410 -1.147 -0.736 -1.511   \n",
       "1861/01 -0.893 -0.960 -0.833 -1.066 -0.721 -1.336 -0.451 -1.081 -0.710 -1.375   \n",
       "1862/12 -0.887 -0.978 -0.812 -1.071 -0.702 -1.319 -0.455 -1.093 -0.691 -1.368   \n",
       "1917/03 -0.832 -0.910 -0.745 -0.926 -0.738 -1.024 -0.640 -0.952 -0.709 -1.058   \n",
       "...        ...    ...    ...    ...    ...    ...    ...    ...    ...    ...   \n",
       "2016/01  0.934  0.889  0.981  0.908  0.959  0.792  1.075  0.883  0.989  0.784   \n",
       "2016/04  0.937  0.892  0.977  0.913  0.961  0.804  1.070  0.885  0.985  0.794   \n",
       "2015/12  1.024  0.975  1.064  0.998  1.050  0.908  1.140  0.968  1.073  0.894   \n",
       "2016/03  1.106  1.062  1.144  1.082  1.129  0.979  1.232  1.053  1.152  0.965   \n",
       "2016/02  1.111  1.058  1.155  1.084  1.138  0.997  1.225  1.057  1.164  0.986   \n",
       "\n",
       "            11   average    min    max  \n",
       "0                                       \n",
       "1893/01 -0.641 -0.978091 -1.316 -0.641  \n",
       "1864/01 -0.372 -0.941636 -1.511 -0.372  \n",
       "1861/01 -0.416 -0.894727 -1.375 -0.416  \n",
       "1862/12 -0.415 -0.890091 -1.368 -0.415  \n",
       "1917/03 -0.604 -0.830727 -1.058 -0.604  \n",
       "...        ...       ...    ...    ...  \n",
       "2016/01  1.085  0.934455  0.784  1.085  \n",
       "2016/04  1.079  0.936091  0.794  1.079  \n",
       "2015/12  1.149  1.022091  0.894  1.149  \n",
       "2016/03  1.239  1.103909  0.965  1.239  \n",
       "2016/02  1.237  1.110182  0.986  1.237  \n",
       "\n",
       "[2019 rows x 14 columns]"
      ]
     },
     "execution_count": 32,
     "metadata": {},
     "output_type": "execute_result"
    }
   ],
   "source": [
    "df2"
   ]
  },
  {
   "cell_type": "code",
   "execution_count": 33,
   "metadata": {},
   "outputs": [
    {
     "data": {
      "text/plain": [
       "0\n",
       "1850/01   -0.700\n",
       "1850/02   -0.286\n",
       "1850/03   -0.732\n",
       "1850/04   -0.563\n",
       "1850/05   -0.327\n",
       "           ...  \n",
       "2017/11    0.552\n",
       "2017/12    0.600\n",
       "2018/01    0.554\n",
       "2018/02    0.522\n",
       "2018/03    0.619\n",
       "Name: 1, Length: 2019, dtype: float64"
      ]
     },
     "execution_count": 33,
     "metadata": {},
     "output_type": "execute_result"
    }
   ],
   "source": [
    "# get a certain column\n",
    "df[1]"
   ]
  },
  {
   "cell_type": "code",
   "execution_count": 34,
   "metadata": {},
   "outputs": [
    {
     "data": {
      "text/html": [
       "<div>\n",
       "<style scoped>\n",
       "    .dataframe tbody tr th:only-of-type {\n",
       "        vertical-align: middle;\n",
       "    }\n",
       "\n",
       "    .dataframe tbody tr th {\n",
       "        vertical-align: top;\n",
       "    }\n",
       "\n",
       "    .dataframe thead th {\n",
       "        text-align: right;\n",
       "    }\n",
       "</style>\n",
       "<table border=\"1\" class=\"dataframe\">\n",
       "  <thead>\n",
       "    <tr style=\"text-align: right;\">\n",
       "      <th></th>\n",
       "      <th>1</th>\n",
       "      <th>2</th>\n",
       "      <th>3</th>\n",
       "      <th>4</th>\n",
       "      <th>5</th>\n",
       "      <th>6</th>\n",
       "      <th>7</th>\n",
       "      <th>8</th>\n",
       "      <th>9</th>\n",
       "      <th>10</th>\n",
       "      <th>11</th>\n",
       "      <th>average</th>\n",
       "      <th>min</th>\n",
       "      <th>max</th>\n",
       "    </tr>\n",
       "    <tr>\n",
       "      <th>0</th>\n",
       "      <th></th>\n",
       "      <th></th>\n",
       "      <th></th>\n",
       "      <th></th>\n",
       "      <th></th>\n",
       "      <th></th>\n",
       "      <th></th>\n",
       "      <th></th>\n",
       "      <th></th>\n",
       "      <th></th>\n",
       "      <th></th>\n",
       "      <th></th>\n",
       "      <th></th>\n",
       "      <th></th>\n",
       "    </tr>\n",
       "  </thead>\n",
       "  <tbody>\n",
       "    <tr>\n",
       "      <th>2016/01</th>\n",
       "      <td>0.934</td>\n",
       "      <td>0.889</td>\n",
       "      <td>0.981</td>\n",
       "      <td>0.908</td>\n",
       "      <td>0.959</td>\n",
       "      <td>0.792</td>\n",
       "      <td>1.075</td>\n",
       "      <td>0.883</td>\n",
       "      <td>0.989</td>\n",
       "      <td>0.784</td>\n",
       "      <td>1.085</td>\n",
       "      <td>0.934455</td>\n",
       "      <td>0.784</td>\n",
       "      <td>1.085</td>\n",
       "    </tr>\n",
       "    <tr>\n",
       "      <th>2016/04</th>\n",
       "      <td>0.937</td>\n",
       "      <td>0.892</td>\n",
       "      <td>0.977</td>\n",
       "      <td>0.913</td>\n",
       "      <td>0.961</td>\n",
       "      <td>0.804</td>\n",
       "      <td>1.070</td>\n",
       "      <td>0.885</td>\n",
       "      <td>0.985</td>\n",
       "      <td>0.794</td>\n",
       "      <td>1.079</td>\n",
       "      <td>0.936091</td>\n",
       "      <td>0.794</td>\n",
       "      <td>1.079</td>\n",
       "    </tr>\n",
       "    <tr>\n",
       "      <th>2015/12</th>\n",
       "      <td>1.024</td>\n",
       "      <td>0.975</td>\n",
       "      <td>1.064</td>\n",
       "      <td>0.998</td>\n",
       "      <td>1.050</td>\n",
       "      <td>0.908</td>\n",
       "      <td>1.140</td>\n",
       "      <td>0.968</td>\n",
       "      <td>1.073</td>\n",
       "      <td>0.894</td>\n",
       "      <td>1.149</td>\n",
       "      <td>1.022091</td>\n",
       "      <td>0.894</td>\n",
       "      <td>1.149</td>\n",
       "    </tr>\n",
       "    <tr>\n",
       "      <th>2016/03</th>\n",
       "      <td>1.106</td>\n",
       "      <td>1.062</td>\n",
       "      <td>1.144</td>\n",
       "      <td>1.082</td>\n",
       "      <td>1.129</td>\n",
       "      <td>0.979</td>\n",
       "      <td>1.232</td>\n",
       "      <td>1.053</td>\n",
       "      <td>1.152</td>\n",
       "      <td>0.965</td>\n",
       "      <td>1.239</td>\n",
       "      <td>1.103909</td>\n",
       "      <td>0.965</td>\n",
       "      <td>1.239</td>\n",
       "    </tr>\n",
       "    <tr>\n",
       "      <th>2016/02</th>\n",
       "      <td>1.111</td>\n",
       "      <td>1.058</td>\n",
       "      <td>1.155</td>\n",
       "      <td>1.084</td>\n",
       "      <td>1.138</td>\n",
       "      <td>0.997</td>\n",
       "      <td>1.225</td>\n",
       "      <td>1.057</td>\n",
       "      <td>1.164</td>\n",
       "      <td>0.986</td>\n",
       "      <td>1.237</td>\n",
       "      <td>1.110182</td>\n",
       "      <td>0.986</td>\n",
       "      <td>1.237</td>\n",
       "    </tr>\n",
       "  </tbody>\n",
       "</table>\n",
       "</div>"
      ],
      "text/plain": [
       "             1      2      3      4      5      6      7      8      9     10  \\\n",
       "0                                                                               \n",
       "2016/01  0.934  0.889  0.981  0.908  0.959  0.792  1.075  0.883  0.989  0.784   \n",
       "2016/04  0.937  0.892  0.977  0.913  0.961  0.804  1.070  0.885  0.985  0.794   \n",
       "2015/12  1.024  0.975  1.064  0.998  1.050  0.908  1.140  0.968  1.073  0.894   \n",
       "2016/03  1.106  1.062  1.144  1.082  1.129  0.979  1.232  1.053  1.152  0.965   \n",
       "2016/02  1.111  1.058  1.155  1.084  1.138  0.997  1.225  1.057  1.164  0.986   \n",
       "\n",
       "            11   average    min    max  \n",
       "0                                       \n",
       "2016/01  1.085  0.934455  0.784  1.085  \n",
       "2016/04  1.079  0.936091  0.794  1.079  \n",
       "2015/12  1.149  1.022091  0.894  1.149  \n",
       "2016/03  1.239  1.103909  0.965  1.239  \n",
       "2016/02  1.237  1.110182  0.986  1.237  "
      ]
     },
     "execution_count": 34,
     "metadata": {},
     "output_type": "execute_result"
    }
   ],
   "source": [
    "# boolean indexing\n",
    "df2[df2[1]>0.9]"
   ]
  },
  {
   "cell_type": "code",
   "execution_count": 35,
   "metadata": {},
   "outputs": [
    {
     "data": {
      "text/plain": [
       "year\n",
       "1850   -0.376318\n",
       "1851   -0.221894\n",
       "1852   -0.231598\n",
       "1853   -0.273061\n",
       "1854   -0.253462\n",
       "          ...   \n",
       "2014    0.579667\n",
       "2015    0.763894\n",
       "2016    0.797265\n",
       "2017    0.677697\n",
       "2018    0.565333\n",
       "Name: average, Length: 169, dtype: float64"
      ]
     },
     "execution_count": 35,
     "metadata": {},
     "output_type": "execute_result"
    }
   ],
   "source": [
    "# group by year and calculate the average temperature\n",
    "df['year'] = list(map(lambda x:x[:4], df.index))\n",
    "year_average = df.groupby(df.year).average.mean()\n",
    "year_average"
   ]
  },
  {
   "cell_type": "code",
   "execution_count": 36,
   "metadata": {},
   "outputs": [
    {
     "data": {
      "text/plain": [
       "Index(['1850/01', '1850/02', '1850/03', '1850/04', '1850/05', '1850/06',\n",
       "       '1850/07', '1850/08', '1850/09', '1850/10',\n",
       "       ...\n",
       "       '2017/06', '2017/07', '2017/08', '2017/09', '2017/10', '2017/11',\n",
       "       '2017/12', '2018/01', '2018/02', '2018/03'],\n",
       "      dtype='object', name=0, length=2019)"
      ]
     },
     "execution_count": 36,
     "metadata": {},
     "output_type": "execute_result"
    }
   ],
   "source": [
    "df.index"
   ]
  },
  {
   "cell_type": "code",
   "execution_count": null,
   "metadata": {},
   "outputs": [],
   "source": [
    "type(txt1)"
   ]
  },
  {
   "cell_type": "code",
   "execution_count": null,
   "metadata": {},
   "outputs": [],
   "source": [
    "type(txt1.to_string())"
   ]
  },
  {
   "cell_type": "code",
   "execution_count": null,
   "metadata": {},
   "outputs": [],
   "source": [
    "type(txt1)"
   ]
  },
  {
   "cell_type": "code",
   "execution_count": null,
   "metadata": {},
   "outputs": [],
   "source": [
    "test=txt1.to_string()"
   ]
  },
  {
   "cell_type": "code",
   "execution_count": null,
   "metadata": {},
   "outputs": [],
   "source": [
    "type(test)"
   ]
  },
  {
   "cell_type": "code",
   "execution_count": null,
   "metadata": {},
   "outputs": [],
   "source": [
    "test[8]"
   ]
  },
  {
   "cell_type": "code",
   "execution_count": null,
   "metadata": {},
   "outputs": [],
   "source": []
  }
 ],
 "metadata": {
  "kernelspec": {
   "display_name": "Python 3 (ipykernel)",
   "language": "python",
   "name": "python3"
  },
  "language_info": {
   "codemirror_mode": {
    "name": "ipython",
    "version": 3
   },
   "file_extension": ".py",
   "mimetype": "text/x-python",
   "name": "python",
   "nbconvert_exporter": "python",
   "pygments_lexer": "ipython3",
   "version": "3.9.13"
  }
 },
 "nbformat": 4,
 "nbformat_minor": 2
}
