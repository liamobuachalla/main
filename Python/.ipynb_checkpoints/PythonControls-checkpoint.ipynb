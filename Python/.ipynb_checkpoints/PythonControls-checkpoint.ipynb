{
 "cells": [
  {
   "cell_type": "markdown",
   "metadata": {},
   "source": [
    "# Python Control Statements\n",
    "The so-called \"control statments\" allow the inputted and/or calculated values in the program to determine the next command executed. `if`, `for`, and `while` statements all fall under the category of control statements. \n",
    "## `if` statements\n",
    "`if` statements test a condition and then executes a command depending on whether that condition returns `true` (1) or `false` (0). An `if` can be supplemented with a `else` or and `elsif` for further refinement.\n",
    "\n",
    "<img src=\"figures/ifelifelse.jpg\" width=300>\n"
   ]
  },
  {
   "cell_type": "code",
   "execution_count": 1,
   "metadata": {},
   "outputs": [
    {
     "name": "stdout",
     "output_type": "stream",
     "text": [
      "z is even\n"
     ]
    }
   ],
   "source": [
    "z = 4;\n",
    "if z % 2 == 0:\n",
    "    print(\"z is even\")"
   ]
  },
  {
   "cell_type": "code",
   "execution_count": 2,
   "metadata": {},
   "outputs": [
    {
     "data": {
      "text/plain": [
       "1"
      ]
     },
     "execution_count": 2,
     "metadata": {},
     "output_type": "execute_result"
    }
   ],
   "source": [
    "109%3"
   ]
  },
  {
   "cell_type": "code",
   "execution_count": 3,
   "metadata": {},
   "outputs": [
    {
     "name": "stdout",
     "output_type": "stream",
     "text": [
      "z is odd\n"
     ]
    }
   ],
   "source": [
    "z = 9;\n",
    "if z % 2 == 0:\n",
    "    print(\"z is even\")\n",
    "else:\n",
    "    print(\"z is odd\")"
   ]
  },
  {
   "cell_type": "code",
   "execution_count": 5,
   "metadata": {},
   "outputs": [
    {
     "name": "stdout",
     "output_type": "stream",
     "text": [
      "Looking in the kitchen\n",
      "The kit is pretty big\n"
     ]
    }
   ],
   "source": [
    "room = \"kit\"\n",
    "area = 19\n",
    "if room ==\"kit\":\n",
    "    print(\"Looking in the kitchen\")\n",
    "elif room ==\"bed\":\n",
    "    print(\"Looking in the bedroom\")\n",
    "elif room ==\"liv\":\n",
    "    print(\"Looking in the living room\")\n",
    "else:\n",
    "    print(\"Looking elsewhere\")\n",
    "\n",
    "if area>15:\n",
    "    print(\"The \" +room+ \" is pretty big\")\n",
    "else:\n",
    "    print(\"The \"+room+ \" looks pretty small\")"
   ]
  },
  {
   "cell_type": "markdown",
   "metadata": {},
   "source": [
    "## `for` Loop\n",
    "A `for` loop is used to iterate over a sequence, or perform the same operation on a set of data. Most programming languages have another method of iterating over an arrays, lists, or dictionaries, but a `for` statement is still needed in some cases.\n",
    "\n",
    "<img src=\"figures/forloop.jpg\" width=300>"
   ]
  },
  {
   "cell_type": "code",
   "execution_count": 6,
   "metadata": {},
   "outputs": [
    {
     "name": "stdout",
     "output_type": "stream",
     "text": [
      "1 Mississippi!\n",
      "2 Mississippi!\n",
      "3 Mississippi!\n",
      "4 Mississippi!\n",
      "5 Mississippi!\n",
      "6 Mississippi!\n",
      "7 Mississippi!\n",
      "8 Mississippi!\n",
      "9 Mississippi!\n",
      "10 Mississippi!\n",
      "11 Mississippi!\n",
      "12 Mississippi!\n"
     ]
    }
   ],
   "source": [
    "for k in range(1,13):\n",
    "    print(str(k) + \" Mississippi!\")"
   ]
  },
  {
   "cell_type": "code",
   "execution_count": 7,
   "metadata": {},
   "outputs": [
    {
     "data": {
      "text/plain": [
       "dict_keys(['Alabama', 'Alaska', 'Arizona', 'Arkansas', 'California', 'Colorado', 'Connecticut', 'Delaware', 'District of Columbia', 'Florida', 'Georgia', 'Hawaii', 'Idaho', 'Illinois', 'Indiana', 'Iowa', 'Kansas', 'Kentucky', 'Louisiana', 'Maine', 'Maryland', 'Massachusetts', 'Michigan', 'Minnesota', 'Mississippi', 'Missouri', 'Montana', 'Nebraska', 'Nevada', 'New Hampshire', 'New Jersey', 'New Mexico', 'New York', 'North Carolina', 'North Dakota', 'Ohio', 'Oklahoma', 'Oregon', 'Pennsylvania', 'Rhode Island', 'South Carolina', 'South Dakota', 'Tennessee', 'Texas', 'Utah', 'Vermont', 'Virginia', 'Washington', 'West Virginia', 'Wisconsin', 'Wyoming'])"
      ]
     },
     "execution_count": 7,
     "metadata": {},
     "output_type": "execute_result"
    }
   ],
   "source": [
    "electoral = {\"Alabama\":9,\"Alaska\":3,\"Arizona\":11,\"Arkansas\":6,\"California\":54,\"Colorado\":10,\"Connecticut\":7,\"Delaware\":3,\"District of Columbia\":3,\"Florida\":30,\"Georgia\":16,\"Hawaii\":4,\"Idaho\":4,\"Illinois\":19,\"Indiana\":11,\"Iowa\":6,\"Kansas\":6,\"Kentucky\":8,\"Louisiana\":8,\"Maine\":4,\"Maryland\":10,\"Massachusetts\": 11,\"Michigan\":15,\"Minnesota\":10,\"Mississippi\":6,\"Missouri\":10,\"Montana\":4,\"Nebraska\":5,\"Nevada\":6,\"New Hampshire\":4,\"New Jersey\":14,\"New Mexico\":5,\"New York\":28,\"North Carolina\":16,\"North Dakota\":3,\"Ohio\":17,\"Oklahoma\":7,\"Oregon\":8,\"Pennsylvania\":19,\"Rhode Island\":4,\"South Carolina\":9,\"South Dakota\":3,\"Tennessee\":11,\"Texas\":40,\"Utah\":6,\"Vermont\":3,\"Virginia\":13,\"Washington\":12,\"West Virginia\":4,\"Wisconsin\":10,\"Wyoming\":3}\n",
    "type(electoral)\n",
    "electoral.keys()"
   ]
  },
  {
   "cell_type": "code",
   "execution_count": 8,
   "metadata": {},
   "outputs": [
    {
     "name": "stdout",
     "output_type": "stream",
     "text": [
      "California\n",
      "Florida\n",
      "New York\n",
      "Texas\n",
      "152\n"
     ]
    }
   ],
   "source": [
    "total = 0\n",
    "for k in electoral.keys():\n",
    "    if electoral[k]>20:\n",
    "        total=electoral[k]+total\n",
    "        print(k)\n",
    "print(total)\n"
   ]
  },
  {
   "cell_type": "markdown",
   "metadata": {},
   "source": [
    "## `while` Loop\n",
    "`while` statements will execute a set of commands until a specified condition is satisfied. In Python, you may include an `else` statement that executes after the while loop is done.\n",
    "\n",
    "<img src=\"figures/whileloop.png\" width = 300>"
   ]
  },
  {
   "cell_type": "code",
   "execution_count": 9,
   "metadata": {},
   "outputs": [
    {
     "name": "stdout",
     "output_type": "stream",
     "text": [
      "1\n",
      "2\n",
      "3\n",
      "4\n",
      "5\n",
      "6\n",
      "7\n",
      "8\n"
     ]
    }
   ],
   "source": [
    "k=0\n",
    "while k<8:\n",
    "    k = k + 1;\n",
    "    print(k)"
   ]
  },
  {
   "cell_type": "code",
   "execution_count": 10,
   "metadata": {},
   "outputs": [
    {
     "name": "stdout",
     "output_type": "stream",
     "text": [
      "1\n",
      "2\n",
      "3\n",
      "4\n",
      "5\n",
      "6\n",
      "7\n",
      "8\n",
      "now I counted to 8\n"
     ]
    }
   ],
   "source": [
    "k=0\n",
    "while k<8:\n",
    "    k = k + 1;\n",
    "    print(k)\n",
    "else:\n",
    "    print(\"now I counted to \"+str(k))"
   ]
  },
  {
   "cell_type": "code",
   "execution_count": 12,
   "metadata": {},
   "outputs": [
    {
     "name": "stdout",
     "output_type": "stream",
     "text": [
      "[('California', 54), ('Texas', 40), ('Florida', 30), ('New York', 28), ('Illinois', 19), ('Pennsylvania', 19), ('Ohio', 17), ('Georgia', 16), ('North Carolina', 16), ('Michigan', 15), ('New Jersey', 14), ('Virginia', 13), ('Washington', 12), ('Arizona', 11), ('Indiana', 11), ('Massachusetts', 11), ('Tennessee', 11), ('Colorado', 10), ('Maryland', 10), ('Minnesota', 10), ('Missouri', 10), ('Wisconsin', 10), ('Alabama', 9), ('South Carolina', 9), ('Kentucky', 8), ('Louisiana', 8), ('Oregon', 8), ('Connecticut', 7), ('Oklahoma', 7), ('Arkansas', 6), ('Iowa', 6), ('Kansas', 6), ('Mississippi', 6), ('Nevada', 6), ('Utah', 6), ('Nebraska', 5), ('New Mexico', 5), ('Hawaii', 4), ('Idaho', 4), ('Maine', 4), ('Montana', 4), ('New Hampshire', 4), ('Rhode Island', 4), ('West Virginia', 4), ('Alaska', 3), ('Delaware', 3), ('District of Columbia', 3), ('North Dakota', 3), ('South Dakota', 3), ('Vermont', 3), ('Wyoming', 3)]\n"
     ]
    }
   ],
   "source": [
    "sortedvotes = sorted(electoral.items(), key=lambda x: x[1], reverse=True)\n",
    "print(sortedvotes)"
   ]
  },
  {
   "cell_type": "code",
   "execution_count": 13,
   "metadata": {},
   "outputs": [
    {
     "name": "stdout",
     "output_type": "stream",
     "text": [
      "California\n",
      "Texas\n",
      "Florida\n",
      "New York\n",
      "Illinois\n",
      "Pennsylvania\n",
      "Ohio\n",
      "Georgia\n",
      "North Carolina\n",
      "Michigan\n",
      "New Jersey\n",
      "Virginia\n",
      "It only takes 12 states to win the Presidency\n"
     ]
    }
   ],
   "source": [
    "s=0;\n",
    "k=0;\n",
    "while s<271:\n",
    "    s = sortedvotes[k][1] +s\n",
    "    print(sortedvotes[k][0])\n",
    "    k+=1\n",
    "else: \n",
    "    print(\"It only takes \"+str(k)+ \" states to win the Presidency\")\n",
    "    "
   ]
  },
  {
   "cell_type": "code",
   "execution_count": 11,
   "metadata": {},
   "outputs": [
    {
     "data": {
      "text/plain": [
       "dict_items([('Alabama', 9), ('Alaska', 3), ('Arizona', 11), ('Arkansas', 6), ('California', 54), ('Colorado', 10), ('Connecticut', 7), ('Delaware', 3), ('District of Columbia', 3), ('Florida', 30), ('Georgia', 16), ('Hawaii', 4), ('Idaho', 4), ('Illinois', 19), ('Indiana', 11), ('Iowa', 6), ('Kansas', 6), ('Kentucky', 8), ('Louisiana', 8), ('Maine', 4), ('Maryland', 10), ('Massachusetts', 11), ('Michigan', 15), ('Minnesota', 10), ('Mississippi', 6), ('Missouri', 10), ('Montana', 4), ('Nebraska', 5), ('Nevada', 6), ('New Hampshire', 4), ('New Jersey', 14), ('New Mexico', 5), ('New York', 28), ('North Carolina', 16), ('North Dakota', 3), ('Ohio', 17), ('Oklahoma', 7), ('Oregon', 8), ('Pennsylvania', 19), ('Rhode Island', 4), ('South Carolina', 9), ('South Dakota', 3), ('Tennessee', 11), ('Texas', 40), ('Utah', 6), ('Vermont', 3), ('Virginia', 13), ('Washington', 12), ('West Virginia', 4), ('Wisconsin', 10), ('Wyoming', 3)])"
      ]
     },
     "execution_count": 11,
     "metadata": {},
     "output_type": "execute_result"
    }
   ],
   "source": [
    "electoral.items()"
   ]
  },
  {
   "cell_type": "markdown",
   "metadata": {},
   "source": [
    "# `Try`/`Except` Statements\n",
    "\n",
    "\n",
    "<img src=\"figures/trystatement.png\" width=400>\n",
    "`try`/`except` statements are used to catch exceptions (errors) that are thrown by Python. The advantage of using a `try` statement is that it allows your program to continue and possibly fix the problem. At the very least, it will allow you to clean up after the error.\n",
    "\n",
    "The `try` statement can contain several components. The code underneath `try` always executes. Only when that code throws an exception does the code underneath `except` run. You may also include an `else` statement that runs when no exception is thrown. Finally, you can include a `finally` statement that always executes. \n",
    "\n",
    "Whenever a step in your code is at risk of running into an error, you should think about putting a `try` statement before it. For example, when trying to open a file, a number of things can go wrong.   "
   ]
  },
  {
   "cell_type": "code",
   "execution_count": 14,
   "metadata": {},
   "outputs": [
    {
     "name": "stdout",
     "output_type": "stream",
     "text": [
      "Something went wrong with the file\n"
     ]
    }
   ],
   "source": [
    "try:\n",
    "    #open a non-existent file\n",
    "    fhandle = open('NotAFile.txt','r')\n",
    "except:\n",
    "    #print something in the case of an error\n",
    "    print(\"Something went wrong with the file\")"
   ]
  },
  {
   "cell_type": "code",
   "execution_count": 15,
   "metadata": {},
   "outputs": [
    {
     "name": "stdout",
     "output_type": "stream",
     "text": [
      "1000\n",
      "\n"
     ]
    }
   ],
   "source": [
    "try:\n",
    "    #open an existent file?\n",
    "    fhandle = open('input.txt','r')\n",
    "except:\n",
    "    print(\"Something went wrong with the file\")\n",
    "else:\n",
    "    x = fhandle.readline()\n",
    "    print(x)\n",
    "    fhandle.close()"
   ]
  },
  {
   "cell_type": "code",
   "execution_count": 21,
   "metadata": {},
   "outputs": [
    {
     "name": "stdout",
     "output_type": "stream",
     "text": [
      "73\n",
      "[220, 110.0, 55.0, 166.0, 83.0, 250.0, 125.0, 376.0, 188.0, 94.0, 47.0, 142.0, 71.0, 214.0, 107.0, 322.0, 161.0, 484.0, 242.0, 121.0, 364.0, 182.0, 91.0, 274.0, 137.0, 412.0, 206.0, 103.0, 310.0, 155.0, 466.0, 233.0, 700.0, 350.0, 175.0, 526.0, 263.0, 790.0, 395.0, 1186.0, 593.0, 1780.0, 890.0, 445.0, 1336.0, 668.0, 334.0, 167.0, 502.0, 251.0, 754.0, 377.0, 1132.0, 566.0, 283.0, 850.0, 425.0, 1276.0, 638.0, 319.0, 958.0, 479.0, 1438.0, 719.0, 2158.0, 1079.0, 3238.0, 1619.0, 4858.0, 2429.0, 7288.0, 3644.0, 1822.0, 911.0, 2734.0, 1367.0, 4102.0, 2051.0, 6154.0, 3077.0, 9232.0, 4616.0, 2308.0, 1154.0, 577.0, 1732.0, 866.0, 433.0, 1300.0, 650.0, 325.0, 976.0, 488.0, 244.0, 122.0, 61.0, 184.0, 92.0, 46.0, 23.0, 70.0, 35.0, 106.0, 53.0, 160.0, 80.0, 40.0, 20.0, 10.0, 5.0, 16.0, 8.0, 4.0, 2.0, 1.0]\n"
     ]
    }
   ],
   "source": [
    "listing = []\n",
    "try: \n",
    "    print(variable)\n",
    "except:\n",
    "    print('no such variable')\n",
    "else:\n",
    "    while variable != 1:\n",
    "        if variable % 2:\n",
    "            variable = 3*variable + 1\n",
    "            listing.append(variable)\n",
    "        else:\n",
    "            variable = variable/2\n",
    "            listing.append(variable)\n",
    "finally:\n",
    "    print(listing)"
   ]
  },
  {
   "cell_type": "code",
   "execution_count": 20,
   "metadata": {},
   "outputs": [],
   "source": [
    "variable=73"
   ]
  },
  {
   "cell_type": "code",
   "execution_count": 25,
   "metadata": {},
   "outputs": [
    {
     "name": "stdout",
     "output_type": "stream",
     "text": [
      "yes\n"
     ]
    }
   ],
   "source": [
    "if -98641:\n",
    "    print('yes')"
   ]
  },
  {
   "cell_type": "code",
   "execution_count": null,
   "metadata": {},
   "outputs": [],
   "source": []
  }
 ],
 "metadata": {
  "kernelspec": {
   "display_name": "Python 3 (ipykernel)",
   "language": "python",
   "name": "python3"
  },
  "language_info": {
   "codemirror_mode": {
    "name": "ipython",
    "version": 3
   },
   "file_extension": ".py",
   "mimetype": "text/x-python",
   "name": "python",
   "nbconvert_exporter": "python",
   "pygments_lexer": "ipython3",
   "version": "3.11.5"
  }
 },
 "nbformat": 4,
 "nbformat_minor": 4
}
