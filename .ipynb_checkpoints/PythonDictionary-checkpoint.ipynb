{
 "cells": [
  {
   "cell_type": "markdown",
   "id": "c13c50c4",
   "metadata": {},
   "source": [
    "# Dictionaries in Python\n",
    "The basic data container in Python is a list. A `list` can hold a variety of data types. Once a `list` exists, it can be appended, have elements deleted, and be transformed into `arrays` or `tuples`. Of course, there are more sophisicated ways of storing/accessing/processing data in Python. Let's look at `dictionaries`. Content below is generously sampled from http://openbookproject.net/thinkcs/python/english3e/dictionaries.html.\n",
    "\n",
    "Dictionaries are lists of values that are indexed by `keys`. In other languages, these dictionaries are often referred to `associative arrays` because it is a way to associate `keys` with values.\n",
    "\n",
    "Creating dictionaries allows you to form a one-to-one association between 2 pieces of data, one referred to as a `value` the other as a `key`. Values in dictionaries can be any datatype and can be duplicated. Keys, on the other hand, must be unique and cannot be repeated within the same dictionary. \n",
    "Examples of using dictionaries:\n",
    "* English to Spainish dictionary"
   ]
  },
  {
   "cell_type": "code",
   "execution_count": null,
   "id": "9c83e85e",
   "metadata": {},
   "outputs": [],
   "source": [
    "entosp = {\"one\":\"uno\",\"two\":\"dos\",\"three\":\"tres\"} # `key:value` elements\n",
    "entosp[\"one\"]"
   ]
  },
  {
   "cell_type": "markdown",
   "id": "44a874ca",
   "metadata": {},
   "source": [
    "* Inventory of supplies"
   ]
  },
  {
   "cell_type": "code",
   "execution_count": null,
   "id": "02079184",
   "metadata": {},
   "outputs": [],
   "source": [
    "office = {\"highlighters\":200,\"pencils\":300,\"pens\":500}\n",
    "office['pens']"
   ]
  },
  {
   "cell_type": "markdown",
   "id": "f6510240",
   "metadata": {},
   "source": [
    "* Dictionary for a encryption code:"
   ]
  },
  {
   "cell_type": "code",
   "execution_count": null,
   "id": "fb9bfe99",
   "metadata": {},
   "outputs": [],
   "source": [
    "codex = { \"a\": 1, \"b\": 2, \"c\": 3, \"d\": 4, \"e\": 5, \"f\": 6, \"g\": 7, \"h\": 8, \"i\": 9, \"j\": 10,\"k\": 11,\"l\": 12,\"m\": 13,\"n\": 14,\n",
    "         \"o\": 15,\"p\": 16,\"q\": 17,\"r\": 18,\"s\": 19,\"t\": 20,\"u\": 21,\"v\": 22,\"w\": 23,\"x\": 24,\"y\": 25}\n",
    "print(codex)\n",
    "print(codex[\"g\"])"
   ]
  },
  {
   "cell_type": "markdown",
   "id": "bd7ca843",
   "metadata": {},
   "source": [
    "You can add new keys after the initial definiton:"
   ]
  },
  {
   "cell_type": "code",
   "execution_count": null,
   "id": "d18056cd",
   "metadata": {},
   "outputs": [],
   "source": [
    "codex[\"z\"]=26\n",
    "print(codex)"
   ]
  },
  {
   "cell_type": "markdown",
   "id": "84674540",
   "metadata": {},
   "source": [
    "You can update the values in the dictionary"
   ]
  },
  {
   "cell_type": "code",
   "execution_count": null,
   "id": "f392331b",
   "metadata": {},
   "outputs": [],
   "source": [
    "office[\"pens\"]+=200\n",
    "print(office)"
   ]
  },
  {
   "cell_type": "markdown",
   "id": "6f4797dd",
   "metadata": {},
   "source": [
    "You can find out how many `key:values` pairs a dictionary has"
   ]
  },
  {
   "cell_type": "code",
   "execution_count": null,
   "id": "9a1c20ef",
   "metadata": {},
   "outputs": [],
   "source": [
    "len(codex)"
   ]
  },
  {
   "cell_type": "markdown",
   "id": "63af7869",
   "metadata": {},
   "source": [
    "## Dictionary Methods\n",
    "Dictionaries are a type of class in Python, and classes have functions associated with them called `methods`. Methods allow you to perform operations on and with the dictionary. \n",
    "You can always get the keys and the values from any dictionary, using the methods `keys` and `values`"
   ]
  },
  {
   "cell_type": "code",
   "execution_count": null,
   "id": "4b9eba2c",
   "metadata": {},
   "outputs": [],
   "source": [
    "print(office.values())\n",
    "print(office.keys())\n",
    "print(list(office.values()))"
   ]
  },
  {
   "cell_type": "markdown",
   "id": "46d7ccaf",
   "metadata": {},
   "source": [
    "You can run over all the keys to process the values or run through the values explicitly."
   ]
  },
  {
   "cell_type": "code",
   "execution_count": null,
   "id": "cb6f99c1",
   "metadata": {},
   "outputs": [],
   "source": [
    "print(\"Let's count in Spanish\")\n",
    "for k in entosp.keys():   # The order of the k's is not defined\n",
    "   print(entosp[k])\n"
   ]
  },
  {
   "cell_type": "code",
   "execution_count": null,
   "id": "bbd1d7cf",
   "metadata": {},
   "outputs": [],
   "source": [
    "print(\"Let's look at the code\")\n",
    "for k in codex:   # The order of the k's is defined\n",
    "   print(k,\"oops\") # "
   ]
  },
  {
   "cell_type": "markdown",
   "id": "ab67e496",
   "metadata": {},
   "source": [
    "The method `items` can be used to iterate over the keys and values or to grab both the keys and the values."
   ]
  },
  {
   "cell_type": "code",
   "execution_count": null,
   "id": "866e9b16",
   "metadata": {},
   "outputs": [],
   "source": [
    "list(office.items())"
   ]
  },
  {
   "cell_type": "code",
   "execution_count": null,
   "id": "5ac4198c",
   "metadata": {},
   "outputs": [],
   "source": [
    "for (k,v) in codex.items():\n",
    "    print(k, \"=\", v)"
   ]
  },
  {
   "cell_type": "markdown",
   "id": "68f53372",
   "metadata": {},
   "source": [
    "## Dictionaries and json files\n",
    "One of the more useful applications of dictionaries in python are processing [json files](https://stackoverflow.blog/2022/06/02/a-beginners-guide-to-json-the-data-format-for-the-internet/). JSON files have a format that looks familiar:\n",
    "``` python \n",
    "{\n",
    "  \"key\": \"String\",\n",
    "  \"Number\": 1,\n",
    "  \"array\": [1,2,3],\t\n",
    "  \"nested\": {\n",
    "\t\"literals\": true\n",
    "  }\t\n",
    "}\n",
    "```\n",
    "Yes, this is the exact syntax of a dictionary in Python (this is actually a nested dictionary). Many organizations and cites format their data using `json` formats. \n",
    "\n",
    "Python can pull and process this information directly. People use many packages to pull data from the internet; one of the common packages is `requests`. Using this package's functions you can pull the information contained in any website. The following examples are pulling directly from `json` files.\n",
    "\n",
    "### Particle Data"
   ]
  },
  {
   "cell_type": "code",
   "execution_count": null,
   "id": "64f945d7",
   "metadata": {},
   "outputs": [],
   "source": [
    "import requests as rq\n",
    "particle  = rq.get(\"https://pdg.lbl.gov/2022/pdgid/PDGIdentifiers-2022v0.json\")\n",
    "print(particle)\n",
    "particle_data = particle.json()\n",
    "type(particle_data)"
   ]
  },
  {
   "cell_type": "code",
   "execution_count": null,
   "id": "5f155c90",
   "metadata": {},
   "outputs": [],
   "source": [
    "print(type(particle_data[0]))\n",
    "particle_data[0]"
   ]
  },
  {
   "cell_type": "code",
   "execution_count": null,
   "id": "78f7cd1c",
   "metadata": {},
   "outputs": [],
   "source": [
    "particle_data[0]['description']"
   ]
  },
  {
   "cell_type": "markdown",
   "id": "989b224e",
   "metadata": {},
   "source": [
    "### Time-Date\n",
    "You can pull the current GMT time and Unix epoch time (the number of milliseconds elapsed since January 1, 1970)."
   ]
  },
  {
   "cell_type": "code",
   "execution_count": null,
   "id": "3bc4a1eb",
   "metadata": {},
   "outputs": [],
   "source": [
    "import requests as rq\n",
    "date = rq.get(\"http://date.jsontest.com\")\n",
    "datetime = date.json()"
   ]
  },
  {
   "cell_type": "code",
   "execution_count": null,
   "id": "bbac8d12",
   "metadata": {},
   "outputs": [],
   "source": [
    "datetime['time']"
   ]
  },
  {
   "cell_type": "markdown",
   "id": "e5740d34",
   "metadata": {},
   "source": [
    "### New York City Bikes\n",
    "Organizations and governments can post loads of information for the public."
   ]
  },
  {
   "cell_type": "code",
   "execution_count": null,
   "id": "66964608",
   "metadata": {},
   "outputs": [],
   "source": [
    "import requests as rq\n",
    "bikes = rq.get(\"https://gbfs.citibikenyc.com/gbfs/en/station_information.json\")\n",
    "print(bikes)\n",
    "bikedata = bikes.json()"
   ]
  },
  {
   "cell_type": "code",
   "execution_count": null,
   "id": "970b97c1",
   "metadata": {},
   "outputs": [],
   "source": [
    "type(bikedata)"
   ]
  },
  {
   "cell_type": "code",
   "execution_count": null,
   "id": "ddf30dce",
   "metadata": {},
   "outputs": [],
   "source": [
    "bikedata.keys()"
   ]
  },
  {
   "cell_type": "code",
   "execution_count": null,
   "id": "ab26548a",
   "metadata": {},
   "outputs": [],
   "source": [
    "type(bikedata['data'])"
   ]
  }
 ],
 "metadata": {
  "kernelspec": {
   "display_name": "Python 3 (ipykernel)",
   "language": "python",
   "name": "python3"
  },
  "language_info": {
   "codemirror_mode": {
    "name": "ipython",
    "version": 3
   },
   "file_extension": ".py",
   "mimetype": "text/x-python",
   "name": "python",
   "nbconvert_exporter": "python",
   "pygments_lexer": "ipython3",
   "version": "3.11.5"
  }
 },
 "nbformat": 4,
 "nbformat_minor": 5
}
