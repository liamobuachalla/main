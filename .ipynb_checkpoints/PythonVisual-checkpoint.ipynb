{
 "cells": [
  {
   "cell_type": "markdown",
   "metadata": {},
   "source": [
    "# Visualization in Python\n",
    "The options to visualize data in python are as abundant. Most of the functionality we are going to use is found in `matplotlib.pyplot`. \n",
    "*Warning: the package `pylab` contains functions from `matplotlib.pyplot` and `numpy`, making it feel much more useful. You can use either package, but be aware, some sources say that using `pylab` is no longer recommended. However, it shouldn't be a problem until it is.*\n",
    "\n",
    "**The information below draws liberally from** https://matplotlib.org/users/pyplot_tutorial.html\n",
    "## Functions in Python\n",
    "### Plot()\n",
    "Let's see what `plot()` is like in `matplotlib.pyplot`. The syntax is similar to MATLAB's:\n",
    "\n",
    "```plot(x,y,’<options>’)```\n",
    "\n",
    "`options` allow you to specify line:\n",
    "- type (`.`, `-`, `--`, `o`, `s`)\n",
    "- color (`r`, `g`, `b`, `c`, `m`, `y`, `k`, `w`). \n",
    "\n",
    "Plot will always connect the plotted points\n",
    "\n"
   ]
  },
  {
   "cell_type": "code",
   "execution_count": 2,
   "metadata": {},
   "outputs": [
    {
     "data": {
      "text/plain": [
       "Text(0, 0.5, 'altitude')"
      ]
     },
     "execution_count": 2,
     "metadata": {},
     "output_type": "execute_result"
    },
    {
     "data": {
      "image/png": "[encoded data removed]",
      "text/plain": [
       "<Figure size 640x480 with 1 Axes>"
      ]
     },
     "metadata": {},
     "output_type": "display_data"
    }
   ],
   "source": [
    "import numpy as np\n",
    "import matplotlib.pyplot as mp\n",
    "G = 6.67*10**(-11)\n",
    "M = 5.98*10**(24)\n",
    "R = 6.371*10**6\n",
    "x = np.arange(1.5,90,1)\n",
    "y = (G*M*(3600*x)**2/(4*np.pi**2))**(1/3)-R\n",
    "ploth = mp.plot(x,y/1000,'r--.')\n",
    "mp.xlabel(\"period (hr)\")\n",
    "mp.ylabel(\"altitude\")\n"
   ]
  },
  {
   "cell_type": "code",
   "execution_count": 9,
   "metadata": {},
   "outputs": [
    {
     "ename": "AttributeError",
     "evalue": "'Line2D' object has no attribute 'Properties'",
     "output_type": "error",
     "traceback": [
      "\u001b[1;31m---------------------------------------------------------------------------\u001b[0m",
      "\u001b[1;31mAttributeError\u001b[0m                            Traceback (most recent call last)",
      "Cell \u001b[1;32mIn[9], line 1\u001b[0m\n\u001b[1;32m----> 1\u001b[0m ploth[\u001b[38;5;241m0\u001b[39m]\u001b[38;5;241m.\u001b[39mProperties\n",
      "\u001b[1;31mAttributeError\u001b[0m: 'Line2D' object has no attribute 'Properties'"
     ]
    }
   ],
   "source": [
    "ploth[0].Properties"
   ]
  },
  {
   "cell_type": "markdown",
   "metadata": {},
   "source": [
    "### Scatter()\n",
    "`scatter()` functions just as `plot()` but it won't connect the dots"
   ]
  },
  {
   "cell_type": "code",
   "execution_count": null,
   "metadata": {},
   "outputs": [],
   "source": [
    "v = np.sqrt(G*M/(R+y))\n",
    "mp.scatter(v,y/1000,color='blue')\n",
    "mp.xlabel('velocity');\n",
    "mp.ylabel('altitude')"
   ]
  },
  {
   "cell_type": "markdown",
   "metadata": {},
   "source": [
    "You can even include texts and annonations within the graph itself"
   ]
  },
  {
   "cell_type": "code",
   "execution_count": null,
   "metadata": {},
   "outputs": [],
   "source": [
    "#subplots does create an array of plots, but the default arguments to subplots is col=1, row=1\n",
    "fig, ax = mp.subplots() \n",
    "\n",
    "t = np.arange(0.1, 24,0.4)\n",
    "y = (G*M*(3600*t)**2/(4*np.pi**2))**(1/3)-R\n",
    "ax.scatter(t, y/1000)\n",
    "mp.xlabel('period (hr)')\n",
    "mp.ylabel('altitude (km)')\n",
    "x0 = 1.5\n",
    "y0= (G*M*(3600*x0)**2/(4*np.pi**2))**(1/3)-R\n",
    "ax.annotate('no satellites below this point', xy=(1.5,0), xytext=(5, 5000),\\\n",
    "            arrowprops=dict(facecolor='black', shrink=0.01),)\n"
   ]
  },
  {
   "cell_type": "markdown",
   "metadata": {},
   "source": [
    "### Just a note:\n",
    "You may need to use `show()` to display the plot. \n",
    "\n",
    "**Why is that? That seems unnecessary?**\n",
    "Maybe, but this does allow you to create the entire figure (specifying labels, titles, etc) before it being displayed. You should probably only call `show()` at the end of the program\n",
    "\n",
    "**But I want to see it now!**\n",
    "Using `draw()` will draw the graph immediately (that is if you use pyplot instead of pylab)\n",
    "\n",
    "### Histograms\n",
    "Producing histograms in python can be confusing. There is a `histogram` function in `numpy`, but it will not graph the histogram for you."
   ]
  },
  {
   "cell_type": "code",
   "execution_count": null,
   "metadata": {},
   "outputs": [],
   "source": [
    "rng = np.random.RandomState(10) # ensures consistent seeding\n",
    "hist, bins = np.histogram(rng.normal(size=1000))\n",
    "print(hist.sum())\n",
    "print(bins)"
   ]
  },
  {
   "cell_type": "markdown",
   "metadata": {},
   "source": [
    "You have to load up `matplotlib.pyplot` to graph the histogram (though it does use `np.histogram` to do this)."
   ]
  },
  {
   "cell_type": "code",
   "execution_count": null,
   "metadata": {},
   "outputs": [],
   "source": [
    "a = np.hstack((rng.normal(size=1000), rng.normal(5, 2, size=1000))) #creates two normal distributions\n",
    "h1=mp.hist(a, bins='auto')  # arguments are passed to np.histogram\n",
    "mp.title(\"Histogram with 'auto' bins\")\n",
    "#mp.show()"
   ]
  },
  {
   "cell_type": "markdown",
   "metadata": {},
   "source": [
    "### Multiple figures and axes\n",
    "You can define subplot in a very similar manner as in MATLAB by using the `subplot` command in `matplotlib`. Below is an example of how it works. We will graph several different types of plots in one figure"
   ]
  },
  {
   "cell_type": "code",
   "execution_count": null,
   "metadata": {},
   "outputs": [],
   "source": [
    "# Fixing random state for reproducibility\n",
    "np.random.seed(19680801)\n",
    "\n",
    "# make up some data in the interval\n",
    "y = np.random.normal(loc=0.5, scale=0.4, size=1000) #normal distribution with a mean of 0.5 and a standard dev. of 0.4\n",
    "y = y[(y > 0) & (y < 1)]\n",
    "y.sort()\n",
    "x = np.arange(len(y))\n",
    "\n",
    "# plot with various axes scales\n",
    "mp.figure(1)\n",
    "# can graph in subplots. Below, 221 specifies a two by two grid, the 1 being the first spot in the grid.\n",
    "# linear\n",
    "mp.subplot(221)\n",
    "mp.plot(x, y)\n",
    "mp.yscale('linear')\n",
    "mp.title('linear')\n",
    "mp.grid(True)\n",
    "\n",
    "# log\n",
    "mp.subplot(222)\n",
    "mp.plot(x, y)\n",
    "mp.yscale('log')\n",
    "mp.title('log')\n",
    "mp.grid(True)\n",
    "\n",
    "# symmetric log\n",
    "mp.subplot(223)\n",
    "mp.plot(x, y - y.mean())\n",
    "mp.yscale('symlog', linthresh=0.01)\n",
    "mp.title('symlog')\n",
    "mp.grid(True)\n",
    "\n",
    "# yyaxis\n",
    "mp.subplot(224)\n",
    "ax = mp.gca() #grabs current axis\n",
    "ax2 = ax.twinx() # makes a twin axis in some plot\n",
    "# using ax.plot allows you to plot using a specific axis\n",
    "ax.plot(x, y)\n",
    "ax2.plot(x,3*y**2,'b--')\n",
    "\n",
    "mp.title('yyaxis')\n",
    "mp.grid(True)\n",
    "\n",
    "## strictly for formatting purposes_____\n",
    "from matplotlib.ticker import NullFormatter \n",
    "# Format the minor tick labels of the y-axis into empty strings with\n",
    "# `NullFormatter`, to avoid cumbering the axis with too many labels.\n",
    "mp.gca().yaxis.set_minor_formatter(NullFormatter())\n",
    "# Adjust the subplot layout, because the logit one may take more space\n",
    "# than usual, due to y-tick labels like \"1 - 10^{-3}\"\n",
    "mp.subplots_adjust(top=0.92, bottom=0.08, left=0.10, right=0.95, hspace=0.35,wspace=0.35)\n",
    "#______\n",
    "mp.show()"
   ]
  },
  {
   "cell_type": "markdown",
   "metadata": {},
   "source": [
    "## 3-Dimensional Plotting\n",
    "Originally `matplotlib` was built only with 2-D plotting capabilities, but 3-D capabilities have been added. The following example was taken from [here](https://jakevdp.github.io/PythonDataScienceHandbook/04.12-three-dimensional-plotting.html). Please visit that sight for further details."
   ]
  },
  {
   "cell_type": "code",
   "execution_count": null,
   "metadata": {},
   "outputs": [],
   "source": [
    "# Preamble for setting up 3D graphing\n",
    "from mpl_toolkits import mplot3d\n",
    "%matplotlib inline\n",
    "import numpy as np\n",
    "import matplotlib.pyplot as plt"
   ]
  },
  {
   "cell_type": "code",
   "execution_count": null,
   "metadata": {},
   "outputs": [],
   "source": [
    "fig = plt.figure()\n",
    "ax = plt.axes(projection='3d')"
   ]
  },
  {
   "cell_type": "code",
   "execution_count": null,
   "metadata": {},
   "outputs": [],
   "source": [
    "# Preamble for setting up 3D graphing\n",
    "from mpl_toolkits import mplot3d\n",
    "%matplotlib inline\n",
    "import numpy as np\n",
    "import matplotlib.pyplot as plt\n",
    "fig = plt.figure()\n",
    "ax = plt.axes(projection='3d')\n",
    "# Data for a three-dimensional line\n",
    "zline = np.linspace(0, 15, 1000)\n",
    "xline = np.sin(zline)\n",
    "yline = np.cos(zline)\n",
    "ax.plot3D(xline, yline, zline, 'gray')\n",
    "# Data for three-dimensional scattered points\n",
    "zdata = 15 * np.random.random(100)\n",
    "xdata = np.sin(zdata) + 0.1 * np.random.randn(100)\n",
    "ydata = np.cos(zdata) + 0.1 * np.random.randn(100)\n",
    "ax.scatter3D(xdata, ydata, zdata, c=zdata, cmap='Greens')\n",
    "plt.show()"
   ]
  },
  {
   "cell_type": "markdown",
   "metadata": {},
   "source": [
    "# Animations in Python\n",
    "`matplotlib` contains functions used to animate plots. These functions are in the submodule (subpackage) `matplotlib.animation`. To see what functions are available, you can import this module and use the `dir` method"
   ]
  },
  {
   "cell_type": "code",
   "execution_count": null,
   "metadata": {},
   "outputs": [],
   "source": [
    "import matplotlib.animation as ma\n",
    "dir(ma)"
   ]
  },
  {
   "cell_type": "markdown",
   "metadata": {},
   "source": [
    "we'll look at `FuncAnimation` in detail after we have talked about python functions."
   ]
  },
  {
   "cell_type": "code",
   "execution_count": null,
   "metadata": {},
   "outputs": [],
   "source": []
  }
 ],
 "metadata": {
  "kernelspec": {
   "display_name": "Python 3 (ipykernel)",
   "language": "python",
   "name": "python3"
  },
  "language_info": {
   "codemirror_mode": {
    "name": "ipython",
    "version": 3
   },
   "file_extension": ".py",
   "mimetype": "text/x-python",
   "name": "python",
   "nbconvert_exporter": "python",
   "pygments_lexer": "ipython3",
   "version": "3.11.5"
  }
 },
 "nbformat": 4,
 "nbformat_minor": 2
}
