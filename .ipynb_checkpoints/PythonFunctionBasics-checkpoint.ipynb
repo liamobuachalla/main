{
 "cells": [
  {
   "cell_type": "markdown",
   "metadata": {},
   "source": [
    "# Functions in Python\n",
    "Python allows users to write functions for specific tasks and then build larger, more complicated programs from those function. Functions take specific input (input arguments), carries out a task, and returns output arguments. You can save functions to a file and call them from other scripts, notebooks, or functions that you write. \n",
    "To define a function in Python use the following syntax:\n",
    "\n",
    "``` python\n",
    "def func1(input1, input2,...):\n",
    "    indented code statements\n",
    "    return output(s)\n",
    "```\n",
    "### Keep in mind, indentation is **everything in Python**. The function ends whenever the indentation ends. \n"
   ]
  },
  {
   "cell_type": "markdown",
   "metadata": {},
   "source": [
    "## Why write functions\n",
    "- Allow you to conceptualize the program in smaller sub-steps, one function per sub-step\n",
    "- Allow you to reuse code instead of rewriting the same process\n",
    "- Allow you to keep the  variable namespace clean, variables only exist while a given function excutes\n",
    "- Allow us to test smaller parts of the overall program in isolation"
   ]
  },
  {
   "cell_type": "markdown",
   "metadata": {},
   "source": [
    " ## Scope\n",
    " Scope refers to the availability of any variable within a program. Variables are usually only available in the scope in which they are created.\n",
    " ### Local Scope\n",
    " A `local variable` is one created inside a function. This local variable only exists with its function, referred to as the `local scope`.\n",
    " ### Global Scope\n",
    " `Global variables` are created in the main body of any Python program. They are available anywhere in the program, that is they have `global scope`. "
   ]
  },
  {
   "cell_type": "code",
   "execution_count": null,
   "metadata": {},
   "outputs": [],
   "source": [
    "def expand(size):\n",
    "    import numpy as np\n",
    "    x = np.array([size, size**2, size**(-1)])\n",
    "    return x\n",
    "def pythagoras(a,b):\n",
    "    c = np.sqrt(a*a + b*b)\n",
    "    return c\n",
    "\n",
    "expand(4)\n",
    "pythagoras(4,5)"
   ]
  },
  {
   "cell_type": "markdown",
   "metadata": {},
   "source": [
    "## `print` vs `return`\n",
    "Any program should produce some output. However, the way you deliver the output affects whether you can do anything with that output. We have larger relied on `print` to deliver output, but printing results doesn't allow you to refer back to those results later in the code. "
   ]
  },
  {
   "cell_type": "code",
   "execution_count": null,
   "metadata": {},
   "outputs": [],
   "source": [
    "def first(arg):\n",
    "    print(arg)\n",
    "def second(arg): \n",
    "    return arg\n",
    "\n",
    "first(7)\n",
    "second(48)"
   ]
  },
  {
   "cell_type": "markdown",
   "metadata": {},
   "source": [
    "## `lambda` functions\n",
    "`lambda` functions in Python allow you to define simple, one-line functions."
   ]
  },
  {
   "cell_type": "code",
   "execution_count": null,
   "metadata": {},
   "outputs": [],
   "source": [
    "# lambda function with input x and output as x**2\n",
    "quad = lambda x: x**2"
   ]
  },
  {
   "cell_type": "code",
   "execution_count": null,
   "metadata": {
    "scrolled": true
   },
   "outputs": [],
   "source": [
    "quad(70)"
   ]
  },
  {
   "cell_type": "code",
   "execution_count": null,
   "metadata": {},
   "outputs": [],
   "source": [
    "magn = lambda a,b: sqrt(a*a+b*b)"
   ]
  },
  {
   "cell_type": "code",
   "execution_count": null,
   "metadata": {},
   "outputs": [],
   "source": [
    "magn(8,5)"
   ]
  },
  {
   "cell_type": "markdown",
   "metadata": {},
   "source": [
    "# Take home messages about Python Functions\n",
    "There are several things that you should notice about the function file above:\n",
    "* Anything that outside of function definitions is global, (any function can use it). This is useful when many separate functions need similar data.\n",
    "* Functions can call other functions within the same file. The ordering of the functions doesn't matter.\n",
    "*  `lambda` functions are Python's 'anonymous functions', functions that are defined in 1 line. The syntax takes the form:\n",
    "```python\n",
    "mtokm = lambda x: x/1000;\n",
    "```\n",
    "You can then call `mtokm` as any other function with an input argument `mtokm(x)`\n",
    "\n",
    "* Default arguments are defined in the function definition using `=` sign (not an assignment operator unless there is no input argurment in its place). You may set default values for any of your arguments, but cannot skip arguments in your functions calls.\n",
    "```python\n",
    "def satellite(T,grph = 0,un='hr'):\n",
    "```\n",
    "That is you cannot call satellite using a call of `satellite(3.5, , 1)` and hope that the default argument for `un` will be used (because it won't). "
   ]
  },
  {
   "cell_type": "code",
   "execution_count": null,
   "metadata": {},
   "outputs": [],
   "source": []
  }
 ],
 "metadata": {
  "kernelspec": {
   "display_name": "Python 3 (ipykernel)",
   "language": "python",
   "name": "python3"
  },
  "language_info": {
   "codemirror_mode": {
    "name": "ipython",
    "version": 3
   },
   "file_extension": ".py",
   "mimetype": "text/x-python",
   "name": "python",
   "nbconvert_exporter": "python",
   "pygments_lexer": "ipython3",
   "version": "3.11.5"
  }
 },
 "nbformat": 4,
 "nbformat_minor": 2
}
